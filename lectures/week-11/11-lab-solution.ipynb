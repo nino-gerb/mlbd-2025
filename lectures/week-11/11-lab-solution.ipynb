{
 "cells": [
  {
   "cell_type": "markdown",
   "id": "4cb4ee27-3931-4d90-a8f1-a39470911a89",
   "metadata": {},
   "source": [
    "# Lab 11 Solution - Extended Exercises on Time Series Clustering"
   ]
  },
  {
   "cell_type": "markdown",
   "id": "a130ff2e-9c89-48c9-ac7b-6bf6ab5a6522",
   "metadata": {},
   "source": [
    "You are the Senior Data Scientist in a learning platform called LernTime. Your data science team built a data frame in which each row contains the aggregated features per student (calculated over the first 5 weeks of interactions) and the feature `dropout` indicates whether the student stopped using the platform (1) or not (0) before week 10.\n",
    "\n",
    "The dataframe is in the file `lerntime.csv` and contains the following features:\n",
    "- `video_time`: total video time (in minutes) \n",
    "- `num_sessions` total number of sessions\n",
    "- `num_quizzes`: total number of quizzes attempts\n",
    "- `reading_time`: total theory reading time\n",
    "- `previous_knowledge`: standardized previous knowledge\n",
    "- `browser_speed`: standardized browser speed\n",
    "- `device`:  whether the student logged in using a smartphone (1) or a computer (-1)\n",
    "- `topics`: the topics covered by the user\n",
    "- `education`: current level of education (0: middle school, 1: high school, 2: bachelor, 3: master, 4: Ph.D.).\n",
    "- `dropout`: whether the student stopped using the platform (1) or not (0) before week 5."
   ]
  },
  {
   "cell_type": "code",
   "execution_count": null,
   "id": "dc6fbaba-1a0e-445b-8fd8-c9d54bc2b2e2",
   "metadata": {
    "execution": {
     "iopub.execute_input": "2025-04-28T15:02:54.558429Z",
     "iopub.status.busy": "2025-04-28T15:02:54.557022Z",
     "iopub.status.idle": "2025-04-28T15:02:56.902922Z",
     "shell.execute_reply": "2025-04-28T15:02:56.899399Z",
     "shell.execute_reply.started": "2025-04-28T15:02:54.558288Z"
    }
   },
   "outputs": [],
   "source": [
    "import pandas as pd\n",
    "\n",
    "import numpy as np\n",
    "from scipy import linalg\n",
    "\n",
    "from sklearn.metrics import silhouette_score\n",
    "from sklearn.neighbors import kneighbors_graph\n",
    "from sklearn.metrics.pairwise import pairwise_kernels\n",
    "from sklearn.manifold import spectral_embedding\n",
    "from scipy.sparse.csgraph import laplacian\n",
    "from sklearn.cluster import KMeans\n",
    "from scipy.spatial.distance import pdist, squareform\n",
    "\n",
    "# Data directory\n",
    "DATA_DIR = \"./../../data/\""
   ]
  },
  {
   "cell_type": "code",
   "execution_count": null,
   "id": "222434a0-1950-4704-a312-33e9a10b1105",
   "metadata": {
    "execution": {
     "iopub.execute_input": "2025-04-28T15:02:56.909028Z",
     "iopub.status.busy": "2025-04-28T15:02:56.907668Z",
     "iopub.status.idle": "2025-04-28T15:02:56.934997Z",
     "shell.execute_reply": "2025-04-28T15:02:56.932635Z",
     "shell.execute_reply.started": "2025-04-28T15:02:56.908940Z"
    }
   },
   "outputs": [],
   "source": [
    "df = pd.read_csv(f'{DATA_DIR}/lerntime_dropout.csv')"
   ]
  },
  {
   "cell_type": "code",
   "execution_count": null,
   "id": "1700efd2-92a2-42aa-a841-ba2da6a5074a",
   "metadata": {
    "execution": {
     "iopub.execute_input": "2025-04-28T15:02:56.938504Z",
     "iopub.status.busy": "2025-04-28T15:02:56.937592Z",
     "iopub.status.idle": "2025-04-28T15:02:57.001437Z",
     "shell.execute_reply": "2025-04-28T15:02:57.000409Z",
     "shell.execute_reply.started": "2025-04-28T15:02:56.938449Z"
    }
   },
   "outputs": [],
   "source": [
    "df.head()"
   ]
  },
  {
   "cell_type": "markdown",
   "id": "e4a7f01b-87fb-4cdd-bb4a-902e37b28040",
   "metadata": {},
   "source": [
    "You decide to explore the different type of users. You want to use your knowledge from your ML4BD course and decide to cluster using Spectral Clustering. \n",
    "In the course, you learnt different ways of constructing the similarity graph, yielding the adjacency matrix serving as an input to the Spectral Clustering. \n",
    "Based on your in-depth exploration of the data, you decide to construct the similarity graph as a  *k-nearest neighbor graph*.\n",
    "\n",
    "Your tasks are to:\n",
    "\n",
    "a) Write a function to compute the k-nearest neighbor graph.\n",
    "\n",
    "b) Cluster the users using Spectral Clustering and your k-nearest neighbor graph function (use 4 neighbors). Use only the features *reading_time* and *topics*. You can assume that optimal number of clusters is 2.\n"
   ]
  },
  {
   "cell_type": "markdown",
   "id": "9942acd8-7cff-4367-8497-e232c2b55d38",
   "metadata": {},
   "source": [
    "## a) Computation of the k-nearest neighbor graph \n",
    "Unfortunately, there is no k-nearest neighbor graph implementation available in scikit-learn and you therefore have to implement the function yourself.\n",
    "\n",
    "The function `'k_nearest_neighbor_graph'` takes a similarity matrix `S` as well as the number of neighbors `k` as an input an returns the adjacency matrix `W`.\n",
    "\n",
    "Note that we will not evaluate the coding efficiency of your function. "
   ]
  },
  {
   "cell_type": "code",
   "execution_count": null,
   "id": "815a86bf-c8ec-4e71-a39e-df78e45bce89",
   "metadata": {
    "execution": {
     "iopub.execute_input": "2025-04-28T15:02:57.003908Z",
     "iopub.status.busy": "2025-04-28T15:02:57.003590Z",
     "iopub.status.idle": "2025-04-28T15:02:57.030302Z",
     "shell.execute_reply": "2025-04-28T15:02:57.027923Z",
     "shell.execute_reply.started": "2025-04-28T15:02:57.003877Z"
    }
   },
   "outputs": [],
   "source": [
    "def k_nearest_neighbor_graph(S, k):\n",
    "    # S: similarity matrix\n",
    "    # k: number of neighbors\n",
    "   \n",
    "    S = np.array(S)\n",
    "    # k+1 because include_self. -S to pass from similarity to distance, +translation to avoid negative values\n",
    "    G = kneighbors_graph(-S + S.max(), k+1, metric='precomputed', mode='connectivity', include_self=True).toarray()\n",
    "    W = (G + G.T).astype(bool) * S\n",
    "    \n",
    "    return W"
   ]
  },
  {
   "cell_type": "code",
   "execution_count": null,
   "id": "ff0ab9a0-239b-4427-8698-e531449d0083",
   "metadata": {
    "execution": {
     "iopub.execute_input": "2025-04-28T15:02:57.034071Z",
     "iopub.status.busy": "2025-04-28T15:02:57.033217Z",
     "iopub.status.idle": "2025-04-28T15:02:57.089390Z",
     "shell.execute_reply": "2025-04-28T15:02:57.085907Z",
     "shell.execute_reply.started": "2025-04-28T15:02:57.033994Z"
    }
   },
   "outputs": [],
   "source": [
    "k = 2\n",
    "# Please run this cell for evaluation purposes\n",
    "S = [[1, 0.2, 0.7, 0.1],\n",
    "     [0.2, 1, 0.8, 0.4],\n",
    "     [0.7, 0.8, 1, 0.6],\n",
    "     [0.1, 0.4, 0.6, 1]]\n",
    "\n",
    "k_nearest_neighbor_graph(S, k)"
   ]
  },
  {
   "cell_type": "code",
   "execution_count": null,
   "id": "a0dc8175-31f9-44fe-9251-510ba327e6a4",
   "metadata": {
    "execution": {
     "iopub.execute_input": "2025-04-28T15:02:57.093611Z",
     "iopub.status.busy": "2025-04-28T15:02:57.092726Z",
     "iopub.status.idle": "2025-04-28T15:02:57.136755Z",
     "shell.execute_reply": "2025-04-28T15:02:57.133433Z",
     "shell.execute_reply.started": "2025-04-28T15:02:57.093534Z"
    }
   },
   "outputs": [],
   "source": [
    "# Please run this cell for evaluation purposes\n",
    "S = [[1, 0.3, 0.01, 0.1],\n",
    "     [0.3, 1, 0.8, 0.9],\n",
    "     [0.01, 0.8, 1, 0.6],\n",
    "     [0.1, 0.9, 0.6, 1]]\n",
    "\n",
    "k_nearest_neighbor_graph(S, k)"
   ]
  },
  {
   "cell_type": "markdown",
   "id": "9964b9b7-356e-474f-b0b5-8d0b1871af1a",
   "metadata": {},
   "source": [
    "## b) Spectral Clustering \n",
    "Perform a spectral clustering using a k-nearest neighbor graph (with 4 neighbors). \n",
    "\n",
    "Use the two features `reading_time` and `topics` only. \n",
    "\n",
    "If you did not manage to solve task a), use a *fully connected graph* as similarity graph to obtain the adjacency matrix `W`. \n",
    "\n",
    "You can assume that the optimal number of clusters is 2. \n",
    "\n",
    "Print the obtained cluster labels. "
   ]
  },
  {
   "cell_type": "code",
   "execution_count": null,
   "id": "d2086809-ec2b-4de2-956d-f455cf058053",
   "metadata": {
    "execution": {
     "iopub.execute_input": "2025-04-28T15:02:57.141930Z",
     "iopub.status.busy": "2025-04-28T15:02:57.140590Z",
     "iopub.status.idle": "2025-04-28T15:02:57.181589Z",
     "shell.execute_reply": "2025-04-28T15:02:57.179102Z",
     "shell.execute_reply.started": "2025-04-28T15:02:57.141836Z"
    }
   },
   "outputs": [],
   "source": [
    "# Function for doing spectral clustering\n",
    "def spectral_clustering(W, n_clusters, random_state=111):\n",
    "    \"\"\"\n",
    "    Spectral clustering\n",
    "    :param W: np array of adjacency matrix\n",
    "    :param n_clusters: number of clusters\n",
    "    :param normed: normalized or unnormalized Laplacian\n",
    "    :return: tuple (kmeans, proj_X, eigenvals_sorted)\n",
    "        WHERE\n",
    "        kmeans scikit learn clustering object\n",
    "        proj_X is np array of transformed data points\n",
    "        eigenvals_sorted is np array with ordered eigenvalues \n",
    "        \n",
    "    \"\"\"\n",
    "    # Compute eigengap heuristic\n",
    "    L = laplacian(W, normed=True)\n",
    "    eigenvals, _ = linalg.eig(L)\n",
    "    eigenvals = np.real(eigenvals)\n",
    "    eigenvals_sorted = eigenvals[np.argsort(eigenvals)]\n",
    "\n",
    "    # Create embedding\n",
    "    random_state = np.random.RandomState(random_state)\n",
    "    proj_X = spectral_embedding(W, n_components=n_clusters,\n",
    "                              random_state=random_state,\n",
    "                              drop_first=False)\n",
    "\n",
    "    # Cluster the points using k-means clustering\n",
    "    kmeans = KMeans(n_clusters=n_clusters, random_state = random_state)\n",
    "    kmeans.fit(proj_X)\n",
    "\n",
    "    return kmeans, proj_X, eigenvals_sorted"
   ]
  },
  {
   "cell_type": "code",
   "execution_count": null,
   "id": "23a9d147-c0e7-4676-993c-46e6b81c8cc6",
   "metadata": {
    "execution": {
     "iopub.execute_input": "2025-04-28T15:02:57.184421Z",
     "iopub.status.busy": "2025-04-28T15:02:57.183770Z",
     "iopub.status.idle": "2025-04-28T15:02:57.386371Z",
     "shell.execute_reply": "2025-04-28T15:02:57.384438Z",
     "shell.execute_reply.started": "2025-04-28T15:02:57.184374Z"
    }
   },
   "outputs": [],
   "source": [
    "time =df[['reading_time']]\n",
    "S1 = pairwise_kernels(time, metric='rbf', gamma=1)\n",
    "\n",
    "topics = df[['topics']].apply(lambda x: set(eval(x.topics)), axis=1).to_numpy().reshape(-1, 1)\n",
    "S2 = squareform(pdist(topics, metric=lambda x, y: float(len(x[0].intersection(y[0])) / len(x[0].union(y[0])))))\n",
    "\n",
    "# Set diagonal to 1\n",
    "gen = tuple([i for i in range(S2.shape[0])])\n",
    "S2[gen, gen] = 1\n",
    "\n",
    "S = (S1 + S2) / 2"
   ]
  },
  {
   "cell_type": "code",
   "execution_count": null,
   "id": "a4d8f768-e1fd-4af8-9278-a45096fadfe6",
   "metadata": {
    "execution": {
     "iopub.execute_input": "2025-04-28T15:02:57.388622Z",
     "iopub.status.busy": "2025-04-28T15:02:57.388296Z",
     "iopub.status.idle": "2025-04-28T15:02:58.450217Z",
     "shell.execute_reply": "2025-04-28T15:02:58.447280Z",
     "shell.execute_reply.started": "2025-04-28T15:02:57.388594Z"
    }
   },
   "outputs": [],
   "source": [
    "# Compute W\n",
    "k = 4\n",
    "W = k_nearest_neighbor_graph(S, 4)\n",
    "\n",
    "# Call the spectral clustering function and print out the labels\n",
    "clusters =2\n",
    "kmeans, proj_X, eigenvals_sorted = spectral_clustering(W, clusters)\n",
    "y_pred = kmeans.labels_\n",
    "print(y_pred)"
   ]
  },
  {
   "cell_type": "code",
   "execution_count": null,
   "id": "c0e045e0-da50-4336-8879-02cc37e2c1ac",
   "metadata": {},
   "outputs": [],
   "source": []
  },
  {
   "cell_type": "code",
   "execution_count": null,
   "id": "807dc5f4-6803-42e0-b67a-d672d2fb4082",
   "metadata": {},
   "outputs": [],
   "source": []
  }
 ],
 "metadata": {
  "kernelspec": {
   "display_name": "Python3",
   "language": "python",
   "name": "python3"
  },
  "language_info": {
   "codemirror_mode": {
    "name": "ipython",
    "version": 3
   },
   "file_extension": ".py",
   "mimetype": "text/x-python",
   "name": "python",
   "nbconvert_exporter": "python",
   "pygments_lexer": "ipython3",
   "version": "3.12.5"
  }
 },
 "nbformat": 4,
 "nbformat_minor": 5
}
