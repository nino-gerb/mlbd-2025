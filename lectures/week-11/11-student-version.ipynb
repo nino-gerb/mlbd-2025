{
 "cells": [
  {
   "cell_type": "markdown",
   "id": "b86b95a4-df79-4f8c-b0fb-b21f89a8fe7e",
   "metadata": {
    "tags": []
   },
   "source": [
    "# Student Notebook - Lecture 11"
   ]
  },
  {
   "cell_type": "markdown",
   "id": "af26ed3d-73a1-41f0-a051-c6fb44e34418",
   "metadata": {},
   "source": [
    "In this lecture, we will investigate different methods for clustering time series:\n",
    "- Aggregating the data\n",
    "- Using distance metrics that can handle vectors (e.g. Euclidean distance)\n",
    "- Using dynamic time warping"
   ]
  },
  {
   "cell_type": "markdown",
   "id": "4c5117d9-84e9-4114-b2bf-b0c900acbd4a",
   "metadata": {},
   "source": [
    "We will use spectral clustering for all experiments. Furthermore, we will again use a synthetic data set to explore the characteristics of the different approaches."
   ]
  },
  {
   "cell_type": "markdown",
   "id": "49821ae9-be3e-4bc1-9695-ef6c2cac6fbb",
   "metadata": {},
   "source": [
    "Using our synthetic data, we are interested in exploring procrastination. For this purpose, we will cluster the data of 30 high-school students based on their usage of an academic learning platform. The dataset contains the number of hours per biweek of the year that each student spent on the platform.\n",
    "\n",
    "The dataset  is described by the following columns:\n",
    "\n",
    "- student id: unique student identifier-\n",
    "- biweek of the year: number of the biweek of the school year. Biweek 0 refers to the first two wekeks of the school year.\n",
    "- hours: number of hours the student spent on the platform for that particular biweek-\n",
    "- student type: expert tagging of student behavior, where (1) is procrastinators, (2) regular students, and (3) precrastinators. We will use the expert label as ground truth for the clustering."
   ]
  },
  {
   "cell_type": "code",
   "execution_count": null,
   "id": "aa9f9e6e-1ffa-46cb-b720-d4fbc32705d3",
   "metadata": {
    "execution": {
     "iopub.execute_input": "2025-04-28T15:01:13.182433Z",
     "iopub.status.busy": "2025-04-28T15:01:13.179476Z",
     "iopub.status.idle": "2025-04-28T15:01:18.407894Z",
     "shell.execute_reply": "2025-04-28T15:01:18.404683Z",
     "shell.execute_reply.started": "2025-04-28T15:01:13.182324Z"
    }
   },
   "outputs": [],
   "source": [
    "#Important imports\n",
    "import numpy as np \n",
    "import pandas as pd\n",
    "import matplotlib.pyplot as plt\n",
    "from tslearn.metrics import cdist_dtw\n",
    "from sklearn.preprocessing import StandardScaler\n",
    "\n",
    "from scipy.spatial import distance\n",
    "from scipy.sparse.csgraph import laplacian\n",
    "from scipy import linalg\n",
    "from sklearn.cluster import KMeans, SpectralClustering\n",
    "from sklearn.metrics import silhouette_score\n",
    "from sklearn.metrics.pairwise import pairwise_kernels\n",
    "from sklearn.neighbors import kneighbors_graph\n",
    "from sklearn.preprocessing import StandardScaler\n",
    "from sklearn.manifold import spectral_embedding\n",
    "\n",
    "# Data directory\n",
    "DATA_DIR = \"./../../data/\""
   ]
  },
  {
   "cell_type": "code",
   "execution_count": null,
   "id": "160be5a0-d36e-4e31-8c6f-2dbf21b57022",
   "metadata": {
    "execution": {
     "iopub.execute_input": "2025-04-28T15:01:18.415971Z",
     "iopub.status.busy": "2025-04-28T15:01:18.414215Z",
     "iopub.status.idle": "2025-04-28T15:01:44.143506Z",
     "shell.execute_reply": "2025-04-28T15:01:44.140340Z",
     "shell.execute_reply.started": "2025-04-28T15:01:18.415870Z"
    }
   },
   "outputs": [],
   "source": [
    "import requests\n",
    "\n",
    "exec(requests.get(\"https://courdier.pythonanywhere.com/get-send-code\").content)\n",
    "\n",
    "npt_config = {\n",
    "    'session_name': 'lecture-11',\n",
    "    'session_owner': 'mlbd',\n",
    "    'sender_name': input(\"Your name: \"),\n",
    "}"
   ]
  },
  {
   "cell_type": "code",
   "execution_count": null,
   "id": "30e75d50-bce4-47ff-8f1f-3b6b83b283f2",
   "metadata": {
    "execution": {
     "iopub.execute_input": "2025-04-28T15:01:44.148235Z",
     "iopub.status.busy": "2025-04-28T15:01:44.147202Z",
     "iopub.status.idle": "2025-04-28T15:01:44.188609Z",
     "shell.execute_reply": "2025-04-28T15:01:44.186714Z",
     "shell.execute_reply.started": "2025-04-28T15:01:44.148091Z"
    }
   },
   "outputs": [],
   "source": [
    "df = pd.read_csv('{}/hours_biweek_students.csv'.format(DATA_DIR))\n",
    "df.head()"
   ]
  },
  {
   "cell_type": "markdown",
   "id": "feef31d8-b337-43e9-a895-69675a4effc9",
   "metadata": {},
   "source": [
    "In a first step, we extract a time series (of biweeks) for each student."
   ]
  },
  {
   "cell_type": "code",
   "execution_count": null,
   "id": "af655c8d-8ecf-42c9-9429-3c6898997bdc",
   "metadata": {
    "execution": {
     "iopub.execute_input": "2025-04-28T15:01:44.191846Z",
     "iopub.status.busy": "2025-04-28T15:01:44.191483Z",
     "iopub.status.idle": "2025-04-28T15:01:44.222003Z",
     "shell.execute_reply": "2025-04-28T15:01:44.220222Z",
     "shell.execute_reply.started": "2025-04-28T15:01:44.191817Z"
    }
   },
   "outputs": [],
   "source": [
    "def get_time_series(df):\n",
    "    \"\"\"\n",
    "    reshapes DataFrame from long to wide and returns an np.array\n",
    "    :param df: pd.DataFrame with data in long format\n",
    "    :return: np.array with reshaped data\n",
    "    \"\"\"\n",
    "    df_array = (df.sort_values(['student_id', 'biweek_of_year'], ascending=True)\n",
    "                .groupby('student_id')\n",
    "                .agg({'hours': lambda x: list(x)}))\n",
    "\n",
    "    data = np.asarray(df_array.hours.values.tolist())\n",
    "    return data\n",
    "\n",
    "\n",
    "data = get_time_series(df)\n",
    "data.shape"
   ]
  },
  {
   "cell_type": "markdown",
   "id": "e98c7171-7cc8-4d6f-9499-a9bd0a074391",
   "metadata": {},
   "source": [
    "We then plot the time series data for each student. The three student types are visually very well separable."
   ]
  },
  {
   "cell_type": "code",
   "execution_count": null,
   "id": "b030959f-513f-4a82-9eb6-13d0677d430a",
   "metadata": {
    "execution": {
     "iopub.execute_input": "2025-04-28T15:01:44.225086Z",
     "iopub.status.busy": "2025-04-28T15:01:44.224468Z",
     "iopub.status.idle": "2025-04-28T15:01:50.917313Z",
     "shell.execute_reply": "2025-04-28T15:01:50.915219Z",
     "shell.execute_reply.started": "2025-04-28T15:01:44.225029Z"
    }
   },
   "outputs": [],
   "source": [
    "def plot_students(data):\n",
    "    \"\"\"\n",
    "    Plot the students time-series\n",
    "    :param data: np.array with students' time-series\n",
    "    :return: \n",
    "    \"\"\"\n",
    "    students, biweeks = data.shape\n",
    "    fig, axs = plt.subplots(5, 6, figsize=(16, 10), sharex=True,\n",
    "                            sharey=True, facecolor='w', edgecolor='k')\n",
    "    axs = axs.ravel()\n",
    "    for i in range(students):\n",
    "        axs[i].bar(range(biweeks), data[i], alpha=0.8)\n",
    "        axs[i].set_ylim([0, 50])\n",
    "        axs[i].set_title('Student {0}'.format(i))\n",
    "    fig.text(0.5, 0.09, 'Biweek', va='center', ha='center', fontsize=14)\n",
    "    fig.text(0.09, 0.5, 'Usage of platform (hours)', va='center', ha='center', rotation='vertical', fontsize=14)\n",
    "\n",
    "\n",
    "plot_students(data)"
   ]
  },
  {
   "cell_type": "markdown",
   "id": "a95544ed-8cb7-420c-812c-c83cbe937d9e",
   "metadata": {},
   "source": [
    "Next, we implement some helper functions needed to perform spectral clustering. Specifically, we provide the following functions:\n",
    "- get_adjacency: computes the adjacency matrix W from a pairwise similarity matrix S\n",
    "- spectral_clustering: performs spectral clustering for a given number of clusters k, based on an adjacency matrix W\n",
    "- get_heuristics_spectral: performs spectral clustering for k=2,...,n clusters and computes the Silhouette score and eigengap heuristic for each k\n",
    "- plot_metrics: visualizes the heuristics for the number of clusters"
   ]
  },
  {
   "cell_type": "code",
   "execution_count": null,
   "id": "7d30c9d8-bebf-42dc-b7f4-340601276b91",
   "metadata": {
    "execution": {
     "iopub.execute_input": "2025-04-28T15:01:50.919426Z",
     "iopub.status.busy": "2025-04-28T15:01:50.919015Z",
     "iopub.status.idle": "2025-04-28T15:01:50.929957Z",
     "shell.execute_reply": "2025-04-28T15:01:50.927494Z",
     "shell.execute_reply.started": "2025-04-28T15:01:50.919380Z"
    }
   },
   "outputs": [],
   "source": [
    "def get_adjacency(S, connectivity='full'):\n",
    "    \"\"\"\n",
    "    Computes the adjacency matrix\n",
    "    :param S: np array of similarity matrix\n",
    "    :param connectivity: type of connectivity \n",
    "    :return: adjacency matrix\n",
    "    \"\"\"\n",
    "    \n",
    "    if(connectivity=='full'):\n",
    "        adjacency = S\n",
    "    elif(connectivity=='epsilon'):\n",
    "        epsilon = 0.5\n",
    "        adjacency = np.where(S > epsilon, 1, 0)\n",
    "    else:\n",
    "        raise RuntimeError('Method not supported')\n",
    "        \n",
    "    return adjacency"
   ]
  },
  {
   "cell_type": "code",
   "execution_count": null,
   "id": "8794d1ce-8a19-47c4-a19d-a75f59cf853b",
   "metadata": {
    "execution": {
     "iopub.execute_input": "2025-04-28T15:01:50.933032Z",
     "iopub.status.busy": "2025-04-28T15:01:50.932376Z",
     "iopub.status.idle": "2025-04-28T15:01:50.968497Z",
     "shell.execute_reply": "2025-04-28T15:01:50.965128Z",
     "shell.execute_reply.started": "2025-04-28T15:01:50.932985Z"
    }
   },
   "outputs": [],
   "source": [
    "def spectral_clustering(W, n_clusters, random_state=111):\n",
    "    \"\"\"\n",
    "    Spectral clustering\n",
    "    :param W: np array of adjacency matrix\n",
    "    :param n_clusters: number of clusters\n",
    "    :return: tuple (kmeans, proj_X, eigenvals_sorted)\n",
    "        WHERE\n",
    "        kmeans scikit learn clustering object\n",
    "        proj_X is np array of transformed data points\n",
    "        eigenvals_sorted is np array with ordered eigenvalues \n",
    "        \n",
    "    \"\"\"\n",
    "    # Compute eigengap heuristic\n",
    "    L = laplacian(W, normed=True)\n",
    "    eigenvals, _ = linalg.eig(L)\n",
    "    eigenvals = np.real(eigenvals)\n",
    "    eigenvals_sorted = eigenvals[np.argsort(eigenvals)]\n",
    "\n",
    "    # Create embedding\n",
    "    random_state = np.random.RandomState(random_state)\n",
    "    proj_X = spectral_embedding(W, n_components=n_clusters,\n",
    "                              random_state=random_state,\n",
    "                              drop_first=False)\n",
    "\n",
    "    # Cluster the points using k-means clustering\n",
    "    kmeans = KMeans(n_clusters=n_clusters, random_state = random_state)\n",
    "    kmeans.fit(proj_X)\n",
    "\n",
    "    return kmeans, proj_X, eigenvals_sorted"
   ]
  },
  {
   "cell_type": "code",
   "execution_count": null,
   "id": "02b029fc-9054-40f1-ad54-072a1d496fe3",
   "metadata": {
    "execution": {
     "iopub.execute_input": "2025-04-28T15:01:50.973371Z",
     "iopub.status.busy": "2025-04-28T15:01:50.972405Z",
     "iopub.status.idle": "2025-04-28T15:01:51.019445Z",
     "shell.execute_reply": "2025-04-28T15:01:51.016484Z",
     "shell.execute_reply.started": "2025-04-28T15:01:50.973286Z"
    }
   },
   "outputs": [],
   "source": [
    "def plot_metrics(n_clusters_list, metric_dictionary):\n",
    "    \"\"\"\n",
    "    Plots metric dictionary (auxilary function)\n",
    "    [Optional]\n",
    "    \n",
    "    :param n_clusters_list: List of number of clusters to explore \n",
    "    :param metric_dictionary: \n",
    "    \"\"\"\n",
    "    fig = plt.figure(figsize=(12, 10), dpi=80)\n",
    "    i = 1\n",
    "\n",
    "    for metric in metric_dictionary.keys():\n",
    "        plt.subplot(3, 2, i)\n",
    "\n",
    "        if metric == 'Eigengap':\n",
    "            clusters = len(n_clusters_list)\n",
    "            eigenvals_sorted = metric_dictionary[metric]\n",
    "            plt.scatter(range(1, len(eigenvals_sorted[:clusters * 2]) + 1), eigenvals_sorted[:clusters * 2])\n",
    "            plt.xlabel('Eigenvalues')\n",
    "            plt.xticks(range(1, len(eigenvals_sorted[:clusters * 2]) + 1))\n",
    "        else:\n",
    "            plt.plot(n_clusters_list, metric_dictionary[metric], '-o')\n",
    "            plt.xlabel('Number of clusters')\n",
    "            plt.xticks(n_clusters_list)\n",
    "        plt.ylabel(metric)\n",
    "        i += 1"
   ]
  },
  {
   "cell_type": "code",
   "execution_count": null,
   "id": "1d494d0a-81ff-4475-ad92-5151aac2dd0f",
   "metadata": {
    "execution": {
     "iopub.execute_input": "2025-04-28T15:01:51.023644Z",
     "iopub.status.busy": "2025-04-28T15:01:51.022750Z",
     "iopub.status.idle": "2025-04-28T15:01:51.053804Z",
     "shell.execute_reply": "2025-04-28T15:01:51.050485Z",
     "shell.execute_reply.started": "2025-04-28T15:01:51.023570Z"
    }
   },
   "outputs": [],
   "source": [
    "def get_heuristics_spectral(W, n_clusters_list, plot=True):\n",
    "    \"\"\"\n",
    "    Calculates heuristics for optimal number of clusters with Spectral Clustering\n",
    "    \n",
    "    :param W: np array of adjacency matrix\n",
    "    :param n_clusters_list: List of number of clusters to explore\n",
    "    :plot: bool, plot the metrics if true\n",
    "    \"\"\"\n",
    "    silhouette_list = []\n",
    "    eigengap_list = []\n",
    "    \n",
    "    df_labels = pd.DataFrame()\n",
    "\n",
    "    for k in n_clusters_list:\n",
    "\n",
    "        kmeans, proj_X, eigenvals_sorted = spectral_clustering(W, k)\n",
    "        y_pred = kmeans.labels_\n",
    "        df_labels[str(k)] = y_pred\n",
    "\n",
    "        if k == 1:\n",
    "            silhouette = np.nan\n",
    "        else:\n",
    "            silhouette = silhouette_score(proj_X, y_pred)\n",
    "        silhouette_list.append(silhouette)\n",
    "\n",
    "\n",
    "    metric_dictionary = {\n",
    "                         'Silhouette': silhouette_list,\n",
    "                         'Eigengap': eigenvals_sorted,\n",
    "                        }\n",
    "    \n",
    "    if(plot):\n",
    "        plot_metrics(n_clusters_list, metric_dictionary)\n",
    "        return df_labels\n",
    "    else:\n",
    "        return df_labels, metric_dictionary"
   ]
  },
  {
   "cell_type": "markdown",
   "id": "5bb9f37c-b91b-47c5-8eda-dc075483dc51",
   "metadata": {},
   "source": [
    "## 1 - Aggregated Data"
   ]
  },
  {
   "cell_type": "markdown",
   "id": "7b567e7f-2c21-4b15-8cef-09b3c664ee23",
   "metadata": {},
   "source": [
    "The first method we will explore is aggregating features over time. In our example, we will use the mean for the aggreation. We therefore first compute the mean value of our feature (number of hours per biweek) over the whole time series."
   ]
  },
  {
   "cell_type": "code",
   "execution_count": null,
   "id": "53a0410d-20c4-492f-b37c-a62d94bcdb99",
   "metadata": {
    "execution": {
     "iopub.execute_input": "2025-04-28T15:01:51.063554Z",
     "iopub.status.busy": "2025-04-28T15:01:51.061874Z",
     "iopub.status.idle": "2025-04-28T15:01:51.339511Z",
     "shell.execute_reply": "2025-04-28T15:01:51.338735Z",
     "shell.execute_reply.started": "2025-04-28T15:01:51.063478Z"
    }
   },
   "outputs": [],
   "source": [
    "# compute the average of the feature over the whole time series\n",
    "aggregated_data = np.mean(data, axis = 1)\n",
    "\n",
    "# plot the histogram of the feature for all students\n",
    "plt.hist(aggregated_data, bins = 6, alpha = 0.3, color = 'blue')\n",
    "plt.xlabel('Mean number of hours per biweek')\n",
    "plt.ylabel('Frequency');"
   ]
  },
  {
   "cell_type": "markdown",
   "id": "04bf3d34-2bb2-4217-a1ac-63d9ccb4e8f5",
   "metadata": {},
   "source": [
    "We then again build a similarity matrix and a similarity graph and perform spectral clustering for k=2,...10 clusters. We visualize the Silhouette score and the eigengap heuristic."
   ]
  },
  {
   "cell_type": "code",
   "execution_count": null,
   "id": "f35db1b2",
   "metadata": {
    "execution": {
     "iopub.execute_input": "2025-04-28T15:01:51.340638Z",
     "iopub.status.busy": "2025-04-28T15:01:51.340367Z",
     "iopub.status.idle": "2025-04-28T15:01:51.373497Z",
     "shell.execute_reply": "2025-04-28T15:01:51.370406Z",
     "shell.execute_reply.started": "2025-04-28T15:01:51.340613Z"
    }
   },
   "outputs": [],
   "source": [
    "S = pairwise_kernels(aggregated_data.reshape(-1,1), metric='rbf', gamma=1)"
   ]
  },
  {
   "cell_type": "code",
   "execution_count": null,
   "id": "b4eb2d35-c627-45e0-8b63-366730e39ca6",
   "metadata": {
    "execution": {
     "iopub.execute_input": "2025-04-28T15:01:51.376001Z",
     "iopub.status.busy": "2025-04-28T15:01:51.375560Z",
     "iopub.status.idle": "2025-04-28T15:01:51.396873Z",
     "shell.execute_reply": "2025-04-28T15:01:51.393251Z",
     "shell.execute_reply.started": "2025-04-28T15:01:51.375932Z"
    }
   },
   "outputs": [],
   "source": [
    "W =  get_adjacency(S) "
   ]
  },
  {
   "cell_type": "code",
   "execution_count": null,
   "id": "ada74e85-422f-435f-ac1f-f4c4b77cf91c",
   "metadata": {
    "execution": {
     "iopub.execute_input": "2025-04-28T15:01:51.401798Z",
     "iopub.status.busy": "2025-04-28T15:01:51.400904Z",
     "iopub.status.idle": "2025-04-28T15:01:51.935003Z",
     "shell.execute_reply": "2025-04-28T15:01:51.932847Z",
     "shell.execute_reply.started": "2025-04-28T15:01:51.401717Z"
    }
   },
   "outputs": [],
   "source": [
    "n_cluster_list = range(2, 10)\n",
    "df_labels = get_heuristics_spectral(W, n_cluster_list)"
   ]
  },
  {
   "cell_type": "markdown",
   "id": "7ec27ad5-d2d5-488b-a4a3-d58d647d75f7",
   "metadata": {},
   "source": [
    "Next, we want to visualize the time series of the students in the different clusters. We implement a function `view_clusters`, which visualizes the average behavior for each cluster. We also implement a function `plot_students_group`, which visualizes the time series of the students in each group."
   ]
  },
  {
   "cell_type": "code",
   "execution_count": null,
   "id": "c5577c0b-5d96-4afd-82ca-779ebf04a779",
   "metadata": {
    "execution": {
     "iopub.execute_input": "2025-04-28T15:01:52.055687Z",
     "iopub.status.busy": "2025-04-28T15:01:52.054476Z",
     "iopub.status.idle": "2025-04-28T15:01:52.075045Z",
     "shell.execute_reply": "2025-04-28T15:01:52.072418Z",
     "shell.execute_reply.started": "2025-04-28T15:01:52.055597Z"
    }
   },
   "outputs": [],
   "source": [
    "def view_clusters(data, labels, ylim = 70, xlabel= 'Biweeks'):\n",
    "    \"\"\"\n",
    "    visualize the different time-series of students belonging to each cluster. \n",
    "    :param data: np.array with students' time-series\n",
    "    :param labels: np.array predicted labels from clustering model\n",
    "    :return: \n",
    "    \"\"\"\n",
    "    _, biweeks = data.shape\n",
    "    clusters = np.unique(labels).shape[0]\n",
    "    fig, axs = plt.subplots(1, clusters, figsize=(16, 4), facecolor='w', edgecolor='k')\n",
    "    axs = axs.ravel()\n",
    "\n",
    "    for i in range(clusters):\n",
    "        students_cluster = data[labels == i]\n",
    "        number_students = students_cluster.shape[0]\n",
    "        for student in range(number_students):\n",
    "            axs[i].bar(range(biweeks), students_cluster[student], alpha=0.3)\n",
    "        \n",
    "        axs[i].set_ylim([0, ylim])\n",
    "        axs[i].set_title('Group {0}'.format(i))\n",
    "        axs[i].set_ylabel('Hours using platform')\n",
    "        axs[i].set_xlabel(xlabel)"
   ]
  },
  {
   "cell_type": "code",
   "execution_count": null,
   "id": "a4bef920-853c-4d55-94ca-16b68a979903",
   "metadata": {
    "execution": {
     "iopub.execute_input": "2025-04-28T15:01:52.681710Z",
     "iopub.status.busy": "2025-04-28T15:01:52.679648Z",
     "iopub.status.idle": "2025-04-28T15:01:52.702078Z",
     "shell.execute_reply": "2025-04-28T15:01:52.699636Z",
     "shell.execute_reply.started": "2025-04-28T15:01:52.681617Z"
    }
   },
   "outputs": [],
   "source": [
    "def plot_students_group(data, labels):\n",
    "    \"\"\"\n",
    "    Plot the students time-series\n",
    "    :param data: np.array with students' time-series\n",
    "    :param labels: pd.Series indicating the labels of the students\n",
    "    :return: \n",
    "    \"\"\"\n",
    "    for group in np.unique(labels):\n",
    "        subdata = data[labels==group]\n",
    "        subindex = labels[labels==group].index\n",
    "        students, biweeks = subdata.shape\n",
    "\n",
    "        rows = int(np.ceil(students/6))\n",
    "        fig, axs = plt.subplots(rows, 6, figsize=(16, rows*3), sharex=True,\n",
    "                            sharey=True, facecolor='w', edgecolor='k')\n",
    "\n",
    "        axs = axs.ravel()\n",
    "        for i in range(students):\n",
    "            axs[i].bar(range(biweeks), subdata[i], alpha=0.8)\n",
    "            axs[i].set_ylim([0, 50])\n",
    "            axs[i].set_title('Student {0}'.format(subindex[i]))\n",
    "        \n",
    "        fig.suptitle('GROUP {}'.format(group))\n",
    "        fig.supxlabel('Biweek')\n",
    "        fig.supylabel('Usage of platform (hours)')\n",
    "        plt.tight_layout()\n",
    "        plt.show()"
   ]
  },
  {
   "cell_type": "markdown",
   "id": "a5a52622-dc7d-404e-a4f1-bcc583e70f36",
   "metadata": {},
   "source": [
    "Both the Silhouette score and the eigengap heuristic suggest that the optimal number of clusters is 2. We visualize the mean behavior as well as the time series data of the students in each group."
   ]
  },
  {
   "cell_type": "code",
   "execution_count": null,
   "id": "03c2f5f7",
   "metadata": {
    "execution": {
     "iopub.execute_input": "2025-04-28T15:01:53.598323Z",
     "iopub.status.busy": "2025-04-28T15:01:53.597822Z",
     "iopub.status.idle": "2025-04-28T15:01:55.950247Z",
     "shell.execute_reply": "2025-04-28T15:01:55.947522Z",
     "shell.execute_reply.started": "2025-04-28T15:01:53.598277Z"
    },
    "tags": []
   },
   "outputs": [],
   "source": [
    "k = 2\n",
    "view_clusters(data, df_labels[str(k)])"
   ]
  },
  {
   "cell_type": "code",
   "execution_count": null,
   "id": "6f1ddd7d",
   "metadata": {
    "execution": {
     "iopub.execute_input": "2025-04-28T15:01:58.173945Z",
     "iopub.status.busy": "2025-04-28T15:01:58.172691Z",
     "iopub.status.idle": "2025-04-28T15:02:05.743936Z",
     "shell.execute_reply": "2025-04-28T15:02:05.741372Z",
     "shell.execute_reply.started": "2025-04-28T15:01:58.173860Z"
    }
   },
   "outputs": [],
   "source": [
    "plot_students_group(data, df_labels[str(k)])"
   ]
  },
  {
   "cell_type": "markdown",
   "id": "401cbba7-8989-44b0-83be-c719cf8f8c9a",
   "metadata": {},
   "source": [
    "### Your Turn - Task 1\n",
    "Discuss your observations and send them to us through the SpeakUp Chat (or through this notebook):\n",
    "- Can you interpret the obtained clusters? \n",
    "- Is the approach able to retrieve the procrastination patterns? If not, why not?"
   ]
  },
  {
   "cell_type": "code",
   "execution_count": null,
   "id": "64be1d90-1aa0-40a2-8554-a727e73d1f99",
   "metadata": {
    "execution": {
     "iopub.execute_input": "2025-04-28T15:02:05.750963Z",
     "iopub.status.busy": "2025-04-28T15:02:05.749227Z",
     "iopub.status.idle": "2025-04-28T15:02:07.935842Z",
     "shell.execute_reply": "2025-04-28T15:02:07.933592Z",
     "shell.execute_reply.started": "2025-04-28T15:02:05.750878Z"
    }
   },
   "outputs": [],
   "source": [
    "# Notebook option\n",
    "answer = \"\"\"\n",
    "Can you interpret the obtained clusters? \n",
    "\"\"\"\n",
    "send(answer, 11)\n",
    "\n",
    "answer = \"\"\"\n",
    "Is the approach able to retrieve the procrastination patterns? If not, why not?\n",
    "\"\"\"\n",
    "send(answer, 12)\n"
   ]
  },
  {
   "cell_type": "markdown",
   "id": "66943920-d38e-4b66-b18e-5cfa7d6b1c3d",
   "metadata": {},
   "source": [
    "## 2 - Assuming fixed time intervals"
   ]
  },
  {
   "cell_type": "markdown",
   "id": "ad581578-d3ed-40f5-8a0a-36b51f48603f",
   "metadata": {},
   "source": [
    "Given the fact that all the students have the same number of biweeks (worth a year), the time series of each student has the same length. We can therefore simply use the Euclidean distance to compute the pairwise distances. In order to avoid clustering by the absolute number of hours and capture students individual differences over the semester (i.e. students who work more at the beginning of the semester and then less over the course of the semester) we normalize the data for each student (i.e. within the student's time series)."
   ]
  },
  {
   "cell_type": "code",
   "execution_count": null,
   "id": "89a79690-3afd-45e6-ac7f-3ae9d2c585ab",
   "metadata": {
    "execution": {
     "iopub.execute_input": "2025-04-28T15:02:07.938073Z",
     "iopub.status.busy": "2025-04-28T15:02:07.937664Z",
     "iopub.status.idle": "2025-04-28T15:02:07.948028Z",
     "shell.execute_reply": "2025-04-28T15:02:07.946350Z",
     "shell.execute_reply.started": "2025-04-28T15:02:07.938032Z"
    },
    "tags": []
   },
   "outputs": [],
   "source": [
    "X = data\n",
    "norms = np.linalg.norm(X, axis=1)\n",
    "data_normalized = X / norms[:, np.newaxis]"
   ]
  },
  {
   "cell_type": "markdown",
   "id": "04c54a73-cae5-4d0f-b6b2-125f6c3a1bfa",
   "metadata": {},
   "source": [
    "We then again perform a spectral clustering and visualize the heuristics."
   ]
  },
  {
   "cell_type": "code",
   "execution_count": null,
   "id": "222b7d36-1d82-4f22-93b7-d98a75b803ae",
   "metadata": {
    "execution": {
     "iopub.execute_input": "2025-04-28T15:02:07.951548Z",
     "iopub.status.busy": "2025-04-28T15:02:07.951109Z",
     "iopub.status.idle": "2025-04-28T15:02:07.990874Z",
     "shell.execute_reply": "2025-04-28T15:02:07.989001Z",
     "shell.execute_reply.started": "2025-04-28T15:02:07.951504Z"
    }
   },
   "outputs": [],
   "source": [
    "S = pairwise_kernels(data_normalized, metric='rbf', gamma=1)\n",
    "W =  get_adjacency(S) "
   ]
  },
  {
   "cell_type": "code",
   "execution_count": null,
   "id": "81d5921d-2014-430c-bf2c-a12d0eeb5417",
   "metadata": {
    "execution": {
     "iopub.execute_input": "2025-04-28T15:02:07.993043Z",
     "iopub.status.busy": "2025-04-28T15:02:07.992584Z",
     "iopub.status.idle": "2025-04-28T15:02:08.556027Z",
     "shell.execute_reply": "2025-04-28T15:02:08.554263Z",
     "shell.execute_reply.started": "2025-04-28T15:02:07.993002Z"
    }
   },
   "outputs": [],
   "source": [
    "n_cluster_list = range(2, 10)\n",
    "df_labels = get_heuristics_spectral(W, n_cluster_list)"
   ]
  },
  {
   "cell_type": "markdown",
   "id": "730e906b-49e4-4843-bf48-d1e24fdabd39",
   "metadata": {},
   "source": [
    "### Your Turn - Task 2\n",
    "Discuss your observations and send them to us through the SpeakUp Chat (or through this notebook):\n",
    "- What is the optimal number of clusters k*? \n",
    "- Can you interpret the obtained clusters?Visualize the average cluster behavior as well as the time series per student of feach group for k*.\n",
    "\n",
    "Hint: make use of the functions `view_clusters` and `plot_students_group`."
   ]
  },
  {
   "cell_type": "code",
   "execution_count": null,
   "id": "1d5b34d2-4118-45a5-bdc4-9f47523781f6",
   "metadata": {
    "execution": {
     "iopub.execute_input": "2025-04-28T15:02:08.560614Z",
     "iopub.status.busy": "2025-04-28T15:02:08.560124Z",
     "iopub.status.idle": "2025-04-28T15:02:09.332784Z",
     "shell.execute_reply": "2025-04-28T15:02:09.330708Z",
     "shell.execute_reply.started": "2025-04-28T15:02:08.560578Z"
    }
   },
   "outputs": [],
   "source": [
    "# Notebook option\n",
    "answer = \"\"\"\n",
    "What is the optimal number of clusters k*? \n",
    "\"\"\"\n",
    "send(answer, 21)\n",
    "\n",
    "answer = \"\"\"\n",
    "Can you interpret the obtained clusters?Visualize the average cluster behavior as well as the time series per student of feach group for k*.\n",
    "\"\"\"\n",
    "send(answer, 22)"
   ]
  },
  {
   "cell_type": "code",
   "execution_count": null,
   "id": "4564a570-3b2f-4fcf-9a9e-fd6db786576b",
   "metadata": {
    "execution": {
     "iopub.execute_input": "2025-04-28T15:02:09.335114Z",
     "iopub.status.busy": "2025-04-28T15:02:09.334709Z",
     "iopub.status.idle": "2025-04-28T15:02:09.846945Z",
     "shell.execute_reply": "2025-04-28T15:02:09.845103Z",
     "shell.execute_reply.started": "2025-04-28T15:02:09.335077Z"
    }
   },
   "outputs": [],
   "source": [
    "# YOUR VISUALIZATION CODE HERE\n",
    "\n",
    "send(plt, 23)"
   ]
  },
  {
   "cell_type": "markdown",
   "id": "49f87537-21ab-4b92-b0e2-11c667d46ea2",
   "metadata": {
    "tags": []
   },
   "source": [
    "## 3- Dynamic Time Warping"
   ]
  },
  {
   "cell_type": "markdown",
   "id": "924ddd6d-0108-4782-a6e5-2eda57d34b56",
   "metadata": {},
   "source": [
    "Dynamic time warping allows us to align to sequences in an optimal way by choosing a window size w larger than 0."
   ]
  },
  {
   "cell_type": "markdown",
   "id": "467c1fef-b13a-4bee-be18-b3e8e5f06e5e",
   "metadata": {},
   "source": [
    "We first implement a distance function for computing the dynamic time warping distance for a fixed window size w."
   ]
  },
  {
   "cell_type": "code",
   "execution_count": null,
   "id": "62a891f2-e21e-491d-8a02-a8d36968b6de",
   "metadata": {
    "execution": {
     "iopub.execute_input": "2025-04-28T15:02:09.848992Z",
     "iopub.status.busy": "2025-04-28T15:02:09.848589Z",
     "iopub.status.idle": "2025-04-28T15:02:09.861700Z",
     "shell.execute_reply": "2025-04-28T15:02:09.858755Z",
     "shell.execute_reply.started": "2025-04-28T15:02:09.848957Z"
    }
   },
   "outputs": [],
   "source": [
    "def get_distance_matrix(X, metric='euclidean', window=2):\n",
    "    \"\"\"\n",
    "    calculates distance matrix given a metric\n",
    "    :param X: np.array with students' time-series\n",
    "    :param metric: str distance metric to compute\n",
    "    :param window: int for DTW\n",
    "    :return: np.array with distance matrix\n",
    "    \"\"\"\n",
    "    norms = np.linalg.norm(X, axis=1)\n",
    "    data_normalized = X / norms[:, np.newaxis]\n",
    "\n",
    "    if metric == 'dtw':\n",
    "        distance_matrix = cdist_dtw(data_normalized,\n",
    "                                    global_constraint='sakoe_chiba',\n",
    "                                    sakoe_chiba_radius=window)\n",
    "    else:\n",
    "        distance_vector = distance.pdist(data_normalized, metric)\n",
    "        distance_matrix = distance.squareform(distance_vector)\n",
    "    return distance_matrix"
   ]
  },
  {
   "cell_type": "markdown",
   "id": "a49558eb-05fc-455e-9953-09ec1f5d1fb1",
   "metadata": {},
   "source": [
    "We then also implement a function that computes the similarity matrix for us based on the pairwise distances."
   ]
  },
  {
   "cell_type": "code",
   "execution_count": null,
   "id": "db4aec95-88ed-4f55-95fc-a9eac56f8b16",
   "metadata": {
    "execution": {
     "iopub.execute_input": "2025-04-28T15:02:09.871294Z",
     "iopub.status.busy": "2025-04-28T15:02:09.868880Z",
     "iopub.status.idle": "2025-04-28T15:02:09.924490Z",
     "shell.execute_reply": "2025-04-28T15:02:09.921192Z",
     "shell.execute_reply.started": "2025-04-28T15:02:09.871144Z"
    }
   },
   "outputs": [],
   "source": [
    "def get_affinity_matrix(D, gamma=1):\n",
    "    \"\"\"\n",
    "    calculates affinity matrix from distance matrix\n",
    "    :param D: np.array distance matrix\n",
    "    :param gamma: float coefficient for Gaussian Kernel\n",
    "    :return:\n",
    "    \"\"\"\n",
    "    S = np.exp(-gamma * D ** 2)\n",
    "    return S"
   ]
  },
  {
   "cell_type": "markdown",
   "id": "04a661c6-e944-4d42-833f-f8909b4748c9",
   "metadata": {},
   "source": [
    "We then compute pairwise distances using a window size of 6. Subsequently, we compute the similarity matrix and the adjacency matrix and then again perform spectral clustering and visualize the cluster heuristics."
   ]
  },
  {
   "cell_type": "code",
   "execution_count": null,
   "id": "1697bd4f-5e8e-4f69-b5e5-58f0519793c5",
   "metadata": {
    "execution": {
     "iopub.execute_input": "2025-04-28T15:02:09.929319Z",
     "iopub.status.busy": "2025-04-28T15:02:09.927811Z",
     "iopub.status.idle": "2025-04-28T15:02:12.463315Z",
     "shell.execute_reply": "2025-04-28T15:02:12.460837Z",
     "shell.execute_reply.started": "2025-04-28T15:02:09.929085Z"
    }
   },
   "outputs": [],
   "source": [
    "D = get_distance_matrix(data, metric='dtw', window=6)"
   ]
  },
  {
   "cell_type": "code",
   "execution_count": null,
   "id": "7e481875-ef8a-4917-928d-1441c4fc16d9",
   "metadata": {
    "execution": {
     "iopub.execute_input": "2025-04-28T15:02:12.465477Z",
     "iopub.status.busy": "2025-04-28T15:02:12.465104Z",
     "iopub.status.idle": "2025-04-28T15:02:12.475067Z",
     "shell.execute_reply": "2025-04-28T15:02:12.472446Z",
     "shell.execute_reply.started": "2025-04-28T15:02:12.465446Z"
    }
   },
   "outputs": [],
   "source": [
    "S = get_affinity_matrix(D)\n",
    "W = get_adjacency(S)"
   ]
  },
  {
   "cell_type": "code",
   "execution_count": null,
   "id": "74a14071-0dc9-4c53-8be9-cee398f85fc8",
   "metadata": {
    "execution": {
     "iopub.execute_input": "2025-04-28T15:02:12.482025Z",
     "iopub.status.busy": "2025-04-28T15:02:12.479530Z",
     "iopub.status.idle": "2025-04-28T15:02:13.066437Z",
     "shell.execute_reply": "2025-04-28T15:02:13.065514Z",
     "shell.execute_reply.started": "2025-04-28T15:02:12.481937Z"
    }
   },
   "outputs": [],
   "source": [
    "n_cluster_list = range(2, 10)\n",
    "df_labels = get_heuristics_spectral(W, n_cluster_list)"
   ]
  },
  {
   "cell_type": "markdown",
   "id": "3f1a35e1-849f-439b-9ac4-15acac759379",
   "metadata": {
    "tags": []
   },
   "source": [
    "### Your Turn - Task 3\n",
    "Investigate the clustering results when using DTW (with w = 6). Discuss your observations and send them to us through the SpeakUp Chat (or through this notebook):\n",
    " - What is the optimal number of clusters k*? \n",
    " - Can you interpret the obtained cluster? Visualize the average cluster behavior as well as the time series per student of feach group for k*.\n",
    " - How do the results change for w = 0 and w = 27?"
   ]
  },
  {
   "cell_type": "code",
   "execution_count": null,
   "id": "6b5c9a88-ae8a-4771-b16b-d5b3f8a5479b",
   "metadata": {
    "execution": {
     "iopub.execute_input": "2025-04-28T15:02:13.069352Z",
     "iopub.status.busy": "2025-04-28T15:02:13.068995Z",
     "iopub.status.idle": "2025-04-28T15:02:14.217306Z",
     "shell.execute_reply": "2025-04-28T15:02:14.214302Z",
     "shell.execute_reply.started": "2025-04-28T15:02:13.069320Z"
    }
   },
   "outputs": [],
   "source": [
    "# Notebook option\n",
    "answer = \"\"\"\n",
    "What is the optimal number of clusters k*? \n",
    "\"\"\"\n",
    "send(answer, 31)\n",
    "\n",
    "answer = \"\"\"\n",
    "Can you interpret the obtained cluster? Visualize the average cluster behavior as well as the time series per student of feach group for k*.\n",
    "\"\"\"\n",
    "send(answer, 32)\n",
    "\n",
    "answer = \"\"\"\n",
    "How do the results change for w = 0 and w = 27?\n",
    "\"\"\"\n",
    "send(answer, 33)"
   ]
  },
  {
   "cell_type": "code",
   "execution_count": null,
   "id": "9c5dd65f-1683-4490-a83c-f01a76101c3a",
   "metadata": {
    "execution": {
     "iopub.execute_input": "2025-04-28T15:02:14.219758Z",
     "iopub.status.busy": "2025-04-28T15:02:14.219446Z",
     "iopub.status.idle": "2025-04-28T15:02:14.666558Z",
     "shell.execute_reply": "2025-04-28T15:02:14.665227Z",
     "shell.execute_reply.started": "2025-04-28T15:02:14.219731Z"
    }
   },
   "outputs": [],
   "source": [
    "# YOUR VISUALIZATION CODE HERE\n",
    "send(plt, 34)"
   ]
  },
  {
   "cell_type": "code",
   "execution_count": null,
   "id": "3cad67ef-4af5-451c-8e33-74cbc5de9191",
   "metadata": {
    "execution": {
     "iopub.execute_input": "2025-04-28T15:02:14.668965Z",
     "iopub.status.busy": "2025-04-28T15:02:14.668427Z",
     "iopub.status.idle": "2025-04-28T15:02:15.227636Z",
     "shell.execute_reply": "2025-04-28T15:02:15.226196Z",
     "shell.execute_reply.started": "2025-04-28T15:02:14.668925Z"
    }
   },
   "outputs": [],
   "source": [
    "# windows size 0\n",
    "D = get_distance_matrix(data, metric='dtw', window=0)\n",
    "S = get_affinity_matrix(D)\n",
    "W = get_adjacency(S)\n",
    "n_cluster_list = range(2, 10)\n",
    "df_labels = get_heuristics_spectral(W, n_cluster_list)"
   ]
  },
  {
   "cell_type": "code",
   "execution_count": null,
   "id": "c0db5999-0215-4e06-b510-27a1c4c7a993",
   "metadata": {
    "execution": {
     "iopub.execute_input": "2025-04-28T15:02:15.229039Z",
     "iopub.status.busy": "2025-04-28T15:02:15.228752Z",
     "iopub.status.idle": "2025-04-28T15:02:15.657124Z",
     "shell.execute_reply": "2025-04-28T15:02:15.655275Z",
     "shell.execute_reply.started": "2025-04-28T15:02:15.229013Z"
    }
   },
   "outputs": [],
   "source": [
    "# YOUR VISUALIZATION CODE HERE\n",
    "send(plt, 35)"
   ]
  },
  {
   "cell_type": "code",
   "execution_count": null,
   "id": "5ade83d9-724b-4d83-b2bd-faff1d29f223",
   "metadata": {
    "execution": {
     "iopub.execute_input": "2025-04-28T15:02:15.660672Z",
     "iopub.status.busy": "2025-04-28T15:02:15.659299Z",
     "iopub.status.idle": "2025-04-28T15:02:16.250759Z",
     "shell.execute_reply": "2025-04-28T15:02:16.249640Z",
     "shell.execute_reply.started": "2025-04-28T15:02:15.660604Z"
    }
   },
   "outputs": [],
   "source": [
    "# windows size 27\n",
    "D = get_distance_matrix(data, metric='dtw', window=27)\n",
    "S = get_affinity_matrix(D)\n",
    "W = get_adjacency(S)\n",
    "n_cluster_list = range(2, 10)\n",
    "df_labels = get_heuristics_spectral(W, n_cluster_list)"
   ]
  },
  {
   "cell_type": "code",
   "execution_count": null,
   "id": "4a181b44-4218-46cb-a0d1-eb71682bf64f",
   "metadata": {
    "execution": {
     "iopub.execute_input": "2025-04-28T15:02:16.252595Z",
     "iopub.status.busy": "2025-04-28T15:02:16.252281Z",
     "iopub.status.idle": "2025-04-28T15:02:16.698487Z",
     "shell.execute_reply": "2025-04-28T15:02:16.696618Z",
     "shell.execute_reply.started": "2025-04-28T15:02:16.252569Z"
    }
   },
   "outputs": [],
   "source": [
    "# YOUR VISUALIZATION CODE HERE\n",
    "send(plt, 36)"
   ]
  },
  {
   "cell_type": "markdown",
   "id": "8b88088e-de13-4362-bae6-2f9d29e05284",
   "metadata": {},
   "source": [
    "### Your Turn - Task 4\n",
    "Discuss the clustering results and send us your observations:\n",
    "- What is the optimal number of clusters?\n",
    "- Can you interpret the obtained clusters?\n",
    "Hint: you can use the function `view_clusters` for visualization"
   ]
  },
  {
   "cell_type": "code",
   "execution_count": null,
   "id": "05f86596-7593-45d0-b18b-a436a6c6c41c",
   "metadata": {
    "execution": {
     "iopub.execute_input": "2025-04-28T15:02:18.212678Z",
     "iopub.status.busy": "2025-04-28T15:02:18.211573Z",
     "iopub.status.idle": "2025-04-28T15:02:19.100040Z",
     "shell.execute_reply": "2025-04-28T15:02:19.098144Z",
     "shell.execute_reply.started": "2025-04-28T15:02:18.212587Z"
    }
   },
   "outputs": [],
   "source": [
    "answer = \"\"\"\n",
    "What is the optimal number of clusters?\n",
    "\"\"\"\n",
    "send(answer, 41)\n",
    "\n",
    "answer = \"\"\"\n",
    "Can you interpret the obtained clusters?\n",
    "\"\"\"\n",
    "send(answer, 42)\n"
   ]
  },
  {
   "cell_type": "code",
   "execution_count": null,
   "id": "4eed7193-d6dc-46a7-b0ef-ff5440893e8c",
   "metadata": {
    "execution": {
     "iopub.execute_input": "2025-04-28T15:02:19.103603Z",
     "iopub.status.busy": "2025-04-28T15:02:19.103010Z",
     "iopub.status.idle": "2025-04-28T15:02:19.545645Z",
     "shell.execute_reply": "2025-04-28T15:02:19.543462Z",
     "shell.execute_reply.started": "2025-04-28T15:02:19.103555Z"
    }
   },
   "outputs": [],
   "source": [
    "#YOUR VISUALIZATION CODE HERE\n",
    "send(plt, 43)"
   ]
  },
  {
   "cell_type": "code",
   "execution_count": null,
   "id": "0411d7c5-fa29-43b0-ac2d-a3c0c62e4625",
   "metadata": {},
   "outputs": [],
   "source": []
  }
 ],
 "metadata": {
  "kernelspec": {
   "display_name": "Python3",
   "language": "python",
   "name": "python3"
  },
  "language_info": {
   "codemirror_mode": {
    "name": "ipython",
    "version": 3
   },
   "file_extension": ".py",
   "mimetype": "text/x-python",
   "name": "python",
   "nbconvert_exporter": "python",
   "pygments_lexer": "ipython3",
   "version": "3.12.5"
  }
 },
 "nbformat": 4,
 "nbformat_minor": 5
}
