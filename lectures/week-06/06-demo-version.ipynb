{
 "cells": [
  {
   "cell_type": "markdown",
   "id": "b8135284-1238-480e-89d8-5790b142ea66",
   "metadata": {},
   "source": [
    "# Lecture 6 - Demo Notebook"
   ]
  },
  {
   "cell_type": "markdown",
   "id": "494fe36e-c815-4bae-88b4-6c784e829d1d",
   "metadata": {},
   "source": [
    "ASSISTments is a free tool for assigning and assessing math problems and homework. Teachers can select and assign problem sets. Once they get an assignment, students can complete it at their own pace and with the help of hints, multiple chances, and immediate feedback. Teachers get instant results broken down by individual student or for the whole class. The dataset involves 4,217 middle-school students practicing an electronic tutor that teaches and evaluates students in grade-school math, with a total of 525,534 trials. The student data are in a comma-delimited text file with one row per trial. The columns should correspond to a trial's user id, the order id (timestamp), the skill name, and and whether the student produced a correct response in the trial. More information on the platform can be found [here](https://www.commonsense.org/education/website/assistments). \n",
    "\n",
    "The ASSISTments data sets are often used for benchmarking knowledge tracing models. We will play with a simplified data set that contains the following columns:\n",
    "\n",
    "| Name                   | Description                         |\n",
    "| ---------------------- | ------------------------------------------------------------ |\n",
    "| user_id | The ID of the student who is solving the problem.  | |\n",
    "| order_id | The temporal ID (timestamp) associated with the student's answer to the problem.  | |\n",
    "| skill_name | The name of the skill associated with the problem. | |\n",
    "| correct | The student's performance on the problem: 1 if the problem's answer is correct at the first attempt, 0 otherwise. "
   ]
  },
  {
   "cell_type": "markdown",
   "id": "f8f92b49-a6b7-481e-abe3-8bd1d929965f",
   "metadata": {},
   "source": [
    "We first load the data set."
   ]
  },
  {
   "cell_type": "code",
   "execution_count": 10,
   "id": "6cb3cc5d-dfdc-4214-b01c-0f9b8dfa77a7",
   "metadata": {
    "execution": {
     "iopub.execute_input": "2025-03-24T20:10:39.038343Z",
     "iopub.status.busy": "2025-03-24T20:10:39.036034Z",
     "iopub.status.idle": "2025-03-24T20:10:39.054282Z",
     "shell.execute_reply": "2025-03-24T20:10:39.051534Z",
     "shell.execute_reply.started": "2025-03-24T20:10:39.038165Z"
    }
   },
   "outputs": [],
   "source": [
    "# Principal package imports\n",
    "import matplotlib.pyplot as plt\n",
    "import seaborn as sns\n",
    "import pandas as pd\n",
    "import numpy as np\n",
    "import scipy as sc\n",
    "\n",
    "# Scikit-learn package imports\n",
    "from sklearn import feature_extraction, model_selection\n",
    "from sklearn.metrics import root_mean_squared_error, mean_squared_error, roc_auc_score\n",
    "\n",
    "# PyBKT package imports\n",
    "import random\n",
    "old_randint = random.randint\n",
    "random.randint = lambda a, b: old_randint(a, int(b))\n",
    "from pyBKT.models import Model\n",
    "random.randint = old_randint\n",
    "\n",
    "DATA_DIR = \"./../../data/\""
   ]
  },
  {
   "cell_type": "code",
   "execution_count": 2,
   "id": "f0e03b6b-462f-4770-af1c-c0b4fd00f565",
   "metadata": {
    "execution": {
     "iopub.execute_input": "2025-03-24T20:08:47.615969Z",
     "iopub.status.busy": "2025-03-24T20:08:47.614223Z",
     "iopub.status.idle": "2025-03-24T20:08:48.066409Z",
     "shell.execute_reply": "2025-03-24T20:08:48.064207Z",
     "shell.execute_reply.started": "2025-03-24T20:08:47.615868Z"
    }
   },
   "outputs": [
    {
     "data": {
      "text/html": [
       "<div>\n",
       "<style scoped>\n",
       "    .dataframe tbody tr th:only-of-type {\n",
       "        vertical-align: middle;\n",
       "    }\n",
       "\n",
       "    .dataframe tbody tr th {\n",
       "        vertical-align: top;\n",
       "    }\n",
       "\n",
       "    .dataframe thead th {\n",
       "        text-align: right;\n",
       "    }\n",
       "</style>\n",
       "<table border=\"1\" class=\"dataframe\">\n",
       "  <thead>\n",
       "    <tr style=\"text-align: right;\">\n",
       "      <th></th>\n",
       "      <th>user_id</th>\n",
       "      <th>order_id</th>\n",
       "      <th>skill_name</th>\n",
       "      <th>correct</th>\n",
       "    </tr>\n",
       "  </thead>\n",
       "  <tbody>\n",
       "    <tr>\n",
       "      <th>0</th>\n",
       "      <td>64525</td>\n",
       "      <td>33022537</td>\n",
       "      <td>Box and Whisker</td>\n",
       "      <td>1</td>\n",
       "    </tr>\n",
       "    <tr>\n",
       "      <th>1</th>\n",
       "      <td>64525</td>\n",
       "      <td>33022709</td>\n",
       "      <td>Box and Whisker</td>\n",
       "      <td>1</td>\n",
       "    </tr>\n",
       "    <tr>\n",
       "      <th>2</th>\n",
       "      <td>70363</td>\n",
       "      <td>35450204</td>\n",
       "      <td>Box and Whisker</td>\n",
       "      <td>0</td>\n",
       "    </tr>\n",
       "    <tr>\n",
       "      <th>3</th>\n",
       "      <td>70363</td>\n",
       "      <td>35450295</td>\n",
       "      <td>Box and Whisker</td>\n",
       "      <td>1</td>\n",
       "    </tr>\n",
       "    <tr>\n",
       "      <th>4</th>\n",
       "      <td>70363</td>\n",
       "      <td>35450311</td>\n",
       "      <td>Box and Whisker</td>\n",
       "      <td>0</td>\n",
       "    </tr>\n",
       "  </tbody>\n",
       "</table>\n",
       "</div>"
      ],
      "text/plain": [
       "   user_id  order_id       skill_name  correct\n",
       "0    64525  33022537  Box and Whisker        1\n",
       "1    64525  33022709  Box and Whisker        1\n",
       "2    70363  35450204  Box and Whisker        0\n",
       "3    70363  35450295  Box and Whisker        1\n",
       "4    70363  35450311  Box and Whisker        0"
      ]
     },
     "execution_count": 2,
     "metadata": {},
     "output_type": "execute_result"
    }
   ],
   "source": [
    "assistments = pd.read_csv(DATA_DIR + 'assistments.csv', low_memory=False).dropna()\n",
    "assistments.head()"
   ]
  },
  {
   "cell_type": "markdown",
   "id": "462477a1-47f4-4610-b41e-569cf320903f",
   "metadata": {},
   "source": [
    "Next, we print the number of unique students and skills in this data set."
   ]
  },
  {
   "cell_type": "code",
   "execution_count": 3,
   "id": "6d8bfc64-ddd6-48b7-9a05-5a5453e5f17b",
   "metadata": {
    "execution": {
     "iopub.execute_input": "2025-03-24T20:08:49.034578Z",
     "iopub.status.busy": "2025-03-24T20:08:49.033082Z",
     "iopub.status.idle": "2025-03-24T20:08:49.233833Z",
     "shell.execute_reply": "2025-03-24T20:08:49.230907Z",
     "shell.execute_reply.started": "2025-03-24T20:08:49.034486Z"
    }
   },
   "outputs": [
    {
     "name": "stdout",
     "output_type": "stream",
     "text": [
      "Number of unique students in the dataset: 4151\n",
      "Number of unique skills in the dataset: 110\n"
     ]
    }
   ],
   "source": [
    "print(\"Number of unique students in the dataset:\", len(set(assistments['user_id'])))\n",
    "print(\"Number of unique skills in the dataset:\", len(set(assistments['skill_name'])))"
   ]
  },
  {
   "cell_type": "markdown",
   "id": "03c0945a-27b0-4186-8e02-eb0cebefa86c",
   "metadata": {},
   "source": [
    "To keep things simpler for demonstration purposes, we will focus on the following 6 skills in this lecture:  \n",
    "`'Circle Graph', 'Venn Diagram', 'Mode', 'Division Fractions', 'Finding Percents', 'Area Rectangle'`"
   ]
  },
  {
   "cell_type": "code",
   "execution_count": 4,
   "id": "1d161bd3-1b37-4768-842c-3c07779ced37",
   "metadata": {
    "execution": {
     "iopub.execute_input": "2025-03-24T20:08:49.909355Z",
     "iopub.status.busy": "2025-03-24T20:08:49.907586Z",
     "iopub.status.idle": "2025-03-24T20:08:49.992420Z",
     "shell.execute_reply": "2025-03-24T20:08:49.990769Z",
     "shell.execute_reply.started": "2025-03-24T20:08:49.909265Z"
    }
   },
   "outputs": [
    {
     "name": "stdout",
     "output_type": "stream",
     "text": [
      "Skill set: {'Finding Percents', 'Circle Graph', 'Division Fractions', 'Mode', 'Area Rectangle', 'Venn Diagram'}\n",
      "Number of unique students in the subset: 1527\n",
      "Number of unique skills in the subset: 6\n"
     ]
    }
   ],
   "source": [
    "skills_subset = ['Circle Graph', 'Venn Diagram', 'Mode', 'Division Fractions', 'Finding Percents', 'Area Rectangle']\n",
    "data = assistments[assistments['skill_name'].isin(skills_subset)]\n",
    "\n",
    "print(\"Skill set:\", set(data['skill_name']))\n",
    "print(\"Number of unique students in the subset:\", len(set(data['user_id'])))\n",
    "print(\"Number of unique skills in the subset:\", len(set(data['skill_name'])))"
   ]
  },
  {
   "cell_type": "markdown",
   "id": "be73a6cb-4f34-446a-a27a-6f403c47076c",
   "metadata": {},
   "source": [
    "## BKT Model - Training & Prediction"
   ]
  },
  {
   "cell_type": "markdown",
   "id": "7f25fc9f-84de-4dd5-8c2e-d6dfb3ce6b1d",
   "metadata": {},
   "source": [
    "We will use a train-test setting (20% of students in the test set). The `create_iterator` function creates an iterator object able to split student's interactions included in data in 10 folds such that the same student does not appear in two different folds. To do so, we appropriately initialize a scikit-learn's GroupShuffleSplit iterator with 80% training set size and non-overlapping groups, then return the iterator."
   ]
  },
  {
   "cell_type": "code",
   "execution_count": 5,
   "id": "d7ea098b-23ab-467f-981d-80b28f97dd99",
   "metadata": {
    "execution": {
     "iopub.execute_input": "2025-03-24T20:08:52.152353Z",
     "iopub.status.busy": "2025-03-24T20:08:52.149855Z",
     "iopub.status.idle": "2025-03-24T20:08:52.164831Z",
     "shell.execute_reply": "2025-03-24T20:08:52.162585Z",
     "shell.execute_reply.started": "2025-03-24T20:08:52.152252Z"
    }
   },
   "outputs": [],
   "source": [
    "def create_iterator(data):\n",
    "    '''\n",
    "    Create an iterator to split interactions in data into train and test, with the same student not appearing in two diverse folds.\n",
    "    :param data:        Dataframe with student's interactions.\n",
    "    :return:            An iterator.\n",
    "    '''    \n",
    "    # Both passing a matrix with the raw data or just an array of indexes works\n",
    "    X = np.arange(len(data.index)) \n",
    "    # Groups of interactions are identified by the user id (we do not want the same user appearing in two folds)\n",
    "    groups = data['user_id'].values \n",
    "    return model_selection.GroupShuffleSplit(n_splits=1, train_size=.8, test_size=0.2, random_state=0).split(X, groups=groups)"
   ]
  },
  {
   "cell_type": "markdown",
   "id": "6b25b9da",
   "metadata": {},
   "source": [
    "Let's check the output of this function and a few properties of the iterator. "
   ]
  },
  {
   "cell_type": "code",
   "execution_count": 6,
   "id": "445a14da",
   "metadata": {
    "execution": {
     "iopub.execute_input": "2025-03-24T20:08:52.876625Z",
     "iopub.status.busy": "2025-03-24T20:08:52.874046Z",
     "iopub.status.idle": "2025-03-24T20:08:52.960493Z",
     "shell.execute_reply": "2025-03-24T20:08:52.959443Z",
     "shell.execute_reply.started": "2025-03-24T20:08:52.876504Z"
    }
   },
   "outputs": [
    {
     "name": "stdout",
     "output_type": "stream",
     "text": [
      "-- Circle Graph --\n",
      "Iteration: 0\n",
      "Intersection between train and test user ids: set()\n",
      "All user ids in train and test user union: True\n",
      "User ids tested more than once: set()\n",
      "\n",
      "-- Venn Diagram --\n",
      "Iteration: 0\n",
      "Intersection between train and test user ids: set()\n",
      "All user ids in train and test user union: True\n",
      "User ids tested more than once: set()\n",
      "\n",
      "-- Mode --\n",
      "Iteration: 0\n",
      "Intersection between train and test user ids: set()\n",
      "All user ids in train and test user union: True\n",
      "User ids tested more than once: set()\n",
      "\n",
      "-- Division Fractions --\n",
      "Iteration: 0\n",
      "Intersection between train and test user ids: set()\n",
      "All user ids in train and test user union: True\n",
      "User ids tested more than once: set()\n",
      "\n",
      "-- Finding Percents --\n",
      "Iteration: 0\n",
      "Intersection between train and test user ids: set()\n",
      "All user ids in train and test user union: True\n",
      "User ids tested more than once: set()\n",
      "\n",
      "-- Area Rectangle --\n",
      "Iteration: 0\n",
      "Intersection between train and test user ids: set()\n",
      "All user ids in train and test user union: True\n",
      "User ids tested more than once: set()\n",
      "\n"
     ]
    }
   ],
   "source": [
    "tested_user_ids = set()\n",
    "for skill in skills_subset:\n",
    "    print(\"--\", skill, \"--\")\n",
    "    skill_data = data[data['skill_name'] == skill]\n",
    "    for iteration, (train_index, test_index) in enumerate(create_iterator(skill_data)):\n",
    "        # There should only be one iteration per skill, because we only specify one fold for the split. \n",
    "        # If we wanted multiple folds, we could expand the n_splits parameter in create_iterator.\n",
    "        user_ids = skill_data['user_id'].unique()\n",
    "        train_user_ids = skill_data.iloc[train_index]['user_id'].unique()\n",
    "        test_user_ids = skill_data.iloc[test_index]['user_id'].unique()\n",
    "        print('Iteration:', iteration)\n",
    "        print('Intersection between train and test user ids:', set(train_user_ids) & set(test_user_ids))\n",
    "        print('All user ids in train and test user union:', len(set(train_user_ids).union(set(test_user_ids))) == len(user_ids))\n",
    "        print('User ids tested more than once:', set(tested_user_ids) & set(test_user_ids))\n",
    "        print('')"
   ]
  },
  {
   "cell_type": "markdown",
   "id": "ab7e2d88",
   "metadata": {},
   "source": [
    "In our split, no user appears in both training and test sets. The union of the users in both training and test sets given us the full set of user ids in the dataset. Each user appears in the test set exactly once.  "
   ]
  },
  {
   "cell_type": "markdown",
   "id": "66539e7b-3fed-453b-9683-a9d44c04f16b",
   "metadata": {},
   "source": [
    "Next, we train a BKT model for each skill on the training data set and then predict on the test data set.\n",
    "We obtain `df_preds`, a data frame containing the predictions for each user and skill in the test data set. We output the overall RMSE and AUC scores."
   ]
  },
  {
   "cell_type": "code",
   "execution_count": 8,
   "id": "14b81851-9d4b-442d-bb49-9053e5634da4",
   "metadata": {
    "execution": {
     "iopub.execute_input": "2025-03-24T20:09:45.612307Z",
     "iopub.status.busy": "2025-03-24T20:09:45.609206Z",
     "iopub.status.idle": "2025-03-24T20:09:55.908979Z",
     "shell.execute_reply": "2025-03-24T20:09:55.906588Z",
     "shell.execute_reply.started": "2025-03-24T20:09:45.612204Z"
    }
   },
   "outputs": [
    {
     "name": "stdout",
     "output_type": "stream",
     "text": [
      "-- Circle Graph --\n",
      "CPU times: user 3.97 s, sys: 6.05 ms, total: 3.97 s\n",
      "Wall time: 1.94 s\n",
      "-- Venn Diagram --\n",
      "CPU times: user 4.11 s, sys: 16.5 ms, total: 4.12 s\n",
      "Wall time: 2.08 s\n",
      "-- Mode --\n",
      "CPU times: user 1.88 s, sys: 6.44 ms, total: 1.88 s\n",
      "Wall time: 878 ms\n",
      "-- Division Fractions --\n",
      "CPU times: user 3.06 s, sys: 5.06 ms, total: 3.06 s\n",
      "Wall time: 1.51 s\n",
      "-- Finding Percents --\n",
      "CPU times: user 3.62 s, sys: 12 ms, total: 3.64 s\n",
      "Wall time: 1.79 s\n",
      "-- Area Rectangle --\n",
      "CPU times: user 1.85 s, sys: 5.38 ms, total: 1.85 s\n",
      "Wall time: 885 ms\n"
     ]
    },
    {
     "data": {
      "text/html": [
       "<div>\n",
       "<style scoped>\n",
       "    .dataframe tbody tr th:only-of-type {\n",
       "        vertical-align: middle;\n",
       "    }\n",
       "\n",
       "    .dataframe tbody tr th {\n",
       "        vertical-align: top;\n",
       "    }\n",
       "\n",
       "    .dataframe thead th {\n",
       "        text-align: right;\n",
       "    }\n",
       "</style>\n",
       "<table border=\"1\" class=\"dataframe\">\n",
       "  <thead>\n",
       "    <tr style=\"text-align: right;\">\n",
       "      <th></th>\n",
       "      <th>user_id</th>\n",
       "      <th>skill_name</th>\n",
       "      <th>correct</th>\n",
       "      <th>correct_predictions</th>\n",
       "    </tr>\n",
       "  </thead>\n",
       "  <tbody>\n",
       "    <tr>\n",
       "      <th>0</th>\n",
       "      <td>64525</td>\n",
       "      <td>Circle Graph</td>\n",
       "      <td>1</td>\n",
       "      <td>0.46759</td>\n",
       "    </tr>\n",
       "    <tr>\n",
       "      <th>1</th>\n",
       "      <td>64525</td>\n",
       "      <td>Circle Graph</td>\n",
       "      <td>1</td>\n",
       "      <td>0.64016</td>\n",
       "    </tr>\n",
       "    <tr>\n",
       "      <th>2</th>\n",
       "      <td>64525</td>\n",
       "      <td>Circle Graph</td>\n",
       "      <td>1</td>\n",
       "      <td>0.69245</td>\n",
       "    </tr>\n",
       "    <tr>\n",
       "      <th>3</th>\n",
       "      <td>64525</td>\n",
       "      <td>Circle Graph</td>\n",
       "      <td>0</td>\n",
       "      <td>0.70315</td>\n",
       "    </tr>\n",
       "    <tr>\n",
       "      <th>4</th>\n",
       "      <td>64525</td>\n",
       "      <td>Circle Graph</td>\n",
       "      <td>1</td>\n",
       "      <td>0.69890</td>\n",
       "    </tr>\n",
       "    <tr>\n",
       "      <th>...</th>\n",
       "      <td>...</td>\n",
       "      <td>...</td>\n",
       "      <td>...</td>\n",
       "      <td>...</td>\n",
       "    </tr>\n",
       "    <tr>\n",
       "      <th>9546</th>\n",
       "      <td>96264</td>\n",
       "      <td>Area Rectangle</td>\n",
       "      <td>1</td>\n",
       "      <td>0.89260</td>\n",
       "    </tr>\n",
       "    <tr>\n",
       "      <th>9547</th>\n",
       "      <td>96264</td>\n",
       "      <td>Area Rectangle</td>\n",
       "      <td>1</td>\n",
       "      <td>0.97978</td>\n",
       "    </tr>\n",
       "    <tr>\n",
       "      <th>9548</th>\n",
       "      <td>96270</td>\n",
       "      <td>Area Rectangle</td>\n",
       "      <td>1</td>\n",
       "      <td>0.89260</td>\n",
       "    </tr>\n",
       "    <tr>\n",
       "      <th>9549</th>\n",
       "      <td>96292</td>\n",
       "      <td>Area Rectangle</td>\n",
       "      <td>1</td>\n",
       "      <td>0.89260</td>\n",
       "    </tr>\n",
       "    <tr>\n",
       "      <th>9550</th>\n",
       "      <td>96295</td>\n",
       "      <td>Area Rectangle</td>\n",
       "      <td>1</td>\n",
       "      <td>0.89260</td>\n",
       "    </tr>\n",
       "  </tbody>\n",
       "</table>\n",
       "<p>9551 rows × 4 columns</p>\n",
       "</div>"
      ],
      "text/plain": [
       "      user_id      skill_name  correct  correct_predictions\n",
       "0       64525    Circle Graph        1              0.46759\n",
       "1       64525    Circle Graph        1              0.64016\n",
       "2       64525    Circle Graph        1              0.69245\n",
       "3       64525    Circle Graph        0              0.70315\n",
       "4       64525    Circle Graph        1              0.69890\n",
       "...       ...             ...      ...                  ...\n",
       "9546    96264  Area Rectangle        1              0.89260\n",
       "9547    96264  Area Rectangle        1              0.97978\n",
       "9548    96270  Area Rectangle        1              0.89260\n",
       "9549    96292  Area Rectangle        1              0.89260\n",
       "9550    96295  Area Rectangle        1              0.89260\n",
       "\n",
       "[9551 rows x 4 columns]"
      ]
     },
     "metadata": {},
     "output_type": "display_data"
    }
   ],
   "source": [
    "rmse_bkt, auc_bkt = [], []\n",
    "df_preds = pd.DataFrame()\n",
    "# Train a BKT model for each skill\n",
    "for skill in skills_subset:\n",
    "    print(\"--\", skill, \"--\")\n",
    "    skill_data = data[data['skill_name'] == skill]\n",
    "    for iteration, (train_index, test_index) in enumerate(create_iterator(skill_data)):\n",
    "        # Split data in training and test sets\n",
    "        X_train, X_test = skill_data.iloc[train_index], skill_data.iloc[test_index]\n",
    "        # Initialize and fit the model\n",
    "        model = Model(seed=0)\n",
    "        %time model.fit(data=X_train) \n",
    "        # Compute predictions\n",
    "        preds = model.predict(data=X_test)[['user_id', 'skill_name', 'correct', 'correct_predictions']]\n",
    "        df_preds = pd.concat([df_preds, preds], ignore_index=True)\n",
    "        \n",
    "# Print the the resulting dataframe\n",
    "display(df_preds)"
   ]
  },
  {
   "cell_type": "code",
   "execution_count": 13,
   "id": "1b94e375-1f0d-406e-b777-85e7264adb92",
   "metadata": {
    "execution": {
     "iopub.execute_input": "2025-03-24T20:10:54.148273Z",
     "iopub.status.busy": "2025-03-24T20:10:54.145763Z",
     "iopub.status.idle": "2025-03-24T20:10:54.173831Z",
     "shell.execute_reply": "2025-03-24T20:10:54.171345Z",
     "shell.execute_reply.started": "2025-03-24T20:10:54.148175Z"
    }
   },
   "outputs": [
    {
     "name": "stdout",
     "output_type": "stream",
     "text": [
      "Overall RMSE: 0.3560193633238272 Overall AUC: 0.864948188641502\n"
     ]
    }
   ],
   "source": [
    "# Compute overall RMSE and AUC\n",
    "rmse = root_mean_squared_error(df_preds.correct, df_preds.correct_predictions)\n",
    "AUC = roc_auc_score(df_preds.correct, df_preds.correct_predictions)\n",
    "print('Overall RMSE:', rmse, 'Overall AUC:', AUC)"
   ]
  },
  {
   "cell_type": "markdown",
   "id": "ea7d57aa-7e78-44fc-88a8-ff8b144e5217",
   "metadata": {},
   "source": [
    "We hypothesize that performance of the model could depend on the skill. Some skills might be more difficult to predict than others. Next, we therefore compute the RMSE and AUC separately for each skill."
   ]
  },
  {
   "cell_type": "code",
   "execution_count": 19,
   "id": "e613d122-7a3d-42b2-bc87-64666903908d",
   "metadata": {
    "execution": {
     "iopub.execute_input": "2025-03-24T20:12:01.153304Z",
     "iopub.status.busy": "2025-03-24T20:12:01.152096Z",
     "iopub.status.idle": "2025-03-24T20:12:01.211861Z",
     "shell.execute_reply": "2025-03-24T20:12:01.209114Z",
     "shell.execute_reply.started": "2025-03-24T20:12:01.153188Z"
    }
   },
   "outputs": [
    {
     "name": "stdout",
     "output_type": "stream",
     "text": [
      "RMSE 0.374902746893782 0.07181460549176918\n",
      "AUC 0.7887093496593692 0.05698981398620799\n"
     ]
    }
   ],
   "source": [
    "# Compute RMSE and AUC per skill\n",
    "skill_rmse = df_preds.groupby(['skill_name']).apply(lambda df_preds: root_mean_squared_error(df_preds.correct, df_preds.correct_predictions), include_groups=False)\n",
    "print('RMSE', np.mean(skill_rmse), np.std(skill_rmse))\n",
    "\n",
    "skill_auc = df_preds.groupby(['skill_name']).apply(lambda df_preds: roc_auc_score(df_preds.correct, df_preds.correct_predictions), include_groups=False)\n",
    "print('AUC', np.mean(skill_auc), np.std(skill_auc))"
   ]
  },
  {
   "cell_type": "markdown",
   "id": "6cc9e630-6b68-462d-8dc1-2b3b0bfb3477",
   "metadata": {},
   "source": [
    "Next, we visualize our results in a bar chart. We display the overall RMSE and AUC (over all skills) including standard deviations as well as the per skill performance metrics."
   ]
  },
  {
   "cell_type": "code",
   "execution_count": 21,
   "id": "f41a2dae-0edd-42be-bde9-9e5863d87617",
   "metadata": {
    "execution": {
     "iopub.execute_input": "2025-03-24T20:12:18.914612Z",
     "iopub.status.busy": "2025-03-24T20:12:18.912374Z",
     "iopub.status.idle": "2025-03-24T20:12:20.045663Z",
     "shell.execute_reply": "2025-03-24T20:12:20.043066Z",
     "shell.execute_reply.started": "2025-03-24T20:12:18.914510Z"
    }
   },
   "outputs": [
    {
     "data": {
      "image/png": "[encoded data removed]",
      "text/plain": [
       "<Figure size 1000x500 with 2 Axes>"
      ]
     },
     "metadata": {},
     "output_type": "display_data"
    },
    {
     "data": {
      "image/png": "[encoded data removed]",
      "text/plain": [
       "<Figure size 1000x500 with 2 Axes>"
      ]
     },
     "metadata": {},
     "output_type": "display_data"
    }
   ],
   "source": [
    "# Create overall RMSE and RMSE per skill data frames\n",
    "skills_all = ['Skills']*len(skills_subset)\n",
    "df_overall_rmse = pd.DataFrame(list(zip(skills_all, skill_rmse)),\n",
    "               columns =['x', 'RMSE'])\n",
    "df_skill_rmse = pd.DataFrame(list(zip(skills_subset, skill_rmse)),\n",
    "               columns =['x', 'RMSE'])\n",
    "\n",
    "# Create overall AUC and AUC per skill data frames\n",
    "df_overall_auc = pd.DataFrame(list(zip(skills_all, skill_auc)),\n",
    "               columns =['x', 'AUC'])\n",
    "df_skill_auc = pd.DataFrame(list(zip(skills_subset, skill_auc)),\n",
    "               columns =['x', 'AUC'])\n",
    "\n",
    "# Two bar plots for RMSE: first one with std (mean RMSE over all skills), then one bar plot with a bar for each specific skill\n",
    "fig, axes = plt.subplots(1, 2, figsize=(10,5))\n",
    "sns.barplot(ax=axes[0],x='x', y='RMSE', data=df_overall_rmse, estimator=np.mean, errorbar='sd')\n",
    "axes[0].set_title('Overall RMSE')\n",
    "axes[0].set_xlabel('')\n",
    "\n",
    "sns.barplot(ax=axes[1],x='x', y='RMSE', data=df_skill_rmse, estimator=np.mean, errorbar='sd')\n",
    "plt.xticks(rotation=90)\n",
    "axes[1].set_title('RMSE across skills')\n",
    "axes[1].set_xlabel('')\n",
    "\n",
    "fig.show()\n",
    "\n",
    "# Two bar plots for AUC: first one with std (mean AUC over all skills), then one bar plot with a bar for each specific skill\n",
    "fig, axes = plt.subplots(1, 2, figsize=(10,5))\n",
    "sns.barplot(ax=axes[0],x='x', y='AUC', data=df_overall_auc, estimator=np.mean, errorbar='sd')\n",
    "axes[0].set_title('Overall AUC')\n",
    "axes[0].set_xlabel('')\n",
    "\n",
    "sns.barplot(ax=axes[1],x='x', y='AUC', data=df_skill_auc, estimator=np.mean, errorbar='sd')\n",
    "plt.xticks(rotation=90)\n",
    "axes[1].set_title('AUC across skills')\n",
    "axes[1].set_xlabel('')\n",
    "\n",
    "fig.show()"
   ]
  },
  {
   "cell_type": "markdown",
   "id": "ad51e400-06e5-4cd9-acf6-cd46fc1b35df",
   "metadata": {},
   "source": [
    "Examining the RMSE across skills, we note that Venn Diagram has the largest RMSE, closely followed by division fractions and mode. The Circle Graph skills has the least RMSE (around 0.25) and is therefore most accurate. There is a large standard deviation across the average RMSE (top left plot), which indicates that the RMSE scores for BKT are skill-dependent.\n",
    "\n",
    "We observe that the AUC is relatively high, on average ~78% across skills. Area Rectangle has a very high AUC while the other skills remain between the 75% to 80% range. The lack of variation between skills shows some indication that AUC is not as skill-dependent as RMSE (but this can only be confirmed by looking at a larger number of skills)."
   ]
  }
 ],
 "metadata": {
  "kernelspec": {
   "display_name": "Python3",
   "language": "python",
   "name": "python3"
  },
  "language_info": {
   "codemirror_mode": {
    "name": "ipython",
    "version": 3
   },
   "file_extension": ".py",
   "mimetype": "text/x-python",
   "name": "python",
   "nbconvert_exporter": "python",
   "pygments_lexer": "ipython3",
   "version": "3.12.5"
  }
 },
 "nbformat": 4,
 "nbformat_minor": 5
}
