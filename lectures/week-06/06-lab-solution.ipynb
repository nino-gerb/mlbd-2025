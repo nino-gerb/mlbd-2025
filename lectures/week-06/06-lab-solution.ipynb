{
 "cells": [
  {
   "cell_type": "markdown",
   "metadata": {},
   "source": [
    "# Lab 6 - Bayesian Knowledge Tracing (BKT) and Variants \n",
    "\n",
    "This tutorial is partially based on the pyBKT model tutorial and the Jupyter notebooks available on GitHub at [https://github.com/CAHLR/pyBKT](https://github.com/CAHLR/pyBKT). "
   ]
  },
  {
   "cell_type": "markdown",
   "metadata": {},
   "source": [
    "One notable application of machine learning in education is represented **knowledge inference models**, which aim to understand how well a student is learning concepts or skills. Being able to monitor this knowledge makes it possible to improve and personalize online learning platforms or intelligent tutoring systems, by focusing on areas the student is weak in and accelerating learning of certain concepts.\n",
    "\n",
    "In this tutorial, we study a range of popular models for modelling students' knowledge based on **Bayesian Knowledge Tracing (BKT)**. BKT was introduced in 1995 as a means to model students' knowledge as a **latent variable** in online learning environments. Specifically, the environment can maintain an estimate of the **probability that the student has learned a set of skills**, which is statistically equivalent to a 2-node dynamic Bayesian network. \n",
    "\n",
    "For this tutorial, we will rely on a Python implementation of the Bayesian Knowledge Tracing algorithm and more recent variants, estimating student cognitive mastery from problem solving sequences, known under the name of **pyBKT**. This package can be used to define and fit many BKT variants. \n",
    "\n",
    "These variants are derived from a range of papers published in the educational data mining literature and, in this tutorial, we will provide you with the main notions and implementation details needed to investigate BKT models in practice.  \n",
    "\n",
    "**Expected Tasks**\n",
    "\n",
    "- Follow the pyBKT getting started showcase.\n",
    "- Solve a range of exercises on BKT models. \n",
    "\n",
    "**Learning Objectives**\n",
    "\n",
    "- Instantiate and run a pipeline on BKT models. \n",
    "- Conduct fine-grained analyses on specific learning skills. \n",
    "- Understand and experiment with different variants of BKT.\n",
    "- Compare the performance of BKT setups under different evaluation methods. \n",
    "- Inspect the influence of a BKT variant on the internal BKT parameters.\n",
    "\n",
    "More information on the PyBKT is provided in the corresponding [Github repository](https://github.com/CAHLR/pyBKT). "
   ]
  },
  {
   "cell_type": "code",
   "execution_count": 1,
   "metadata": {
    "execution": {
     "iopub.execute_input": "2025-03-24T20:16:38.403508Z",
     "iopub.status.busy": "2025-03-24T20:16:38.400913Z",
     "iopub.status.idle": "2025-03-24T20:16:40.768512Z",
     "shell.execute_reply": "2025-03-24T20:16:40.765793Z",
     "shell.execute_reply.started": "2025-03-24T20:16:38.403397Z"
    }
   },
   "outputs": [],
   "source": [
    "# Traditional packages\n",
    "import matplotlib.pyplot as plt\n",
    "import seaborn as sns\n",
    "import pandas as pd\n",
    "import numpy as np\n",
    "import math\n",
    "\n",
    "%matplotlib inline"
   ]
  },
  {
   "cell_type": "markdown",
   "metadata": {},
   "source": [
    "## Introduction\n",
    "---\n",
    "\n",
    "BKT models operationalize the learning of a student as a **Markov process**, building upon the idea that, while students interact with an educational environment, their skill in a given concept improves. To move the theory behind BKT into practice, variables related to forgetting, learning, guessing, slipping, and so on need to be modelled, controlling for instance how fast and how well learning is happening for the student. \n",
    "\n",
    "The BKT model assumes that the student’s knowledge can be estimated by means of standardized questions, which can be answered correctly or incorrectly, on a concept or combination of concepts. BKT also assumes that initially a student may not know about a concept, but their knowledge gets better with learning and practice related to that concept. The following concepts will be \n",
    "\n",
    "- $P_0$ is the initial probability of mastering that concept (skill). \n",
    "- $P_{\\text{F}}$ is the probability that the student forgot something previously learned on the concept (skill). \n",
    "- $P_{\\text{L}}$ is the probability that the student has learned something that was previous not known on the concept (skill). \n",
    "- $P_{\\text{S}}$ is the probability that the student gave a wrong answer even though they had learned the concept (skill).\n",
    "- $P_{\\text{G}}$ is the probability that the student guessed the right answer while not knowing the concept (skill). \n",
    "\n",
    "In this tutorial, we will use a dataset of the student’s responses to questions in a test, along with whether they answered correctly or incorrectly, and we will use a BKT model to find the values of the above probabilities."
   ]
  },
  {
   "cell_type": "markdown",
   "metadata": {},
   "source": [
    "## The ASSISTments data set\n",
    "---\n",
    "\n",
    "ASSISTments is a free tool for assigning and assessing math problems and homework. Teachers can select and assign problem sets. Once they get an assignment, students can complete it at their own pace and with the help of hints, multiple chances, and immediate feedback. Teachers get instant results broken down by individual student or for the whole class. Please, find more information on the platform [here](https://www.commonsense.org/education/website/assistments). \n",
    "\n",
    "In this tutorial, we will play with a simplified version of a dataset collected from the ASSISTments tool, saved on a CSV files with the following columns:  \n",
    "\n",
    "- user_id: The ID of the student doing the problem.\n",
    "- template_id: The ID of the template in ASSISTment (assistments with the same template ID have similar questions).\n",
    "- assistment_id: The ID of the ASSISTment (an assistment consists of one or more problems).\n",
    "- order_id: These IDs are chronological and refer to the id of the original problem log.\n",
    "- problem_id: The ID of the problem.\n",
    "- skill_name: Skill name associated with the problem.\n",
    "- correct: 1 if correct on the first attempt, 0 if incorrect on the first attempt or asked for help.\n",
    "- ms_first_response: The time in milliseconds for the student's first response.\n",
    "- attempt_count: Number of student attempts on this problem.\n",
    "- hint_count: Number of student hints asked by the student on this problem.\n",
    "- hint_total: Number of possible hints to be asked on this problem."
   ]
  },
  {
   "cell_type": "code",
   "execution_count": 2,
   "metadata": {
    "execution": {
     "iopub.execute_input": "2025-03-24T20:16:41.473476Z",
     "iopub.status.busy": "2025-03-24T20:16:41.471303Z",
     "iopub.status.idle": "2025-03-24T20:16:41.529295Z",
     "shell.execute_reply": "2025-03-24T20:16:41.527966Z",
     "shell.execute_reply.started": "2025-03-24T20:16:41.473377Z"
    }
   },
   "outputs": [],
   "source": [
    "DATA_DIR = \"./../../data/\"\n",
    "as_data = pd.read_csv(DATA_DIR + 'as_supersmall.csv', encoding='latin', low_memory=False)"
   ]
  },
  {
   "cell_type": "code",
   "execution_count": 3,
   "metadata": {
    "execution": {
     "iopub.execute_input": "2025-03-24T20:16:42.218522Z",
     "iopub.status.busy": "2025-03-24T20:16:42.217128Z",
     "iopub.status.idle": "2025-03-24T20:16:42.253043Z",
     "shell.execute_reply": "2025-03-24T20:16:42.250405Z",
     "shell.execute_reply.started": "2025-03-24T20:16:42.218429Z"
    }
   },
   "outputs": [
    {
     "data": {
      "text/html": [
       "<div>\n",
       "<style scoped>\n",
       "    .dataframe tbody tr th:only-of-type {\n",
       "        vertical-align: middle;\n",
       "    }\n",
       "\n",
       "    .dataframe tbody tr th {\n",
       "        vertical-align: top;\n",
       "    }\n",
       "\n",
       "    .dataframe thead th {\n",
       "        text-align: right;\n",
       "    }\n",
       "</style>\n",
       "<table border=\"1\" class=\"dataframe\">\n",
       "  <thead>\n",
       "    <tr style=\"text-align: right;\">\n",
       "      <th></th>\n",
       "      <th>user_id</th>\n",
       "      <th>template_id</th>\n",
       "      <th>assistment_id</th>\n",
       "      <th>order_id</th>\n",
       "      <th>problem_id</th>\n",
       "      <th>skill_name</th>\n",
       "      <th>correct</th>\n",
       "      <th>ms_first_response</th>\n",
       "      <th>attempt_count</th>\n",
       "      <th>hint_count</th>\n",
       "      <th>hint_total</th>\n",
       "    </tr>\n",
       "  </thead>\n",
       "  <tbody>\n",
       "    <tr>\n",
       "      <th>0</th>\n",
       "      <td>70733</td>\n",
       "      <td>30060</td>\n",
       "      <td>33175</td>\n",
       "      <td>35278766</td>\n",
       "      <td>51460</td>\n",
       "      <td>Box and Whisker</td>\n",
       "      <td>0</td>\n",
       "      <td>9575</td>\n",
       "      <td>2</td>\n",
       "      <td>0</td>\n",
       "      <td>4</td>\n",
       "    </tr>\n",
       "    <tr>\n",
       "      <th>1</th>\n",
       "      <td>70733</td>\n",
       "      <td>30060</td>\n",
       "      <td>33182</td>\n",
       "      <td>35278780</td>\n",
       "      <td>51467</td>\n",
       "      <td>Box and Whisker</td>\n",
       "      <td>1</td>\n",
       "      <td>6422</td>\n",
       "      <td>1</td>\n",
       "      <td>0</td>\n",
       "      <td>4</td>\n",
       "    </tr>\n",
       "    <tr>\n",
       "      <th>2</th>\n",
       "      <td>70733</td>\n",
       "      <td>30059</td>\n",
       "      <td>33107</td>\n",
       "      <td>35278789</td>\n",
       "      <td>51392</td>\n",
       "      <td>Box and Whisker</td>\n",
       "      <td>0</td>\n",
       "      <td>11365</td>\n",
       "      <td>3</td>\n",
       "      <td>0</td>\n",
       "      <td>3</td>\n",
       "    </tr>\n",
       "    <tr>\n",
       "      <th>3</th>\n",
       "      <td>70733</td>\n",
       "      <td>30060</td>\n",
       "      <td>33187</td>\n",
       "      <td>35278802</td>\n",
       "      <td>51472</td>\n",
       "      <td>Box and Whisker</td>\n",
       "      <td>1</td>\n",
       "      <td>4412</td>\n",
       "      <td>1</td>\n",
       "      <td>0</td>\n",
       "      <td>4</td>\n",
       "    </tr>\n",
       "    <tr>\n",
       "      <th>4</th>\n",
       "      <td>70733</td>\n",
       "      <td>30059</td>\n",
       "      <td>33111</td>\n",
       "      <td>35278810</td>\n",
       "      <td>51396</td>\n",
       "      <td>Box and Whisker</td>\n",
       "      <td>1</td>\n",
       "      <td>6902</td>\n",
       "      <td>1</td>\n",
       "      <td>0</td>\n",
       "      <td>3</td>\n",
       "    </tr>\n",
       "    <tr>\n",
       "      <th>5</th>\n",
       "      <td>70872</td>\n",
       "      <td>30059</td>\n",
       "      <td>33136</td>\n",
       "      <td>32268742</td>\n",
       "      <td>51421</td>\n",
       "      <td>Box and Whisker</td>\n",
       "      <td>1</td>\n",
       "      <td>7281</td>\n",
       "      <td>1</td>\n",
       "      <td>0</td>\n",
       "      <td>3</td>\n",
       "    </tr>\n",
       "    <tr>\n",
       "      <th>6</th>\n",
       "      <td>70872</td>\n",
       "      <td>30799</td>\n",
       "      <td>33144</td>\n",
       "      <td>32268764</td>\n",
       "      <td>51429</td>\n",
       "      <td>Box and Whisker</td>\n",
       "      <td>1</td>\n",
       "      <td>7234</td>\n",
       "      <td>1</td>\n",
       "      <td>0</td>\n",
       "      <td>3</td>\n",
       "    </tr>\n",
       "    <tr>\n",
       "      <th>7</th>\n",
       "      <td>72059</td>\n",
       "      <td>30799</td>\n",
       "      <td>33155</td>\n",
       "      <td>33409110</td>\n",
       "      <td>51440</td>\n",
       "      <td>Box and Whisker</td>\n",
       "      <td>0</td>\n",
       "      <td>38290</td>\n",
       "      <td>2</td>\n",
       "      <td>0</td>\n",
       "      <td>3</td>\n",
       "    </tr>\n",
       "    <tr>\n",
       "      <th>8</th>\n",
       "      <td>72059</td>\n",
       "      <td>30060</td>\n",
       "      <td>33181</td>\n",
       "      <td>33409165</td>\n",
       "      <td>51466</td>\n",
       "      <td>Box and Whisker</td>\n",
       "      <td>0</td>\n",
       "      <td>8366</td>\n",
       "      <td>4</td>\n",
       "      <td>0</td>\n",
       "      <td>4</td>\n",
       "    </tr>\n",
       "    <tr>\n",
       "      <th>9</th>\n",
       "      <td>72059</td>\n",
       "      <td>30060</td>\n",
       "      <td>33168</td>\n",
       "      <td>33409366</td>\n",
       "      <td>51453</td>\n",
       "      <td>Box and Whisker</td>\n",
       "      <td>1</td>\n",
       "      <td>9661</td>\n",
       "      <td>1</td>\n",
       "      <td>0</td>\n",
       "      <td>4</td>\n",
       "    </tr>\n",
       "  </tbody>\n",
       "</table>\n",
       "</div>"
      ],
      "text/plain": [
       "   user_id  template_id  assistment_id  order_id  problem_id       skill_name  \\\n",
       "0    70733        30060          33175  35278766       51460  Box and Whisker   \n",
       "1    70733        30060          33182  35278780       51467  Box and Whisker   \n",
       "2    70733        30059          33107  35278789       51392  Box and Whisker   \n",
       "3    70733        30060          33187  35278802       51472  Box and Whisker   \n",
       "4    70733        30059          33111  35278810       51396  Box and Whisker   \n",
       "5    70872        30059          33136  32268742       51421  Box and Whisker   \n",
       "6    70872        30799          33144  32268764       51429  Box and Whisker   \n",
       "7    72059        30799          33155  33409110       51440  Box and Whisker   \n",
       "8    72059        30060          33181  33409165       51466  Box and Whisker   \n",
       "9    72059        30060          33168  33409366       51453  Box and Whisker   \n",
       "\n",
       "   correct  ms_first_response  attempt_count  hint_count  hint_total  \n",
       "0        0               9575              2           0           4  \n",
       "1        1               6422              1           0           4  \n",
       "2        0              11365              3           0           3  \n",
       "3        1               4412              1           0           4  \n",
       "4        1               6902              1           0           3  \n",
       "5        1               7281              1           0           3  \n",
       "6        1               7234              1           0           3  \n",
       "7        0              38290              2           0           3  \n",
       "8        0               8366              4           0           4  \n",
       "9        1               9661              1           0           4  "
      ]
     },
     "execution_count": 3,
     "metadata": {},
     "output_type": "execute_result"
    }
   ],
   "source": [
    "as_data.head(10)"
   ]
  },
  {
   "cell_type": "markdown",
   "metadata": {},
   "source": [
    "Before delving into the pyBKT description and showcase, we invite you to spend some time to explore the toy dataset presented in this tutorial, e.g., how many students/problems/skills are included, examine the skills in more detail etc. Here, you could therefore add one or more cells to perform your exploration.    "
   ]
  },
  {
   "cell_type": "markdown",
   "metadata": {},
   "source": [
    "## The pyBKT Package\n",
    "---\n",
    "\n",
    "In this tutorial, we use the pyBKT package, a Python implementation of the Bayesian Knowledge Tracing algorithm and variants, estimating student cognitive mastery from problem solving sequences. First, we install the package:"
   ]
  },
  {
   "cell_type": "code",
   "execution_count": 4,
   "metadata": {
    "execution": {
     "iopub.execute_input": "2025-03-24T20:16:43.832277Z",
     "iopub.status.busy": "2025-03-24T20:16:43.831131Z",
     "iopub.status.idle": "2025-03-24T20:16:46.642616Z",
     "shell.execute_reply": "2025-03-24T20:16:46.639981Z",
     "shell.execute_reply.started": "2025-03-24T20:16:43.832184Z"
    }
   },
   "outputs": [
    {
     "name": "stdout",
     "output_type": "stream",
     "text": [
      "Defaulting to user installation because normal site-packages is not writeable\n",
      "Requirement already satisfied: pyBKT in /opt/jlab-env/lib/python3.12/site-packages (1.4.1)\n",
      "Requirement already satisfied: numpy in /opt/jlab-env/lib/python3.12/site-packages (from pyBKT) (1.26.4)\n",
      "Requirement already satisfied: scikit-learn in /opt/jlab-env/lib/python3.12/site-packages (from pyBKT) (1.5.0)\n",
      "Requirement already satisfied: pandas in /opt/jlab-env/lib/python3.12/site-packages (from pyBKT) (2.2.2)\n",
      "Requirement already satisfied: requests in /opt/jlab-env/lib/python3.12/site-packages (from pyBKT) (2.32.3)\n",
      "Requirement already satisfied: python-dateutil>=2.8.2 in /opt/jlab-env/lib/python3.12/site-packages (from pandas->pyBKT) (2.9.0.post0)\n",
      "Requirement already satisfied: pytz>=2020.1 in /opt/jlab-env/lib/python3.12/site-packages (from pandas->pyBKT) (2023.3)\n",
      "Requirement already satisfied: tzdata>=2022.7 in /opt/jlab-env/lib/python3.12/site-packages (from pandas->pyBKT) (2024.1)\n",
      "Requirement already satisfied: charset-normalizer<4,>=2 in /opt/jlab-env/lib/python3.12/site-packages (from requests->pyBKT) (3.3.2)\n",
      "Requirement already satisfied: idna<4,>=2.5 in /opt/jlab-env/lib/python3.12/site-packages (from requests->pyBKT) (3.7)\n",
      "Requirement already satisfied: urllib3<3,>=1.21.1 in /opt/jlab-env/lib/python3.12/site-packages (from requests->pyBKT) (1.26.19)\n",
      "Requirement already satisfied: certifi>=2017.4.17 in /opt/jlab-env/lib/python3.12/site-packages (from requests->pyBKT) (2024.7.4)\n",
      "Requirement already satisfied: scipy>=1.6.0 in /opt/jlab-env/lib/python3.12/site-packages (from scikit-learn->pyBKT) (1.14.0)\n",
      "Requirement already satisfied: joblib>=1.2.0 in /opt/jlab-env/lib/python3.12/site-packages (from scikit-learn->pyBKT) (1.4.2)\n",
      "Requirement already satisfied: threadpoolctl>=3.1.0 in /opt/jlab-env/lib/python3.12/site-packages (from scikit-learn->pyBKT) (3.5.0)\n",
      "Requirement already satisfied: six>=1.5 in /opt/jlab-env/lib/python3.12/site-packages (from python-dateutil>=2.8.2->pandas->pyBKT) (1.16.0)\n",
      "Note: you may need to restart the kernel to use updated packages.\n"
     ]
    }
   ],
   "source": [
    "%pip install pyBKT"
   ]
  },
  {
   "cell_type": "markdown",
   "metadata": {},
   "source": [
    "Then, we can import the core class provided by the package, that is Model."
   ]
  },
  {
   "cell_type": "code",
   "execution_count": 5,
   "metadata": {
    "execution": {
     "iopub.execute_input": "2025-03-24T20:16:57.262738Z",
     "iopub.status.busy": "2025-03-24T20:16:57.262219Z",
     "iopub.status.idle": "2025-03-24T20:16:57.605574Z",
     "shell.execute_reply": "2025-03-24T20:16:57.604104Z",
     "shell.execute_reply.started": "2025-03-24T20:16:57.262675Z"
    }
   },
   "outputs": [],
   "source": [
    "import random\n",
    "old_randint = random.randint\n",
    "random.randint = lambda a, b: old_randint(a, int(b))\n",
    "from pyBKT.models import Model\n",
    "random.randint = old_randint"
   ]
  },
  {
   "cell_type": "markdown",
   "metadata": {},
   "source": [
    "The first step is to construct a BKT model. To be instantiated, a BKT model requires a series of parameters, whose default value and meaning is provided below (e.g., num_fits, seed, defaults, and any model variant(s) that may be used). Each parameter can be modified during fit/crossvalidation time too.\n",
    "\n",
    "- **Defaults generic parameters**: \n",
    "    - num_fits (5) is the number of initialization fits used for the BKT model.\n",
    "    - defaults (None) is a dictionary that can be used to pass values different than the default ones during initialization.\n",
    "    - parallel (True) indicates whether the computation will use multi-threading.\n",
    "    - skills ('.\\*') is a regular expression used to indicate the skills the BKT model will be run on.  \n",
    "    - seed (random.randint(0, 1e8)) is a seed that can be setup to enable reproducible experiments. \n",
    "    - folds (5) is the number of folds used in case of cross-validation.\n",
    "    - forgets (False) indicates whether the model will consider that the student may give a wrong answer even though they had learned the concept. \n",
    "    \n",
    "- **Defaults additional parameters**:\n",
    "    - order_id ('order_id') is the name of the CSV column for the chronological IDs that refer to the original problem log. \n",
    "    - skill_name ('skill_name') is the name of the CSV column for the skill name associated with the problem.\n",
    "    - correct ('correct') is the name of the CSV column for the correct / incorrect label on the first attempt.\n",
    "    - user_id ('user_id') is the name of the CSV column for the ID of the student doing the problem. \n",
    "    - multilearn ('template_id') is the name of the column for checking whether there is a multi-skill object. \n",
    "    - multiprior ('correct') is the name of the CSV column for mapping multi-prior knowledge.  \n",
    "    - multigs ('template_id') is the name of the CSV column corresponding to the desired guess/slip classes. \n",
    "\n",
    "- **Initializers for learnable parameters**: \n",
    "    - 'prior' (None, no inizialization) is the initial probability of answering the question correct.\n",
    "    - 'learns' (None, no inizialization) is the probability that the student has learned something that was previous not known.\n",
    "    - 'guesses' (None, no inizialization) is the probability that the student guessed the right answer while not knowing the concept. \n",
    "    - 'slips' (None, no inizialization) is the probability that the student gave a wrong answer even though they had learned the concept.\n",
    "    - 'forgets' (None, no inizialization) is the probability that the student forgot something previously learned.\n",
    "    \n",
    "If you have doubts on the meaning of certain parameters, please ask to TAs or move on the next examples (they will help you understand). "
   ]
  },
  {
   "cell_type": "code",
   "execution_count": 6,
   "metadata": {
    "execution": {
     "iopub.execute_input": "2025-03-24T20:16:59.117917Z",
     "iopub.status.busy": "2025-03-24T20:16:59.114022Z",
     "iopub.status.idle": "2025-03-24T20:16:59.137141Z",
     "shell.execute_reply": "2025-03-24T20:16:59.134310Z",
     "shell.execute_reply.started": "2025-03-24T20:16:59.117815Z"
    }
   },
   "outputs": [
    {
     "data": {
      "text/plain": [
       "Model(parallel=True, num_fits=5, seed=0, defaults=None)"
      ]
     },
     "execution_count": 6,
     "metadata": {},
     "output_type": "execute_result"
    }
   ],
   "source": [
    "model = Model(seed=0)\n",
    "model"
   ]
  },
  {
   "cell_type": "markdown",
   "metadata": {},
   "source": [
    "The Model class is inspired by scikit-learn and, therefore, provides a range of methods a model can be called with:\n",
    "- The **fit** method fits a BKT model given model and data information. Takes arguments skills, number of initialization fits, default column names (i.e. correct, skill_name), parallelization, and model types.\n",
    "- The **predict** method predicts using the trained BKT model and test data information. Takes test data path or DataFrame as arguments. Returns a dictionary mapping skills to predicted values for those skills. Note that the predicted values are a tuple of (correct_predictions, state_predictions).\n",
    "- The **evaluate** method evaluates a BKT model given model and data information. Takes a metric and data path or DataFrame as arguments. Returns the value of the metric for the given trained model tested on the given data.\n",
    "- The **crossvalidate** method crossvalidates (trains and evaluates) the BKT model. Takes the data, metric, and any arguments that would be passed to the fit function (skills, number of initialization fits, default column names, parallelization, and model types) as arguments. \n",
    "\n",
    "We will show a range of examples for each of the above methods. "
   ]
  },
  {
   "cell_type": "markdown",
   "metadata": {},
   "source": [
    "### Fitting and evaluating a model"
   ]
  },
  {
   "cell_type": "code",
   "execution_count": 7,
   "metadata": {
    "execution": {
     "iopub.execute_input": "2025-03-24T20:17:00.939361Z",
     "iopub.status.busy": "2025-03-24T20:17:00.936813Z",
     "iopub.status.idle": "2025-03-24T20:17:01.801603Z",
     "shell.execute_reply": "2025-03-24T20:17:01.800044Z",
     "shell.execute_reply.started": "2025-03-24T20:17:00.939260Z"
    }
   },
   "outputs": [
    {
     "name": "stdout",
     "output_type": "stream",
     "text": [
      "CPU times: user 1.37 s, sys: 14.2 ms, total: 1.38 s\n",
      "Wall time: 646 ms\n",
      "CPU times: user 279 ms, sys: 0 ns, total: 279 ms\n",
      "Wall time: 195 ms\n"
     ]
    },
    {
     "data": {
      "text/plain": [
       "0.5708057569072381"
      ]
     },
     "execution_count": 7,
     "metadata": {},
     "output_type": "execute_result"
    }
   ],
   "source": [
    "model = Model(seed=0)\n",
    "%time model.fit(data=as_data, skills='Box and Whisker') \n",
    "%time model.evaluate(data=as_data, metric='auc') "
   ]
  },
  {
   "cell_type": "markdown",
   "metadata": {},
   "source": [
    "First, we have fitted a BKT model on the 'Box and Whisker' skill and, then, evaluate the corresponding **training AUC** (0.64). Note that we have run the BKT fitting process on the full dataset, to understand how well the BKT model can fit the data. Evaluation methods like cross-validation will be presented later in this notebook. Furthermore, the default metric displayed is RMSE, but pyBKT supports AUC ('auc'), RMSE ('rmse'), and accuracy ('accuracy') as metrics. We will also see how to add other metrics. "
   ]
  },
  {
   "cell_type": "markdown",
   "metadata": {},
   "source": [
    "For each skill, you can get the learned parameters for 'prior', 'learns', 'guesses', 'slips', and 'forgets'. Specifically:\n",
    "- **prior** ($P_0)$ the prior probability of \"knowing\".\n",
    "- **forgets** ($P_{\\text{F}})$: the probability of transitioning to the \"not knowing\" state given \"known\".\n",
    "- **learns** ($P_{\\text{L}}$): the probability of transitioning to the \"knowing\" state given \"not known\".\n",
    "- **slips** ($P_{\\text{S}}$): the probability of picking incorrect answer, given \"knowing\" state.\n",
    "- **guesses** ($P_{\\text{G}}$): the probability of guessing correctly, given \"not knowing\" state."
   ]
  },
  {
   "cell_type": "code",
   "execution_count": 8,
   "metadata": {
    "execution": {
     "iopub.execute_input": "2025-03-24T20:17:04.094432Z",
     "iopub.status.busy": "2025-03-24T20:17:04.092888Z",
     "iopub.status.idle": "2025-03-24T20:17:04.112399Z",
     "shell.execute_reply": "2025-03-24T20:17:04.110193Z",
     "shell.execute_reply.started": "2025-03-24T20:17:04.094340Z"
    }
   },
   "outputs": [
    {
     "data": {
      "text/plain": [
       "{'Box and Whisker': {'prior': 0.96018835597914,\n",
       "  'learns': array([0.0255437]),\n",
       "  'guesses': array([4.34768309e-05]),\n",
       "  'slips': array([0.2334669]),\n",
       "  'forgets': array([0.])}}"
      ]
     },
     "execution_count": 8,
     "metadata": {},
     "output_type": "execute_result"
    }
   ],
   "source": [
    "model.coef_"
   ]
  },
  {
   "cell_type": "code",
   "execution_count": 9,
   "metadata": {
    "execution": {
     "iopub.execute_input": "2025-03-24T20:17:04.241914Z",
     "iopub.status.busy": "2025-03-24T20:17:04.240874Z",
     "iopub.status.idle": "2025-03-24T20:17:04.272152Z",
     "shell.execute_reply": "2025-03-24T20:17:04.271085Z",
     "shell.execute_reply.started": "2025-03-24T20:17:04.241831Z"
    }
   },
   "outputs": [
    {
     "data": {
      "text/html": [
       "<div>\n",
       "<style scoped>\n",
       "    .dataframe tbody tr th:only-of-type {\n",
       "        vertical-align: middle;\n",
       "    }\n",
       "\n",
       "    .dataframe tbody tr th {\n",
       "        vertical-align: top;\n",
       "    }\n",
       "\n",
       "    .dataframe thead th {\n",
       "        text-align: right;\n",
       "    }\n",
       "</style>\n",
       "<table border=\"1\" class=\"dataframe\">\n",
       "  <thead>\n",
       "    <tr style=\"text-align: right;\">\n",
       "      <th></th>\n",
       "      <th></th>\n",
       "      <th></th>\n",
       "      <th>value</th>\n",
       "    </tr>\n",
       "    <tr>\n",
       "      <th>skill</th>\n",
       "      <th>param</th>\n",
       "      <th>class</th>\n",
       "      <th></th>\n",
       "    </tr>\n",
       "  </thead>\n",
       "  <tbody>\n",
       "    <tr>\n",
       "      <th rowspan=\"5\" valign=\"top\">Box and Whisker</th>\n",
       "      <th>prior</th>\n",
       "      <th>default</th>\n",
       "      <td>0.96019</td>\n",
       "    </tr>\n",
       "    <tr>\n",
       "      <th>learns</th>\n",
       "      <th>default</th>\n",
       "      <td>0.02554</td>\n",
       "    </tr>\n",
       "    <tr>\n",
       "      <th>guesses</th>\n",
       "      <th>default</th>\n",
       "      <td>0.00004</td>\n",
       "    </tr>\n",
       "    <tr>\n",
       "      <th>slips</th>\n",
       "      <th>default</th>\n",
       "      <td>0.23347</td>\n",
       "    </tr>\n",
       "    <tr>\n",
       "      <th>forgets</th>\n",
       "      <th>default</th>\n",
       "      <td>0.00000</td>\n",
       "    </tr>\n",
       "  </tbody>\n",
       "</table>\n",
       "</div>"
      ],
      "text/plain": [
       "                                  value\n",
       "skill           param   class          \n",
       "Box and Whisker prior   default 0.96019\n",
       "                learns  default 0.02554\n",
       "                guesses default 0.00004\n",
       "                slips   default 0.23347\n",
       "                forgets default 0.00000"
      ]
     },
     "execution_count": 9,
     "metadata": {},
     "output_type": "execute_result"
    }
   ],
   "source": [
    "model.params()"
   ]
  },
  {
   "cell_type": "markdown",
   "metadata": {},
   "source": [
    "We could initialize the prior knowledge to $1e-40$ for Box and Whisker, before fitting the model. "
   ]
  },
  {
   "cell_type": "code",
   "execution_count": 10,
   "metadata": {
    "execution": {
     "iopub.execute_input": "2025-03-24T20:17:04.517758Z",
     "iopub.status.busy": "2025-03-24T20:17:04.516917Z",
     "iopub.status.idle": "2025-03-24T20:17:04.535377Z",
     "shell.execute_reply": "2025-03-24T20:17:04.532099Z",
     "shell.execute_reply.started": "2025-03-24T20:17:04.517662Z"
    }
   },
   "outputs": [
    {
     "data": {
      "text/plain": [
       "{'Box and Whisker': {'prior': 1e-40}}"
      ]
     },
     "execution_count": 10,
     "metadata": {},
     "output_type": "execute_result"
    }
   ],
   "source": [
    "model = Model(seed=0)\n",
    "\n",
    "model.coef_ = {'Box and Whisker': {'prior': 1e-40}}\n",
    "model.coef_"
   ]
  },
  {
   "cell_type": "markdown",
   "metadata": {},
   "source": [
    "Then, we can fit the model and observe the resulting AUC score. How does it compares to the AUC score of the previous model. "
   ]
  },
  {
   "cell_type": "code",
   "execution_count": 11,
   "metadata": {
    "execution": {
     "iopub.execute_input": "2025-03-24T20:17:04.804437Z",
     "iopub.status.busy": "2025-03-24T20:17:04.803200Z",
     "iopub.status.idle": "2025-03-24T20:17:05.605099Z",
     "shell.execute_reply": "2025-03-24T20:17:05.601974Z",
     "shell.execute_reply.started": "2025-03-24T20:17:04.804347Z"
    }
   },
   "outputs": [
    {
     "name": "stdout",
     "output_type": "stream",
     "text": [
      "CPU times: user 1.3 s, sys: 0 ns, total: 1.3 s\n",
      "Wall time: 581 ms\n",
      "CPU times: user 322 ms, sys: 397 μs, total: 323 ms\n",
      "Wall time: 196 ms\n"
     ]
    },
    {
     "data": {
      "text/plain": [
       "0.5473263998319151"
      ]
     },
     "execution_count": 11,
     "metadata": {},
     "output_type": "execute_result"
    }
   ],
   "source": [
    "%time model.fit(data=as_data, skills='Box and Whisker') \n",
    "%time model.evaluate(data=as_data, metric='auc') "
   ]
  },
  {
   "cell_type": "code",
   "execution_count": 12,
   "metadata": {
    "execution": {
     "iopub.execute_input": "2025-03-24T20:17:05.612478Z",
     "iopub.status.busy": "2025-03-24T20:17:05.610688Z",
     "iopub.status.idle": "2025-03-24T20:17:05.639109Z",
     "shell.execute_reply": "2025-03-24T20:17:05.637413Z",
     "shell.execute_reply.started": "2025-03-24T20:17:05.612349Z"
    }
   },
   "outputs": [
    {
     "data": {
      "text/html": [
       "<div>\n",
       "<style scoped>\n",
       "    .dataframe tbody tr th:only-of-type {\n",
       "        vertical-align: middle;\n",
       "    }\n",
       "\n",
       "    .dataframe tbody tr th {\n",
       "        vertical-align: top;\n",
       "    }\n",
       "\n",
       "    .dataframe thead th {\n",
       "        text-align: right;\n",
       "    }\n",
       "</style>\n",
       "<table border=\"1\" class=\"dataframe\">\n",
       "  <thead>\n",
       "    <tr style=\"text-align: right;\">\n",
       "      <th></th>\n",
       "      <th></th>\n",
       "      <th></th>\n",
       "      <th>value</th>\n",
       "    </tr>\n",
       "    <tr>\n",
       "      <th>skill</th>\n",
       "      <th>param</th>\n",
       "      <th>class</th>\n",
       "      <th></th>\n",
       "    </tr>\n",
       "  </thead>\n",
       "  <tbody>\n",
       "    <tr>\n",
       "      <th rowspan=\"5\" valign=\"top\">Box and Whisker</th>\n",
       "      <th>prior</th>\n",
       "      <th>default</th>\n",
       "      <td>0.00000</td>\n",
       "    </tr>\n",
       "    <tr>\n",
       "      <th>learns</th>\n",
       "      <th>default</th>\n",
       "      <td>0.20653</td>\n",
       "    </tr>\n",
       "    <tr>\n",
       "      <th>guesses</th>\n",
       "      <th>default</th>\n",
       "      <td>0.67174</td>\n",
       "    </tr>\n",
       "    <tr>\n",
       "      <th>slips</th>\n",
       "      <th>default</th>\n",
       "      <td>0.19508</td>\n",
       "    </tr>\n",
       "    <tr>\n",
       "      <th>forgets</th>\n",
       "      <th>default</th>\n",
       "      <td>0.00000</td>\n",
       "    </tr>\n",
       "  </tbody>\n",
       "</table>\n",
       "</div>"
      ],
      "text/plain": [
       "                                  value\n",
       "skill           param   class          \n",
       "Box and Whisker prior   default 0.00000\n",
       "                learns  default 0.20653\n",
       "                guesses default 0.67174\n",
       "                slips   default 0.19508\n",
       "                forgets default 0.00000"
      ]
     },
     "execution_count": 12,
     "metadata": {},
     "output_type": "execute_result"
    }
   ],
   "source": [
    "model.params()"
   ]
  },
  {
   "cell_type": "markdown",
   "metadata": {},
   "source": [
    "You can also train simple BKT models on different skills in the data set."
   ]
  },
  {
   "cell_type": "code",
   "execution_count": 13,
   "metadata": {
    "execution": {
     "iopub.execute_input": "2025-03-24T20:17:06.162914Z",
     "iopub.status.busy": "2025-03-24T20:17:06.161743Z",
     "iopub.status.idle": "2025-03-24T20:17:07.792458Z",
     "shell.execute_reply": "2025-03-24T20:17:07.788353Z",
     "shell.execute_reply.started": "2025-03-24T20:17:06.162822Z"
    }
   },
   "outputs": [
    {
     "name": "stdout",
     "output_type": "stream",
     "text": [
      "CPU times: user 2.55 s, sys: 8.55 ms, total: 2.56 s\n",
      "Wall time: 1.23 s\n",
      "CPU times: user 573 ms, sys: 749 μs, total: 574 ms\n",
      "Wall time: 308 ms\n"
     ]
    },
    {
     "data": {
      "text/plain": [
       "0.6594101938929525"
      ]
     },
     "execution_count": 13,
     "metadata": {},
     "output_type": "execute_result"
    }
   ],
   "source": [
    "model = Model(seed=0)\n",
    "%time model.fit(data=as_data, skills=['Box and Whisker', 'Scatter Plot']) \n",
    "%time model.evaluate(data=as_data, metric='auc') "
   ]
  },
  {
   "cell_type": "markdown",
   "metadata": {},
   "source": [
    "And, then, observed the learned parameters for each skill. Note that, when multiple skills are passed to fit, the method will run a fitting procedure for each skill, separately (in this case, we will have two BKT models). "
   ]
  },
  {
   "cell_type": "code",
   "execution_count": 14,
   "metadata": {
    "execution": {
     "iopub.execute_input": "2025-03-24T20:17:07.799734Z",
     "iopub.status.busy": "2025-03-24T20:17:07.797425Z",
     "iopub.status.idle": "2025-03-24T20:17:07.835615Z",
     "shell.execute_reply": "2025-03-24T20:17:07.832994Z",
     "shell.execute_reply.started": "2025-03-24T20:17:07.799606Z"
    }
   },
   "outputs": [
    {
     "data": {
      "text/html": [
       "<div>\n",
       "<style scoped>\n",
       "    .dataframe tbody tr th:only-of-type {\n",
       "        vertical-align: middle;\n",
       "    }\n",
       "\n",
       "    .dataframe tbody tr th {\n",
       "        vertical-align: top;\n",
       "    }\n",
       "\n",
       "    .dataframe thead th {\n",
       "        text-align: right;\n",
       "    }\n",
       "</style>\n",
       "<table border=\"1\" class=\"dataframe\">\n",
       "  <thead>\n",
       "    <tr style=\"text-align: right;\">\n",
       "      <th></th>\n",
       "      <th></th>\n",
       "      <th></th>\n",
       "      <th>value</th>\n",
       "    </tr>\n",
       "    <tr>\n",
       "      <th>skill</th>\n",
       "      <th>param</th>\n",
       "      <th>class</th>\n",
       "      <th></th>\n",
       "    </tr>\n",
       "  </thead>\n",
       "  <tbody>\n",
       "    <tr>\n",
       "      <th rowspan=\"5\" valign=\"top\">Box and Whisker</th>\n",
       "      <th>prior</th>\n",
       "      <th>default</th>\n",
       "      <td>0.80038</td>\n",
       "    </tr>\n",
       "    <tr>\n",
       "      <th>learns</th>\n",
       "      <th>default</th>\n",
       "      <td>0.35261</td>\n",
       "    </tr>\n",
       "    <tr>\n",
       "      <th>guesses</th>\n",
       "      <th>default</th>\n",
       "      <td>0.18401</td>\n",
       "    </tr>\n",
       "    <tr>\n",
       "      <th>slips</th>\n",
       "      <th>default</th>\n",
       "      <td>0.21672</td>\n",
       "    </tr>\n",
       "    <tr>\n",
       "      <th>forgets</th>\n",
       "      <th>default</th>\n",
       "      <td>0.00000</td>\n",
       "    </tr>\n",
       "    <tr>\n",
       "      <th rowspan=\"5\" valign=\"top\">Scatter Plot</th>\n",
       "      <th>prior</th>\n",
       "      <th>default</th>\n",
       "      <td>0.75046</td>\n",
       "    </tr>\n",
       "    <tr>\n",
       "      <th>learns</th>\n",
       "      <th>default</th>\n",
       "      <td>0.24673</td>\n",
       "    </tr>\n",
       "    <tr>\n",
       "      <th>guesses</th>\n",
       "      <th>default</th>\n",
       "      <td>0.76373</td>\n",
       "    </tr>\n",
       "    <tr>\n",
       "      <th>slips</th>\n",
       "      <th>default</th>\n",
       "      <td>0.05946</td>\n",
       "    </tr>\n",
       "    <tr>\n",
       "      <th>forgets</th>\n",
       "      <th>default</th>\n",
       "      <td>0.00000</td>\n",
       "    </tr>\n",
       "  </tbody>\n",
       "</table>\n",
       "</div>"
      ],
      "text/plain": [
       "                                  value\n",
       "skill           param   class          \n",
       "Box and Whisker prior   default 0.80038\n",
       "                learns  default 0.35261\n",
       "                guesses default 0.18401\n",
       "                slips   default 0.21672\n",
       "                forgets default 0.00000\n",
       "Scatter Plot    prior   default 0.75046\n",
       "                learns  default 0.24673\n",
       "                guesses default 0.76373\n",
       "                slips   default 0.05946\n",
       "                forgets default 0.00000"
      ]
     },
     "execution_count": 14,
     "metadata": {},
     "output_type": "execute_result"
    }
   ],
   "source": [
    "model.params()"
   ]
  },
  {
   "cell_type": "markdown",
   "metadata": {},
   "source": [
    "You can also enable forgetting, by setting the corresponding parameter in the fit method. "
   ]
  },
  {
   "cell_type": "code",
   "execution_count": 15,
   "metadata": {
    "execution": {
     "iopub.execute_input": "2025-03-24T20:17:08.122533Z",
     "iopub.status.busy": "2025-03-24T20:17:08.121415Z",
     "iopub.status.idle": "2025-03-24T20:17:08.904287Z",
     "shell.execute_reply": "2025-03-24T20:17:08.902743Z",
     "shell.execute_reply.started": "2025-03-24T20:17:08.122443Z"
    }
   },
   "outputs": [
    {
     "name": "stdout",
     "output_type": "stream",
     "text": [
      "CPU times: user 1.26 s, sys: 6.86 ms, total: 1.26 s\n",
      "Wall time: 570 ms\n",
      "CPU times: user 352 ms, sys: 1.09 ms, total: 353 ms\n",
      "Wall time: 195 ms\n"
     ]
    },
    {
     "data": {
      "text/plain": [
       "0.5650803655846202"
      ]
     },
     "execution_count": 15,
     "metadata": {},
     "output_type": "execute_result"
    }
   ],
   "source": [
    "model = Model(seed=0)\n",
    "%time model.fit(data=as_data, skills='Box and Whisker', forgets=True) \n",
    "%time model.evaluate(data=as_data, metric='auc') "
   ]
  },
  {
   "cell_type": "code",
   "execution_count": 16,
   "metadata": {
    "execution": {
     "iopub.execute_input": "2025-03-24T20:17:08.906607Z",
     "iopub.status.busy": "2025-03-24T20:17:08.906287Z",
     "iopub.status.idle": "2025-03-24T20:17:09.015619Z",
     "shell.execute_reply": "2025-03-24T20:17:09.013617Z",
     "shell.execute_reply.started": "2025-03-24T20:17:08.906579Z"
    }
   },
   "outputs": [
    {
     "data": {
      "text/html": [
       "<div>\n",
       "<style scoped>\n",
       "    .dataframe tbody tr th:only-of-type {\n",
       "        vertical-align: middle;\n",
       "    }\n",
       "\n",
       "    .dataframe tbody tr th {\n",
       "        vertical-align: top;\n",
       "    }\n",
       "\n",
       "    .dataframe thead th {\n",
       "        text-align: right;\n",
       "    }\n",
       "</style>\n",
       "<table border=\"1\" class=\"dataframe\">\n",
       "  <thead>\n",
       "    <tr style=\"text-align: right;\">\n",
       "      <th></th>\n",
       "      <th></th>\n",
       "      <th></th>\n",
       "      <th>value</th>\n",
       "    </tr>\n",
       "    <tr>\n",
       "      <th>skill</th>\n",
       "      <th>param</th>\n",
       "      <th>class</th>\n",
       "      <th></th>\n",
       "    </tr>\n",
       "  </thead>\n",
       "  <tbody>\n",
       "    <tr>\n",
       "      <th rowspan=\"5\" valign=\"top\">Box and Whisker</th>\n",
       "      <th>prior</th>\n",
       "      <th>default</th>\n",
       "      <td>0.64108</td>\n",
       "    </tr>\n",
       "    <tr>\n",
       "      <th>learns</th>\n",
       "      <th>default</th>\n",
       "      <td>0.65855</td>\n",
       "    </tr>\n",
       "    <tr>\n",
       "      <th>guesses</th>\n",
       "      <th>default</th>\n",
       "      <td>0.09325</td>\n",
       "    </tr>\n",
       "    <tr>\n",
       "      <th>slips</th>\n",
       "      <th>default</th>\n",
       "      <td>0.00014</td>\n",
       "    </tr>\n",
       "    <tr>\n",
       "      <th>forgets</th>\n",
       "      <th>default</th>\n",
       "      <td>0.23744</td>\n",
       "    </tr>\n",
       "  </tbody>\n",
       "</table>\n",
       "</div>"
      ],
      "text/plain": [
       "                                  value\n",
       "skill           param   class          \n",
       "Box and Whisker prior   default 0.64108\n",
       "                learns  default 0.65855\n",
       "                guesses default 0.09325\n",
       "                slips   default 0.00014\n",
       "                forgets default 0.23744"
      ]
     },
     "execution_count": 16,
     "metadata": {},
     "output_type": "execute_result"
    }
   ],
   "source": [
    "model.params()"
   ]
  },
  {
   "cell_type": "markdown",
   "metadata": {},
   "source": [
    "Or train a multiguess and slip BKT model on the same skills in the data set. The **multigs** model fits a different guess/slip rate for each class. Note that, with *multigs=True*, the guess and slip classes will be specified by the *template_id*. You can specify a custom column mapping by doing *multigs='column_name'*."
   ]
  },
  {
   "cell_type": "code",
   "execution_count": 17,
   "metadata": {
    "execution": {
     "iopub.execute_input": "2025-03-24T20:17:09.017884Z",
     "iopub.status.busy": "2025-03-24T20:17:09.017391Z",
     "iopub.status.idle": "2025-03-24T20:17:10.011256Z",
     "shell.execute_reply": "2025-03-24T20:17:10.007939Z",
     "shell.execute_reply.started": "2025-03-24T20:17:09.017828Z"
    }
   },
   "outputs": [
    {
     "name": "stdout",
     "output_type": "stream",
     "text": [
      "CPU times: user 1.58 s, sys: 1.56 ms, total: 1.59 s\n",
      "Wall time: 761 ms\n",
      "CPU times: user 363 ms, sys: 1.35 ms, total: 364 ms\n",
      "Wall time: 199 ms\n"
     ]
    },
    {
     "data": {
      "text/plain": [
       "0.7169870784746296"
      ]
     },
     "execution_count": 17,
     "metadata": {},
     "output_type": "execute_result"
    }
   ],
   "source": [
    "model = Model(seed=0)\n",
    "%time model.fit(data=as_data, skills=['Box and Whisker'], multigs=True) \n",
    "%time model.evaluate(data=as_data, metric='auc') "
   ]
  },
  {
   "cell_type": "markdown",
   "metadata": {},
   "source": [
    "And finally, we show the BKT paramaters. By enabling *multigs*, the guess and slip classes will be specified by the template_id and, by setting *multigs=True*, the guess and slip classes will be specified by default by the template_id classes. Note that assistments with the same template ID have similar questions. What could you observe by looking at the different learned guesses and slips values below?"
   ]
  },
  {
   "cell_type": "code",
   "execution_count": 18,
   "metadata": {
    "execution": {
     "iopub.execute_input": "2025-03-24T20:17:10.018575Z",
     "iopub.status.busy": "2025-03-24T20:17:10.017285Z",
     "iopub.status.idle": "2025-03-24T20:17:10.108379Z",
     "shell.execute_reply": "2025-03-24T20:17:10.105764Z",
     "shell.execute_reply.started": "2025-03-24T20:17:10.018488Z"
    }
   },
   "outputs": [
    {
     "data": {
      "text/html": [
       "<div>\n",
       "<style scoped>\n",
       "    .dataframe tbody tr th:only-of-type {\n",
       "        vertical-align: middle;\n",
       "    }\n",
       "\n",
       "    .dataframe tbody tr th {\n",
       "        vertical-align: top;\n",
       "    }\n",
       "\n",
       "    .dataframe thead th {\n",
       "        text-align: right;\n",
       "    }\n",
       "</style>\n",
       "<table border=\"1\" class=\"dataframe\">\n",
       "  <thead>\n",
       "    <tr style=\"text-align: right;\">\n",
       "      <th></th>\n",
       "      <th></th>\n",
       "      <th></th>\n",
       "      <th>value</th>\n",
       "    </tr>\n",
       "    <tr>\n",
       "      <th>skill</th>\n",
       "      <th>param</th>\n",
       "      <th>class</th>\n",
       "      <th></th>\n",
       "    </tr>\n",
       "  </thead>\n",
       "  <tbody>\n",
       "    <tr>\n",
       "      <th rowspan=\"15\" valign=\"top\">Box and Whisker</th>\n",
       "      <th>prior</th>\n",
       "      <th>default</th>\n",
       "      <td>0.22554</td>\n",
       "    </tr>\n",
       "    <tr>\n",
       "      <th>learns</th>\n",
       "      <th>default</th>\n",
       "      <td>0.15045</td>\n",
       "    </tr>\n",
       "    <tr>\n",
       "      <th rowspan=\"6\" valign=\"top\">guesses</th>\n",
       "      <th>30059</th>\n",
       "      <td>0.62636</td>\n",
       "    </tr>\n",
       "    <tr>\n",
       "      <th>30060</th>\n",
       "      <td>0.57184</td>\n",
       "    </tr>\n",
       "    <tr>\n",
       "      <th>30799</th>\n",
       "      <td>0.61695</td>\n",
       "    </tr>\n",
       "    <tr>\n",
       "      <th>63446</th>\n",
       "      <td>0.00000</td>\n",
       "    </tr>\n",
       "    <tr>\n",
       "      <th>63447</th>\n",
       "      <td>0.16967</td>\n",
       "    </tr>\n",
       "    <tr>\n",
       "      <th>63448</th>\n",
       "      <td>1.00000</td>\n",
       "    </tr>\n",
       "    <tr>\n",
       "      <th rowspan=\"6\" valign=\"top\">slips</th>\n",
       "      <th>30059</th>\n",
       "      <td>0.04874</td>\n",
       "    </tr>\n",
       "    <tr>\n",
       "      <th>30060</th>\n",
       "      <td>0.28272</td>\n",
       "    </tr>\n",
       "    <tr>\n",
       "      <th>30799</th>\n",
       "      <td>0.09055</td>\n",
       "    </tr>\n",
       "    <tr>\n",
       "      <th>63446</th>\n",
       "      <td>1.00000</td>\n",
       "    </tr>\n",
       "    <tr>\n",
       "      <th>63447</th>\n",
       "      <td>0.88759</td>\n",
       "    </tr>\n",
       "    <tr>\n",
       "      <th>63448</th>\n",
       "      <td>0.00000</td>\n",
       "    </tr>\n",
       "    <tr>\n",
       "      <th>forgets</th>\n",
       "      <th>default</th>\n",
       "      <td>0.00000</td>\n",
       "    </tr>\n",
       "  </tbody>\n",
       "</table>\n",
       "</div>"
      ],
      "text/plain": [
       "                                  value\n",
       "skill           param   class          \n",
       "Box and Whisker prior   default 0.22554\n",
       "                learns  default 0.15045\n",
       "                guesses 30059   0.62636\n",
       "                        30060   0.57184\n",
       "                        30799   0.61695\n",
       "                        63446   0.00000\n",
       "                        63447   0.16967\n",
       "                        63448   1.00000\n",
       "                slips   30059   0.04874\n",
       "                        30060   0.28272\n",
       "                        30799   0.09055\n",
       "                        63446   1.00000\n",
       "                        63447   0.88759\n",
       "                        63448   0.00000\n",
       "                forgets default 0.00000"
      ]
     },
     "execution_count": 18,
     "metadata": {},
     "output_type": "execute_result"
    }
   ],
   "source": [
    "model.params()"
   ]
  },
  {
   "cell_type": "markdown",
   "metadata": {},
   "source": [
    "The **multilearn** model fits a different learn rate (and forget rate if enabled) rate for each class specified. Note that, with multilearn=True, the learn classes are specified by the *template_id*. You can specify a custom column mapping by doing *multilearn='column_name'*."
   ]
  },
  {
   "cell_type": "code",
   "execution_count": 19,
   "metadata": {
    "execution": {
     "iopub.execute_input": "2025-03-24T20:17:10.112123Z",
     "iopub.status.busy": "2025-03-24T20:17:10.111278Z",
     "iopub.status.idle": "2025-03-24T20:17:11.100768Z",
     "shell.execute_reply": "2025-03-24T20:17:11.097415Z",
     "shell.execute_reply.started": "2025-03-24T20:17:10.112028Z"
    }
   },
   "outputs": [
    {
     "name": "stdout",
     "output_type": "stream",
     "text": [
      "CPU times: user 1.56 s, sys: 2.28 ms, total: 1.56 s\n",
      "Wall time: 753 ms\n",
      "CPU times: user 283 ms, sys: 0 ns, total: 283 ms\n",
      "Wall time: 191 ms\n"
     ]
    },
    {
     "data": {
      "text/plain": [
       "0.5638722554890219"
      ]
     },
     "execution_count": 19,
     "metadata": {},
     "output_type": "execute_result"
    }
   ],
   "source": [
    "model = Model(seed=0)\n",
    "%time model.fit(data=as_data, skills=['Box and Whisker'], multilearn=True) \n",
    "%time model.evaluate(data=as_data, metric='auc') "
   ]
  },
  {
   "cell_type": "markdown",
   "metadata": {},
   "source": [
    "Looking at the parameters, we will observe a `leanrs` score for each template_id (the class column in the paras dataframe). In this case, what could you observe by looking at the different `leanrs` values below?    "
   ]
  },
  {
   "cell_type": "code",
   "execution_count": 20,
   "metadata": {
    "execution": {
     "iopub.execute_input": "2025-03-24T20:17:11.106546Z",
     "iopub.status.busy": "2025-03-24T20:17:11.104515Z",
     "iopub.status.idle": "2025-03-24T20:17:11.142280Z",
     "shell.execute_reply": "2025-03-24T20:17:11.140050Z",
     "shell.execute_reply.started": "2025-03-24T20:17:11.106454Z"
    }
   },
   "outputs": [
    {
     "data": {
      "text/html": [
       "<div>\n",
       "<style scoped>\n",
       "    .dataframe tbody tr th:only-of-type {\n",
       "        vertical-align: middle;\n",
       "    }\n",
       "\n",
       "    .dataframe tbody tr th {\n",
       "        vertical-align: top;\n",
       "    }\n",
       "\n",
       "    .dataframe thead th {\n",
       "        text-align: right;\n",
       "    }\n",
       "</style>\n",
       "<table border=\"1\" class=\"dataframe\">\n",
       "  <thead>\n",
       "    <tr style=\"text-align: right;\">\n",
       "      <th></th>\n",
       "      <th></th>\n",
       "      <th></th>\n",
       "      <th>value</th>\n",
       "    </tr>\n",
       "    <tr>\n",
       "      <th>skill</th>\n",
       "      <th>param</th>\n",
       "      <th>class</th>\n",
       "      <th></th>\n",
       "    </tr>\n",
       "  </thead>\n",
       "  <tbody>\n",
       "    <tr>\n",
       "      <th rowspan=\"15\" valign=\"top\">Box and Whisker</th>\n",
       "      <th>prior</th>\n",
       "      <th>default</th>\n",
       "      <td>0.83756</td>\n",
       "    </tr>\n",
       "    <tr>\n",
       "      <th rowspan=\"6\" valign=\"top\">learns</th>\n",
       "      <th>30059</th>\n",
       "      <td>0.11962</td>\n",
       "    </tr>\n",
       "    <tr>\n",
       "      <th>30060</th>\n",
       "      <td>0.37452</td>\n",
       "    </tr>\n",
       "    <tr>\n",
       "      <th>30799</th>\n",
       "      <td>0.27161</td>\n",
       "    </tr>\n",
       "    <tr>\n",
       "      <th>63446</th>\n",
       "      <td>0.56636</td>\n",
       "    </tr>\n",
       "    <tr>\n",
       "      <th>63447</th>\n",
       "      <td>0.53801</td>\n",
       "    </tr>\n",
       "    <tr>\n",
       "      <th>63448</th>\n",
       "      <td>0.27817</td>\n",
       "    </tr>\n",
       "    <tr>\n",
       "      <th>guesses</th>\n",
       "      <th>default</th>\n",
       "      <td>0.22886</td>\n",
       "    </tr>\n",
       "    <tr>\n",
       "      <th>slips</th>\n",
       "      <th>default</th>\n",
       "      <td>0.21738</td>\n",
       "    </tr>\n",
       "    <tr>\n",
       "      <th rowspan=\"6\" valign=\"top\">forgets</th>\n",
       "      <th>30059</th>\n",
       "      <td>0.00000</td>\n",
       "    </tr>\n",
       "    <tr>\n",
       "      <th>30060</th>\n",
       "      <td>0.00000</td>\n",
       "    </tr>\n",
       "    <tr>\n",
       "      <th>30799</th>\n",
       "      <td>0.00000</td>\n",
       "    </tr>\n",
       "    <tr>\n",
       "      <th>63446</th>\n",
       "      <td>0.00000</td>\n",
       "    </tr>\n",
       "    <tr>\n",
       "      <th>63447</th>\n",
       "      <td>0.00000</td>\n",
       "    </tr>\n",
       "    <tr>\n",
       "      <th>63448</th>\n",
       "      <td>0.00000</td>\n",
       "    </tr>\n",
       "  </tbody>\n",
       "</table>\n",
       "</div>"
      ],
      "text/plain": [
       "                                  value\n",
       "skill           param   class          \n",
       "Box and Whisker prior   default 0.83756\n",
       "                learns  30059   0.11962\n",
       "                        30060   0.37452\n",
       "                        30799   0.27161\n",
       "                        63446   0.56636\n",
       "                        63447   0.53801\n",
       "                        63448   0.27817\n",
       "                guesses default 0.22886\n",
       "                slips   default 0.21738\n",
       "                forgets 30059   0.00000\n",
       "                        30060   0.00000\n",
       "                        30799   0.00000\n",
       "                        63446   0.00000\n",
       "                        63447   0.00000\n",
       "                        63448   0.00000"
      ]
     },
     "execution_count": 20,
     "metadata": {},
     "output_type": "execute_result"
    }
   ],
   "source": [
    "model.params()"
   ]
  },
  {
   "cell_type": "markdown",
   "metadata": {},
   "source": [
    "You can also combine multiple variants, and use a different column to specify the different learn and forget classes. In this case, we use user_id, assuming that we are interested in learning the parameters for each student, and we also enable forgetting. "
   ]
  },
  {
   "cell_type": "code",
   "execution_count": 21,
   "metadata": {
    "execution": {
     "iopub.execute_input": "2025-03-24T20:17:11.146025Z",
     "iopub.status.busy": "2025-03-24T20:17:11.145557Z",
     "iopub.status.idle": "2025-03-24T20:17:12.205803Z",
     "shell.execute_reply": "2025-03-24T20:17:12.202947Z",
     "shell.execute_reply.started": "2025-03-24T20:17:11.145982Z"
    }
   },
   "outputs": [
    {
     "name": "stdout",
     "output_type": "stream",
     "text": [
      "CPU times: user 1.67 s, sys: 4.78 ms, total: 1.67 s\n",
      "Wall time: 824 ms\n",
      "CPU times: user 372 ms, sys: 1.47 ms, total: 373 ms\n",
      "Wall time: 202 ms\n"
     ]
    },
    {
     "data": {
      "text/plain": [
       "0.676699233112722"
      ]
     },
     "execution_count": 21,
     "metadata": {},
     "output_type": "execute_result"
    }
   ],
   "source": [
    "model = Model(seed=0)\n",
    "%time model.fit(data=as_data, skills=['Box and Whisker'], forgets=True, multilearn='user_id') \n",
    "%time model.evaluate(data=as_data, metric='auc') "
   ]
  },
  {
   "cell_type": "markdown",
   "metadata": {},
   "source": [
    "Once we run a BKT model with `forgets=True` and `multilearn='user_id'`, we will observe individual scores for each student, as shown below. "
   ]
  },
  {
   "cell_type": "markdown",
   "metadata": {},
   "source": []
  },
  {
   "cell_type": "code",
   "execution_count": 22,
   "metadata": {
    "execution": {
     "iopub.execute_input": "2025-03-24T20:17:12.211302Z",
     "iopub.status.busy": "2025-03-24T20:17:12.209135Z",
     "iopub.status.idle": "2025-03-24T20:17:12.240693Z",
     "shell.execute_reply": "2025-03-24T20:17:12.237831Z",
     "shell.execute_reply.started": "2025-03-24T20:17:12.211190Z"
    }
   },
   "outputs": [
    {
     "data": {
      "text/html": [
       "<div>\n",
       "<style scoped>\n",
       "    .dataframe tbody tr th:only-of-type {\n",
       "        vertical-align: middle;\n",
       "    }\n",
       "\n",
       "    .dataframe tbody tr th {\n",
       "        vertical-align: top;\n",
       "    }\n",
       "\n",
       "    .dataframe thead th {\n",
       "        text-align: right;\n",
       "    }\n",
       "</style>\n",
       "<table border=\"1\" class=\"dataframe\">\n",
       "  <thead>\n",
       "    <tr style=\"text-align: right;\">\n",
       "      <th></th>\n",
       "      <th></th>\n",
       "      <th></th>\n",
       "      <th>value</th>\n",
       "    </tr>\n",
       "    <tr>\n",
       "      <th>skill</th>\n",
       "      <th>param</th>\n",
       "      <th>class</th>\n",
       "      <th></th>\n",
       "    </tr>\n",
       "  </thead>\n",
       "  <tbody>\n",
       "    <tr>\n",
       "      <th rowspan=\"59\" valign=\"top\">Box and Whisker</th>\n",
       "      <th>prior</th>\n",
       "      <th>default</th>\n",
       "      <td>0.43100</td>\n",
       "    </tr>\n",
       "    <tr>\n",
       "      <th rowspan=\"28\" valign=\"top\">learns</th>\n",
       "      <th>70733</th>\n",
       "      <td>0.49616</td>\n",
       "    </tr>\n",
       "    <tr>\n",
       "      <th>70872</th>\n",
       "      <td>0.63227</td>\n",
       "    </tr>\n",
       "    <tr>\n",
       "      <th>72059</th>\n",
       "      <td>0.45275</td>\n",
       "    </tr>\n",
       "    <tr>\n",
       "      <th>79748</th>\n",
       "      <td>0.63227</td>\n",
       "    </tr>\n",
       "    <tr>\n",
       "      <th>79750</th>\n",
       "      <td>0.69036</td>\n",
       "    </tr>\n",
       "    <tr>\n",
       "      <th>79769</th>\n",
       "      <td>0.51172</td>\n",
       "    </tr>\n",
       "    <tr>\n",
       "      <th>81641</th>\n",
       "      <td>0.22680</td>\n",
       "    </tr>\n",
       "    <tr>\n",
       "      <th>82482</th>\n",
       "      <td>0.63669</td>\n",
       "    </tr>\n",
       "    <tr>\n",
       "      <th>82533</th>\n",
       "      <td>0.69636</td>\n",
       "    </tr>\n",
       "    <tr>\n",
       "      <th>83169</th>\n",
       "      <td>0.63227</td>\n",
       "    </tr>\n",
       "    <tr>\n",
       "      <th>84316</th>\n",
       "      <td>0.46074</td>\n",
       "    </tr>\n",
       "    <tr>\n",
       "      <th>85725</th>\n",
       "      <td>0.67299</td>\n",
       "    </tr>\n",
       "    <tr>\n",
       "      <th>86489</th>\n",
       "      <td>0.52054</td>\n",
       "    </tr>\n",
       "    <tr>\n",
       "      <th>91260</th>\n",
       "      <td>0.63227</td>\n",
       "    </tr>\n",
       "    <tr>\n",
       "      <th>91301</th>\n",
       "      <td>0.63227</td>\n",
       "    </tr>\n",
       "    <tr>\n",
       "      <th>91406</th>\n",
       "      <td>0.69636</td>\n",
       "    </tr>\n",
       "    <tr>\n",
       "      <th>91409</th>\n",
       "      <td>0.56077</td>\n",
       "    </tr>\n",
       "    <tr>\n",
       "      <th>91436</th>\n",
       "      <td>0.08559</td>\n",
       "    </tr>\n",
       "    <tr>\n",
       "      <th>91459</th>\n",
       "      <td>0.59956</td>\n",
       "    </tr>\n",
       "    <tr>\n",
       "      <th>96217</th>\n",
       "      <td>0.54395</td>\n",
       "    </tr>\n",
       "    <tr>\n",
       "      <th>96242</th>\n",
       "      <td>0.45275</td>\n",
       "    </tr>\n",
       "    <tr>\n",
       "      <th>96248</th>\n",
       "      <td>0.36906</td>\n",
       "    </tr>\n",
       "    <tr>\n",
       "      <th>96249</th>\n",
       "      <td>0.45008</td>\n",
       "    </tr>\n",
       "    <tr>\n",
       "      <th>96266</th>\n",
       "      <td>0.63227</td>\n",
       "    </tr>\n",
       "    <tr>\n",
       "      <th>96268</th>\n",
       "      <td>0.38091</td>\n",
       "    </tr>\n",
       "    <tr>\n",
       "      <th>96292</th>\n",
       "      <td>0.38718</td>\n",
       "    </tr>\n",
       "    <tr>\n",
       "      <th>96294</th>\n",
       "      <td>0.63159</td>\n",
       "    </tr>\n",
       "    <tr>\n",
       "      <th>96296</th>\n",
       "      <td>0.53876</td>\n",
       "    </tr>\n",
       "    <tr>\n",
       "      <th>guesses</th>\n",
       "      <th>default</th>\n",
       "      <td>0.44646</td>\n",
       "    </tr>\n",
       "    <tr>\n",
       "      <th>slips</th>\n",
       "      <th>default</th>\n",
       "      <td>0.12201</td>\n",
       "    </tr>\n",
       "    <tr>\n",
       "      <th rowspan=\"28\" valign=\"top\">forgets</th>\n",
       "      <th>70733</th>\n",
       "      <td>0.15158</td>\n",
       "    </tr>\n",
       "    <tr>\n",
       "      <th>70872</th>\n",
       "      <td>0.07289</td>\n",
       "    </tr>\n",
       "    <tr>\n",
       "      <th>72059</th>\n",
       "      <td>0.15533</td>\n",
       "    </tr>\n",
       "    <tr>\n",
       "      <th>79748</th>\n",
       "      <td>0.07289</td>\n",
       "    </tr>\n",
       "    <tr>\n",
       "      <th>79750</th>\n",
       "      <td>0.06508</td>\n",
       "    </tr>\n",
       "    <tr>\n",
       "      <th>79769</th>\n",
       "      <td>0.12102</td>\n",
       "    </tr>\n",
       "    <tr>\n",
       "      <th>81641</th>\n",
       "      <td>0.41545</td>\n",
       "    </tr>\n",
       "    <tr>\n",
       "      <th>82482</th>\n",
       "      <td>0.09522</td>\n",
       "    </tr>\n",
       "    <tr>\n",
       "      <th>82533</th>\n",
       "      <td>0.05740</td>\n",
       "    </tr>\n",
       "    <tr>\n",
       "      <th>83169</th>\n",
       "      <td>0.07289</td>\n",
       "    </tr>\n",
       "    <tr>\n",
       "      <th>84316</th>\n",
       "      <td>0.18042</td>\n",
       "    </tr>\n",
       "    <tr>\n",
       "      <th>85725</th>\n",
       "      <td>0.07016</td>\n",
       "    </tr>\n",
       "    <tr>\n",
       "      <th>86489</th>\n",
       "      <td>0.14567</td>\n",
       "    </tr>\n",
       "    <tr>\n",
       "      <th>91260</th>\n",
       "      <td>0.07289</td>\n",
       "    </tr>\n",
       "    <tr>\n",
       "      <th>91301</th>\n",
       "      <td>0.07289</td>\n",
       "    </tr>\n",
       "    <tr>\n",
       "      <th>91406</th>\n",
       "      <td>0.05740</td>\n",
       "    </tr>\n",
       "    <tr>\n",
       "      <th>91409</th>\n",
       "      <td>0.12221</td>\n",
       "    </tr>\n",
       "    <tr>\n",
       "      <th>91436</th>\n",
       "      <td>0.58124</td>\n",
       "    </tr>\n",
       "    <tr>\n",
       "      <th>91459</th>\n",
       "      <td>0.11646</td>\n",
       "    </tr>\n",
       "    <tr>\n",
       "      <th>96217</th>\n",
       "      <td>0.12890</td>\n",
       "    </tr>\n",
       "    <tr>\n",
       "      <th>96242</th>\n",
       "      <td>0.15533</td>\n",
       "    </tr>\n",
       "    <tr>\n",
       "      <th>96248</th>\n",
       "      <td>0.21407</td>\n",
       "    </tr>\n",
       "    <tr>\n",
       "      <th>96249</th>\n",
       "      <td>0.20429</td>\n",
       "    </tr>\n",
       "    <tr>\n",
       "      <th>96266</th>\n",
       "      <td>0.07289</td>\n",
       "    </tr>\n",
       "    <tr>\n",
       "      <th>96268</th>\n",
       "      <td>0.15847</td>\n",
       "    </tr>\n",
       "    <tr>\n",
       "      <th>96292</th>\n",
       "      <td>0.19226</td>\n",
       "    </tr>\n",
       "    <tr>\n",
       "      <th>96294</th>\n",
       "      <td>0.10026</td>\n",
       "    </tr>\n",
       "    <tr>\n",
       "      <th>96296</th>\n",
       "      <td>0.12178</td>\n",
       "    </tr>\n",
       "  </tbody>\n",
       "</table>\n",
       "</div>"
      ],
      "text/plain": [
       "                                  value\n",
       "skill           param   class          \n",
       "Box and Whisker prior   default 0.43100\n",
       "                learns  70733   0.49616\n",
       "                        70872   0.63227\n",
       "                        72059   0.45275\n",
       "                        79748   0.63227\n",
       "                        79750   0.69036\n",
       "                        79769   0.51172\n",
       "                        81641   0.22680\n",
       "                        82482   0.63669\n",
       "                        82533   0.69636\n",
       "                        83169   0.63227\n",
       "                        84316   0.46074\n",
       "                        85725   0.67299\n",
       "                        86489   0.52054\n",
       "                        91260   0.63227\n",
       "                        91301   0.63227\n",
       "                        91406   0.69636\n",
       "                        91409   0.56077\n",
       "                        91436   0.08559\n",
       "                        91459   0.59956\n",
       "                        96217   0.54395\n",
       "                        96242   0.45275\n",
       "                        96248   0.36906\n",
       "                        96249   0.45008\n",
       "                        96266   0.63227\n",
       "                        96268   0.38091\n",
       "                        96292   0.38718\n",
       "                        96294   0.63159\n",
       "                        96296   0.53876\n",
       "                guesses default 0.44646\n",
       "                slips   default 0.12201\n",
       "                forgets 70733   0.15158\n",
       "                        70872   0.07289\n",
       "                        72059   0.15533\n",
       "                        79748   0.07289\n",
       "                        79750   0.06508\n",
       "                        79769   0.12102\n",
       "                        81641   0.41545\n",
       "                        82482   0.09522\n",
       "                        82533   0.05740\n",
       "                        83169   0.07289\n",
       "                        84316   0.18042\n",
       "                        85725   0.07016\n",
       "                        86489   0.14567\n",
       "                        91260   0.07289\n",
       "                        91301   0.07289\n",
       "                        91406   0.05740\n",
       "                        91409   0.12221\n",
       "                        91436   0.58124\n",
       "                        91459   0.11646\n",
       "                        96217   0.12890\n",
       "                        96242   0.15533\n",
       "                        96248   0.21407\n",
       "                        96249   0.20429\n",
       "                        96266   0.07289\n",
       "                        96268   0.15847\n",
       "                        96292   0.19226\n",
       "                        96294   0.10026\n",
       "                        96296   0.12178"
      ]
     },
     "execution_count": 22,
     "metadata": {},
     "output_type": "execute_result"
    }
   ],
   "source": [
    "model.params()"
   ]
  },
  {
   "cell_type": "markdown",
   "metadata": {},
   "source": [
    "The best performing models are typically those that combine several useful variants, such as the multilearn and multiguess/slip class variants. After this lab session, you might be interested in testing with other skills and see whether this observations is true for other skills as well."
   ]
  },
  {
   "cell_type": "markdown",
   "metadata": {},
   "source": [
    "### Make predictions\n",
    "\n",
    "As we said, the predict method can be executed on the trained BKT model, obtaining a dictionary mapping skills to predicted\n",
    "values for those skills, namely correct_predictions (each score is between 0 and 1 that measures the extent to which the model thinks that the student will answer correctly to that question) and state_predictions (each score between 0 and 1 that measures the extent to which the student has mastered that skill, after that question).\n",
    "        \n",
    "        \n",
    "Note that, in the example below, we have run the BKT fitting process on the full dataset, to understand how well the BKT model can fit the data. Evaluation methods like cross-validation will be presented slightly after in this notebook."
   ]
  },
  {
   "cell_type": "code",
   "execution_count": 23,
   "metadata": {
    "execution": {
     "iopub.execute_input": "2025-03-24T20:17:12.248767Z",
     "iopub.status.busy": "2025-03-24T20:17:12.246356Z",
     "iopub.status.idle": "2025-03-24T20:17:13.301046Z",
     "shell.execute_reply": "2025-03-24T20:17:13.299236Z",
     "shell.execute_reply.started": "2025-03-24T20:17:12.248643Z"
    }
   },
   "outputs": [
    {
     "name": "stdout",
     "output_type": "stream",
     "text": [
      "CPU times: user 1.47 s, sys: 3.9 ms, total: 1.48 s\n",
      "Wall time: 720 ms\n",
      "CPU times: user 305 ms, sys: 1.34 ms, total: 306 ms\n",
      "Wall time: 154 ms\n",
      "CPU times: user 337 ms, sys: 1.51 ms, total: 339 ms\n",
      "Wall time: 149 ms\n"
     ]
    }
   ],
   "source": [
    "model = Model(seed=0)\n",
    "%time model.fit(data=as_data, skills='Box and Whisker') \n",
    "%time model.evaluate(data=as_data, metric='auc') \n",
    "%time preds = model.predict(data=as_data)"
   ]
  },
  {
   "cell_type": "code",
   "execution_count": 24,
   "metadata": {
    "execution": {
     "iopub.execute_input": "2025-03-24T20:17:13.305280Z",
     "iopub.status.busy": "2025-03-24T20:17:13.304580Z",
     "iopub.status.idle": "2025-03-24T20:17:13.413188Z",
     "shell.execute_reply": "2025-03-24T20:17:13.411058Z",
     "shell.execute_reply.started": "2025-03-24T20:17:13.305226Z"
    }
   },
   "outputs": [
    {
     "data": {
      "text/html": [
       "<div>\n",
       "<style scoped>\n",
       "    .dataframe tbody tr th:only-of-type {\n",
       "        vertical-align: middle;\n",
       "    }\n",
       "\n",
       "    .dataframe tbody tr th {\n",
       "        vertical-align: top;\n",
       "    }\n",
       "\n",
       "    .dataframe thead th {\n",
       "        text-align: right;\n",
       "    }\n",
       "</style>\n",
       "<table border=\"1\" class=\"dataframe\">\n",
       "  <thead>\n",
       "    <tr style=\"text-align: right;\">\n",
       "      <th></th>\n",
       "      <th>user_id</th>\n",
       "      <th>correct</th>\n",
       "      <th>correct_predictions</th>\n",
       "      <th>state_predictions</th>\n",
       "    </tr>\n",
       "  </thead>\n",
       "  <tbody>\n",
       "    <tr>\n",
       "      <th>0</th>\n",
       "      <td>70733</td>\n",
       "      <td>0</td>\n",
       "      <td>0.63734</td>\n",
       "      <td>0.72169</td>\n",
       "    </tr>\n",
       "    <tr>\n",
       "      <th>1</th>\n",
       "      <td>70733</td>\n",
       "      <td>1</td>\n",
       "      <td>0.59043</td>\n",
       "      <td>0.63717</td>\n",
       "    </tr>\n",
       "    <tr>\n",
       "      <th>2</th>\n",
       "      <td>70733</td>\n",
       "      <td>0</td>\n",
       "      <td>0.74175</td>\n",
       "      <td>0.90983</td>\n",
       "    </tr>\n",
       "    <tr>\n",
       "      <th>3</th>\n",
       "      <td>70733</td>\n",
       "      <td>1</td>\n",
       "      <td>0.70018</td>\n",
       "      <td>0.83493</td>\n",
       "    </tr>\n",
       "    <tr>\n",
       "      <th>4</th>\n",
       "      <td>70733</td>\n",
       "      <td>1</td>\n",
       "      <td>0.77259</td>\n",
       "      <td>0.96541</td>\n",
       "    </tr>\n",
       "    <tr>\n",
       "      <th>...</th>\n",
       "      <td>...</td>\n",
       "      <td>...</td>\n",
       "      <td>...</td>\n",
       "      <td>...</td>\n",
       "    </tr>\n",
       "    <tr>\n",
       "      <th>219</th>\n",
       "      <td>96296</td>\n",
       "      <td>1</td>\n",
       "      <td>0.79178</td>\n",
       "      <td>1.00000</td>\n",
       "    </tr>\n",
       "    <tr>\n",
       "      <th>220</th>\n",
       "      <td>96296</td>\n",
       "      <td>1</td>\n",
       "      <td>0.79178</td>\n",
       "      <td>1.00000</td>\n",
       "    </tr>\n",
       "    <tr>\n",
       "      <th>221</th>\n",
       "      <td>96296</td>\n",
       "      <td>1</td>\n",
       "      <td>0.79178</td>\n",
       "      <td>1.00000</td>\n",
       "    </tr>\n",
       "    <tr>\n",
       "      <th>222</th>\n",
       "      <td>96296</td>\n",
       "      <td>1</td>\n",
       "      <td>0.79178</td>\n",
       "      <td>1.00000</td>\n",
       "    </tr>\n",
       "    <tr>\n",
       "      <th>223</th>\n",
       "      <td>96296</td>\n",
       "      <td>1</td>\n",
       "      <td>0.79178</td>\n",
       "      <td>1.00000</td>\n",
       "    </tr>\n",
       "  </tbody>\n",
       "</table>\n",
       "<p>224 rows × 4 columns</p>\n",
       "</div>"
      ],
      "text/plain": [
       "     user_id  correct  correct_predictions  state_predictions\n",
       "0      70733        0              0.63734            0.72169\n",
       "1      70733        1              0.59043            0.63717\n",
       "2      70733        0              0.74175            0.90983\n",
       "3      70733        1              0.70018            0.83493\n",
       "4      70733        1              0.77259            0.96541\n",
       "..       ...      ...                  ...                ...\n",
       "219    96296        1              0.79178            1.00000\n",
       "220    96296        1              0.79178            1.00000\n",
       "221    96296        1              0.79178            1.00000\n",
       "222    96296        1              0.79178            1.00000\n",
       "223    96296        1              0.79178            1.00000\n",
       "\n",
       "[224 rows x 4 columns]"
      ]
     },
     "execution_count": 24,
     "metadata": {},
     "output_type": "execute_result"
    }
   ],
   "source": [
    "preds[preds['skill_name']=='Box and Whisker'][['user_id', 'correct', 'correct_predictions', 'state_predictions']]"
   ]
  },
  {
   "cell_type": "markdown",
   "metadata": {},
   "source": [
    "Note that, if the BKT model is asked to predict on skills not included in the training set, the output predictions for that skills will be a best effort guess of 0.5 for both the correct and state predictions."
   ]
  },
  {
   "cell_type": "markdown",
   "metadata": {},
   "source": [
    "### Extend the evaluation\n",
    "\n",
    "The pyBKT package makes also possible to extend the range of metrics you can compute while evaluating a BKT model. To this end, you need to define a custom function that, given true_vals (true values for the correct target) and pred_vals (the predicted values for the correct target), computes and returns the score corresponding to the desired metric.  "
   ]
  },
  {
   "cell_type": "code",
   "execution_count": 25,
   "metadata": {
    "execution": {
     "iopub.execute_input": "2025-03-24T20:17:14.766475Z",
     "iopub.status.busy": "2025-03-24T20:17:14.763669Z",
     "iopub.status.idle": "2025-03-24T20:17:14.898626Z",
     "shell.execute_reply": "2025-03-24T20:17:14.896044Z",
     "shell.execute_reply.started": "2025-03-24T20:17:14.766425Z"
    }
   },
   "outputs": [
    {
     "name": "stdout",
     "output_type": "stream",
     "text": [
      "CPU times: user 183 ms, sys: 7.72 ms, total: 191 ms\n",
      "Wall time: 84.9 ms\n"
     ]
    },
    {
     "data": {
      "text/plain": [
       "0.36961943775251804"
      ]
     },
     "execution_count": 25,
     "metadata": {},
     "output_type": "execute_result"
    }
   ],
   "source": [
    "def mae(true_vals, pred_vals):\n",
    "    return np.mean(np.abs(true_vals - pred_vals))\n",
    "\n",
    "%time model.evaluate(data=as_data, metric=mae)"
   ]
  },
  {
   "cell_type": "markdown",
   "metadata": {},
   "source": [
    "### Perform cross validation\n",
    "\n",
    "Finally, the pyBKT package offers also a cross-validation method. You can specify the number of folds, a seed, and a metric (one of the three default ones, namely 'rmse', 'auc' or 'accuracy', or a custom Python function as we have see above). Furthermore, simialrly to the fit method, arguments for cross-validation a BKT variant and for defining the data path/data and skill names are accepted.  "
   ]
  },
  {
   "cell_type": "code",
   "execution_count": 26,
   "metadata": {
    "execution": {
     "iopub.execute_input": "2025-03-24T20:17:15.520819Z",
     "iopub.status.busy": "2025-03-24T20:17:15.517622Z",
     "iopub.status.idle": "2025-03-24T20:17:19.692690Z",
     "shell.execute_reply": "2025-03-24T20:17:19.689142Z",
     "shell.execute_reply.started": "2025-03-24T20:17:15.520649Z"
    }
   },
   "outputs": [
    {
     "name": "stdout",
     "output_type": "stream",
     "text": [
      "CPU times: user 8.11 s, sys: 15.3 ms, total: 8.13 s\n",
      "Wall time: 4.08 s\n"
     ]
    },
    {
     "data": {
      "text/html": [
       "<div>\n",
       "<style scoped>\n",
       "    .dataframe tbody tr th:only-of-type {\n",
       "        vertical-align: middle;\n",
       "    }\n",
       "\n",
       "    .dataframe tbody tr th {\n",
       "        vertical-align: top;\n",
       "    }\n",
       "\n",
       "    .dataframe thead th {\n",
       "        text-align: right;\n",
       "    }\n",
       "</style>\n",
       "<table border=\"1\" class=\"dataframe\">\n",
       "  <thead>\n",
       "    <tr style=\"text-align: right;\">\n",
       "      <th></th>\n",
       "      <th>auc</th>\n",
       "    </tr>\n",
       "    <tr>\n",
       "      <th>skill</th>\n",
       "      <th></th>\n",
       "    </tr>\n",
       "  </thead>\n",
       "  <tbody>\n",
       "    <tr>\n",
       "      <th>Box and Whisker</th>\n",
       "      <td>0.52424</td>\n",
       "    </tr>\n",
       "  </tbody>\n",
       "</table>\n",
       "</div>"
      ],
      "text/plain": [
       "                    auc\n",
       "skill                  \n",
       "Box and Whisker 0.52424"
      ]
     },
     "execution_count": 26,
     "metadata": {},
     "output_type": "execute_result"
    }
   ],
   "source": [
    "model = Model(seed=0)\n",
    "%time model.crossvalidate(data=as_data, skills='Box and Whisker', folds=5, metric='auc')"
   ]
  },
  {
   "cell_type": "markdown",
   "metadata": {},
   "source": [
    "In this showcase, we just opted to five folds due to the time constraints. In the other cases, you need to select an appropriate number of folds based on the data you are dealing with, as discussed in the lectures.  "
   ]
  },
  {
   "cell_type": "markdown",
   "metadata": {},
   "source": [
    "## Exercises\n",
    "---\n",
    "\n",
    "That's your turn! We ask you to complete the following exercises. In case you do not finish them during the lab session, please feel free to complete later, at your earliest convenience. TAs are happy to address any question or doubts you might have.\n",
    "\n",
    "Kindly note that the following exercises have the goal of supporting you in getting familiar with the library functions, and may not fully represent the sequences of steps and the design choices made in a real-world or homework scenario. Elements concerning the latter scenarios will be discussed during the session. Furthermore, due to running time constraints, the following exercises will be run in a train-test split or full data set mode, while we leave the opportunity to run them under a cross-validation setting after this lab session.     \n",
    "\n",
    "In all your models, we ask you to set the *seed* to 0, to let you reproduce the same results across different runs.\n",
    "\n",
    "Note that the expected running time may vary according to the device or environment. "
   ]
  },
  {
   "cell_type": "markdown",
   "metadata": {},
   "source": [
    "#### Question 1 [expected total time for BKT fitting: 2 mins]\n",
    "\n",
    "- Fit a BKT model with default parameters on the full data set, only for the skill 'Addition and Subtraction Integers'. \n",
    "- Compute the correct predictions from the BKT model, by using the predict method of the Model class. \n",
    "- Manually calculate the RMSE between the true correct value and the predicted correct value (refer to Slide 51 of Lecture 4 to get the RMSE formula). \n",
    "- Compare with the RMSE returned by the evaluate method of the BKT model. "
   ]
  },
  {
   "cell_type": "code",
   "execution_count": 27,
   "metadata": {
    "execution": {
     "iopub.execute_input": "2025-03-24T20:17:23.198436Z",
     "iopub.status.busy": "2025-03-24T20:17:23.196493Z",
     "iopub.status.idle": "2025-03-24T20:17:24.997026Z",
     "shell.execute_reply": "2025-03-24T20:17:24.991776Z",
     "shell.execute_reply.started": "2025-03-24T20:17:23.198337Z"
    }
   },
   "outputs": [
    {
     "name": "stdout",
     "output_type": "stream",
     "text": [
      "CPU times: user 3.02 s, sys: 8.44 ms, total: 3.03 s\n",
      "Wall time: 1.48 s\n",
      "Manual RMSE: 0.46374518977486445\n",
      "pyBKT RMSE: 0.46374518977486445\n"
     ]
    }
   ],
   "source": [
    "### EXERCISE CELL ###\n",
    "def rmse(y_true, y_pred):\n",
    "    return np.sqrt(np.mean((y_true - y_pred) ** 2))\n",
    "\n",
    "model = Model(seed=0)\n",
    "%time model.fit(data=as_data, skills='Addition and Subtraction Integers') \n",
    "preds = model.predict(data=as_data)\n",
    "\n",
    "preds_filtered = preds[preds['skill_name'].str.contains('Addition and Subtraction Integers')]\n",
    "manual_training_rmse = rmse(preds_filtered['correct'], preds_filtered['correct_predictions'])\n",
    "\n",
    "print('Manual RMSE:', manual_training_rmse)\n",
    "print('pyBKT RMSE:', model.evaluate(data=as_data, metric='rmse'))"
   ]
  },
  {
   "cell_type": "markdown",
   "metadata": {},
   "source": [
    "#### Question 2 [expected total time for BKT fitting: 7 mins]\n",
    "- Perform a user-based train-test split of the data, with 20% of the users in the test set.\n",
    "- Fit the two BKT model variants on the training set, only for the skill 'Addition and Subtraction Integers'. \n",
    "    - default;\n",
    "    - forgets=True;\n",
    "- Which model variant listed below has the highest test AUC for 'Addition and Subtraction Integers' in the test set?"
   ]
  },
  {
   "cell_type": "code",
   "execution_count": 28,
   "metadata": {
    "execution": {
     "iopub.execute_input": "2025-03-24T20:17:32.244038Z",
     "iopub.status.busy": "2025-03-24T20:17:32.242199Z",
     "iopub.status.idle": "2025-03-24T20:17:33.112173Z",
     "shell.execute_reply": "2025-03-24T20:17:33.108911Z",
     "shell.execute_reply.started": "2025-03-24T20:17:32.243903Z"
    }
   },
   "outputs": [
    {
     "name": "stdout",
     "output_type": "stream",
     "text": [
      "CPU times: user 634 ms, sys: 788 μs, total: 635 ms\n",
      "Wall time: 315 ms\n",
      "CPU times: user 304 ms, sys: 2.69 ms, total: 307 ms\n",
      "Wall time: 192 ms\n"
     ]
    },
    {
     "data": {
      "text/html": [
       "<div>\n",
       "<style scoped>\n",
       "    .dataframe tbody tr th:only-of-type {\n",
       "        vertical-align: middle;\n",
       "    }\n",
       "\n",
       "    .dataframe tbody tr th {\n",
       "        vertical-align: top;\n",
       "    }\n",
       "\n",
       "    .dataframe thead th {\n",
       "        text-align: right;\n",
       "    }\n",
       "</style>\n",
       "<table border=\"1\" class=\"dataframe\">\n",
       "  <thead>\n",
       "    <tr style=\"text-align: right;\">\n",
       "      <th></th>\n",
       "      <th>AUC</th>\n",
       "    </tr>\n",
       "    <tr>\n",
       "      <th>Model Type</th>\n",
       "      <th></th>\n",
       "    </tr>\n",
       "  </thead>\n",
       "  <tbody>\n",
       "    <tr>\n",
       "      <th>simple</th>\n",
       "      <td>0.59816</td>\n",
       "    </tr>\n",
       "    <tr>\n",
       "      <th>forgets</th>\n",
       "      <td>0.57596</td>\n",
       "    </tr>\n",
       "  </tbody>\n",
       "</table>\n",
       "</div>"
      ],
      "text/plain": [
       "               AUC\n",
       "Model Type        \n",
       "simple     0.59816\n",
       "forgets    0.57596"
      ]
     },
     "execution_count": 28,
     "metadata": {},
     "output_type": "execute_result"
    }
   ],
   "source": [
    "### EXERCISE CELL ###\n",
    "users = as_data['user_id'].unique()\n",
    "users_train = list(np.random.choice(users, int(len(users) * 0.8), replace=False))\n",
    "users_test = list(set(users) - set(users_train))\n",
    "\n",
    "X_train, X_test = as_data[as_data['user_id'].isin(users_train)], as_data[as_data['user_id'].isin(users_test)]\n",
    "\n",
    "models = {}\n",
    "\n",
    "model = Model(seed=0, num_fits=1)\n",
    "%time model.fit(data=X_train, skills='Addition and Subtraction Integers')\n",
    "models['simple'] = model.evaluate(data=X_test, metric='auc')\n",
    "\n",
    "model = Model(seed=0, num_fits=1)\n",
    "%time model.fit(data=X_train, skills='Addition and Subtraction Integers', forgets=True)\n",
    "models['forgets'] = model.evaluate(data=X_test, metric='auc')\n",
    "\n",
    "df = pd.DataFrame(models.items())\n",
    "df.columns = ['Model Type', 'AUC']\n",
    "df.set_index('Model Type')"
   ]
  },
  {
   "cell_type": "markdown",
   "metadata": {},
   "source": [
    "#### Question 3  [expected total time for BKT fitting: 3 mins]\n",
    "- Bin values in the ms_first_response column in *as_data* to categories ('less than 10s', 'less than 20s', 'less than 30s','less than 40s', 'less than 50s', 'other'). \n",
    "- Fit BKT models with different learn rates, according to the ms_first_response categories above, on the full data set, only for the skill 'Addition and Subtraction Integers'. You need to play with the multilearn parameter of the BKT fit method.\n",
    "- Create a bar plot to show the $P_{\\text{L}}$ (learns) value for each ms_first_response category above. You basically need to play with the dataframe returned by model.params(), to prepare the data to be shown in the plot.\n",
    "- Does binned response time influence the $P_{\\text{L}}$ parameter for the skill 'Addition and Subtraction Integers'? Which bin result in the highest $P_{\\text{L}}$ scores?"
   ]
  },
  {
   "cell_type": "code",
   "execution_count": 29,
   "metadata": {
    "execution": {
     "iopub.execute_input": "2025-03-24T20:17:41.388665Z",
     "iopub.status.busy": "2025-03-24T20:17:41.385989Z",
     "iopub.status.idle": "2025-03-24T20:17:42.014524Z",
     "shell.execute_reply": "2025-03-24T20:17:42.012936Z",
     "shell.execute_reply.started": "2025-03-24T20:17:41.388512Z"
    }
   },
   "outputs": [
    {
     "name": "stdout",
     "output_type": "stream",
     "text": [
      "CPU times: user 1.11 s, sys: 3.15 ms, total: 1.11 s\n",
      "Wall time: 483 ms\n"
     ]
    },
    {
     "data": {
      "text/html": [
       "<div>\n",
       "<style scoped>\n",
       "    .dataframe tbody tr th:only-of-type {\n",
       "        vertical-align: middle;\n",
       "    }\n",
       "\n",
       "    .dataframe tbody tr th {\n",
       "        vertical-align: top;\n",
       "    }\n",
       "\n",
       "    .dataframe thead th {\n",
       "        text-align: right;\n",
       "    }\n",
       "</style>\n",
       "<table border=\"1\" class=\"dataframe\">\n",
       "  <thead>\n",
       "    <tr style=\"text-align: right;\">\n",
       "      <th></th>\n",
       "      <th>skill</th>\n",
       "      <th>param</th>\n",
       "      <th>class</th>\n",
       "      <th>value</th>\n",
       "    </tr>\n",
       "  </thead>\n",
       "  <tbody>\n",
       "    <tr>\n",
       "      <th>0</th>\n",
       "      <td>Addition and Subtraction Integers</td>\n",
       "      <td>prior</td>\n",
       "      <td>default</td>\n",
       "      <td>0.80168</td>\n",
       "    </tr>\n",
       "    <tr>\n",
       "      <th>1</th>\n",
       "      <td>Addition and Subtraction Integers</td>\n",
       "      <td>learns</td>\n",
       "      <td>less than 10s</td>\n",
       "      <td>0.01370</td>\n",
       "    </tr>\n",
       "    <tr>\n",
       "      <th>2</th>\n",
       "      <td>Addition and Subtraction Integers</td>\n",
       "      <td>learns</td>\n",
       "      <td>less than 20s</td>\n",
       "      <td>0.02163</td>\n",
       "    </tr>\n",
       "    <tr>\n",
       "      <th>3</th>\n",
       "      <td>Addition and Subtraction Integers</td>\n",
       "      <td>learns</td>\n",
       "      <td>less than 30s</td>\n",
       "      <td>0.00936</td>\n",
       "    </tr>\n",
       "    <tr>\n",
       "      <th>4</th>\n",
       "      <td>Addition and Subtraction Integers</td>\n",
       "      <td>learns</td>\n",
       "      <td>less than 40s</td>\n",
       "      <td>0.01822</td>\n",
       "    </tr>\n",
       "    <tr>\n",
       "      <th>5</th>\n",
       "      <td>Addition and Subtraction Integers</td>\n",
       "      <td>learns</td>\n",
       "      <td>less than 50s</td>\n",
       "      <td>0.02270</td>\n",
       "    </tr>\n",
       "    <tr>\n",
       "      <th>6</th>\n",
       "      <td>Addition and Subtraction Integers</td>\n",
       "      <td>learns</td>\n",
       "      <td>other</td>\n",
       "      <td>0.01038</td>\n",
       "    </tr>\n",
       "    <tr>\n",
       "      <th>7</th>\n",
       "      <td>Addition and Subtraction Integers</td>\n",
       "      <td>guesses</td>\n",
       "      <td>default</td>\n",
       "      <td>0.34622</td>\n",
       "    </tr>\n",
       "    <tr>\n",
       "      <th>8</th>\n",
       "      <td>Addition and Subtraction Integers</td>\n",
       "      <td>slips</td>\n",
       "      <td>default</td>\n",
       "      <td>0.23211</td>\n",
       "    </tr>\n",
       "    <tr>\n",
       "      <th>9</th>\n",
       "      <td>Addition and Subtraction Integers</td>\n",
       "      <td>forgets</td>\n",
       "      <td>less than 10s</td>\n",
       "      <td>0.00000</td>\n",
       "    </tr>\n",
       "    <tr>\n",
       "      <th>10</th>\n",
       "      <td>Addition and Subtraction Integers</td>\n",
       "      <td>forgets</td>\n",
       "      <td>less than 20s</td>\n",
       "      <td>0.00000</td>\n",
       "    </tr>\n",
       "    <tr>\n",
       "      <th>11</th>\n",
       "      <td>Addition and Subtraction Integers</td>\n",
       "      <td>forgets</td>\n",
       "      <td>less than 30s</td>\n",
       "      <td>0.00000</td>\n",
       "    </tr>\n",
       "    <tr>\n",
       "      <th>12</th>\n",
       "      <td>Addition and Subtraction Integers</td>\n",
       "      <td>forgets</td>\n",
       "      <td>less than 40s</td>\n",
       "      <td>0.00000</td>\n",
       "    </tr>\n",
       "    <tr>\n",
       "      <th>13</th>\n",
       "      <td>Addition and Subtraction Integers</td>\n",
       "      <td>forgets</td>\n",
       "      <td>less than 50s</td>\n",
       "      <td>0.00000</td>\n",
       "    </tr>\n",
       "    <tr>\n",
       "      <th>14</th>\n",
       "      <td>Addition and Subtraction Integers</td>\n",
       "      <td>forgets</td>\n",
       "      <td>other</td>\n",
       "      <td>0.00000</td>\n",
       "    </tr>\n",
       "  </tbody>\n",
       "</table>\n",
       "</div>"
      ],
      "text/plain": [
       "                                skill    param          class   value\n",
       "0   Addition and Subtraction Integers    prior        default 0.80168\n",
       "1   Addition and Subtraction Integers   learns  less than 10s 0.01370\n",
       "2   Addition and Subtraction Integers   learns  less than 20s 0.02163\n",
       "3   Addition and Subtraction Integers   learns  less than 30s 0.00936\n",
       "4   Addition and Subtraction Integers   learns  less than 40s 0.01822\n",
       "5   Addition and Subtraction Integers   learns  less than 50s 0.02270\n",
       "6   Addition and Subtraction Integers   learns          other 0.01038\n",
       "7   Addition and Subtraction Integers  guesses        default 0.34622\n",
       "8   Addition and Subtraction Integers    slips        default 0.23211\n",
       "9   Addition and Subtraction Integers  forgets  less than 10s 0.00000\n",
       "10  Addition and Subtraction Integers  forgets  less than 20s 0.00000\n",
       "11  Addition and Subtraction Integers  forgets  less than 30s 0.00000\n",
       "12  Addition and Subtraction Integers  forgets  less than 40s 0.00000\n",
       "13  Addition and Subtraction Integers  forgets  less than 50s 0.00000\n",
       "14  Addition and Subtraction Integers  forgets          other 0.00000"
      ]
     },
     "execution_count": 29,
     "metadata": {},
     "output_type": "execute_result"
    }
   ],
   "source": [
    "### EXERCISE CELL ###\n",
    "\n",
    "skill = 'Addition and Subtraction Integers'\n",
    "\n",
    "# Binning\n",
    "learn_maps = {0: 'less than 10s', 1: 'less than 20s', 2: 'less than 30s', 3: 'less than 40s', 4: 'less than 50s'}\n",
    "as_data['bin_s_first_response'] = (as_data['ms_first_response'] // (10 * 1000)).map(learn_maps).fillna('other')\n",
    "\n",
    "# Modelling\n",
    "model = Model(seed=0, num_fits=1)\n",
    "%time model.fit(data=as_data, skills=skill, multilearn='bin_s_first_response')\n",
    "params = model.params().reset_index()\n",
    "\n",
    "params"
   ]
  },
  {
   "cell_type": "code",
   "execution_count": 30,
   "metadata": {
    "execution": {
     "iopub.execute_input": "2025-03-24T20:17:43.808294Z",
     "iopub.status.busy": "2025-03-24T20:17:43.807208Z",
     "iopub.status.idle": "2025-03-24T20:17:44.415857Z",
     "shell.execute_reply": "2025-03-24T20:17:44.412262Z",
     "shell.execute_reply.started": "2025-03-24T20:17:43.808211Z"
    }
   },
   "outputs": [
    {
     "data": {
      "image/png": "[encoded data removed]",
      "text/plain": [
       "<Figure size 1200x600 with 1 Axes>"
      ]
     },
     "metadata": {},
     "output_type": "display_data"
    }
   ],
   "source": [
    "plt.figure(figsize = (12, 6))\n",
    "plt.title(r'$P_{L}$ per response time')\n",
    "params_learns = params[params['param'] == 'learns'].sort_values(by='class').copy()\n",
    "labels = params_learns['class']\n",
    "values = params_learns['value']\n",
    "plt.bar(labels, values, width=0.4)\n",
    "plt.ylabel(r'$P_{L}$')\n",
    "plt.xlabel('Response Time')\n",
    "plt.ylim([0, .1])\n",
    "plt.grid(axis='y')\n",
    "plt.show()"
   ]
  },
  {
   "cell_type": "markdown",
   "metadata": {},
   "source": [
    "#### Question 4 [expected total time for BKT fitting: 8 mins]\n",
    "- Use the same bins ms_first_response to categories ('less than 10s', 'less than 20s', 'less than 30s','less than 40s', 'less than 50s', 'other').\n",
    "- Fit a BKT model with template-id multilearn (default), on the full data set, only for the skill 'Addition and Subtraction Integers'.\n",
    "- Fit a BKT model with binned-response-time-based multilearn, on the full data set, only for the skill 'Addition and Subtraction Integers'.\n",
    "- Does the binned-response-time-based multilearn improve the AUC of the model compared to the default template_id-based multilearn?"
   ]
  },
  {
   "cell_type": "code",
   "execution_count": 31,
   "metadata": {
    "execution": {
     "iopub.execute_input": "2025-03-24T20:17:47.828937Z",
     "iopub.status.busy": "2025-03-24T20:17:47.826827Z",
     "iopub.status.idle": "2025-03-24T20:17:48.705093Z",
     "shell.execute_reply": "2025-03-24T20:17:48.703285Z",
     "shell.execute_reply.started": "2025-03-24T20:17:47.828836Z"
    }
   },
   "outputs": [
    {
     "name": "stdout",
     "output_type": "stream",
     "text": [
      "CPU times: user 566 ms, sys: 4.95 ms, total: 571 ms\n",
      "Wall time: 256 ms\n",
      "CPU times: user 528 ms, sys: 74 μs, total: 528 ms\n",
      "Wall time: 295 ms\n"
     ]
    },
    {
     "data": {
      "text/plain": [
       "('AUC Improvement using Response Time:', 0.003662326131991578)"
      ]
     },
     "execution_count": 31,
     "metadata": {},
     "output_type": "execute_result"
    }
   ],
   "source": [
    "### EXERCISE CELL ###\n",
    "skill = 'Addition and Subtraction Integers'\n",
    "\n",
    "model = Model(seed=0, num_fits=1)\n",
    "%time model.fit(data=as_data, skills=skill, multilearn=True)\n",
    "default_multilearn_auc = model.evaluate(data=as_data, metric='auc')\n",
    "\n",
    "model = Model(seed=0, num_fits=1)\n",
    "%time model.fit(data=as_data, skills=skill, multilearn='bin_s_first_response')\n",
    "time_multilearn_auc = model.evaluate(data=as_data, metric='auc')\n",
    "\n",
    "'AUC Improvement using Response Time:', time_multilearn_auc - default_multilearn_auc"
   ]
  },
  {
   "cell_type": "markdown",
   "metadata": {},
   "source": [
    "## Summary\n",
    "---\n",
    "\n",
    "In this tutorial, we have seen several important aspects of Bayesian Knowledge Tracing (BKT). We have shown how a typical data set for knowledge tracing should look like. We have illustrated how BKT models can be trained on different skills. We have shown how different variants of BKT can help you improve the goodness of your model. Many of the ideas described in this tutorial can be adapted to other data sets and projects. Finally, we have shown some examples of predictions and evaluations, covering also cross-validation. If you are interested in the implementation details of the different variants, we invite you to explore the codebase stored in the pyBKT Github repository. "
   ]
  },
  {
   "cell_type": "code",
   "execution_count": null,
   "metadata": {},
   "outputs": [],
   "source": []
  }
 ],
 "metadata": {
  "kernelspec": {
   "display_name": "Python3",
   "language": "python",
   "name": "python3"
  },
  "language_info": {
   "codemirror_mode": {
    "name": "ipython",
    "version": 3
   },
   "file_extension": ".py",
   "mimetype": "text/x-python",
   "name": "python",
   "nbconvert_exporter": "python",
   "pygments_lexer": "ipython3",
   "version": "3.12.5"
  }
 },
 "nbformat": 4,
 "nbformat_minor": 4
}
