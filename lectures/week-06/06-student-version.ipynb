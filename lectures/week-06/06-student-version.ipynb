{
 "cells": [
  {
   "cell_type": "markdown",
   "id": "b8135284-1238-480e-89d8-5790b142ea66",
   "metadata": {},
   "source": [
    "# Lecture 6 - Student Notebook"
   ]
  },
  {
   "cell_type": "markdown",
   "id": "494fe36e-c815-4bae-88b4-6c784e829d1d",
   "metadata": {
    "tags": []
   },
   "source": [
    "ASSISTments is a free tool for assigning and assessing math problems and homework. Teachers can select and assign problem sets. Once they get an assignment, students can complete it at their own pace and with the help of hints, multiple chances, and immediate feedback. Teachers get instant results broken down by individual student or for the whole class. The dataset involves 4,217 middle-school students practicing an electronic tutor that teaches and evaluates students in grade-school math, with a total of 525,534 trials. The student data are in a comma-delimited text file with one row per trial. The columns should correspond to a trial's user id, the order id (timestamp), the skill name, and and whether the student produced a correct response in the trial. More information on the platform can be found [here](https://www.commonsense.org/education/website/assistments). \n",
    "\n",
    "The ASSISTments data sets are often used for benchmarking knowledge tracing models. We will play with a simplified data set that contains the following columns:\n",
    "\n",
    "| Name                   | Description                         |\n",
    "| ---------------------- | ------------------------------------------------------------ |\n",
    "| user_id | The ID of the student who is solving the problem.  | |\n",
    "| order_id | The temporal ID (timestamp) associated with the student's answer to the problem.  | |\n",
    "| skill_name | The name of the skill associated with the problem. | |\n",
    "| correct | The student's performance on the problem: 1 if the problem's answer is correct at the first attempt, 0 otherwise. "
   ]
  },
  {
   "cell_type": "markdown",
   "id": "f8f92b49-a6b7-481e-abe3-8bd1d929965f",
   "metadata": {},
   "source": [
    "We first load the data set."
   ]
  },
  {
   "cell_type": "code",
   "execution_count": 9,
   "id": "6cb3cc5d-dfdc-4214-b01c-0f9b8dfa77a7",
   "metadata": {
    "execution": {
     "iopub.execute_input": "2025-03-24T20:13:58.614568Z",
     "iopub.status.busy": "2025-03-24T20:13:58.612570Z",
     "iopub.status.idle": "2025-03-24T20:13:58.630822Z",
     "shell.execute_reply": "2025-03-24T20:13:58.628189Z",
     "shell.execute_reply.started": "2025-03-24T20:13:58.614471Z"
    }
   },
   "outputs": [],
   "source": [
    "# Principal package imports\n",
    "import matplotlib.pyplot as plt\n",
    "import seaborn as sns\n",
    "import pandas as pd\n",
    "import numpy as np\n",
    "import scipy as sc\n",
    "\n",
    "# Scikit-learn package imports\n",
    "from sklearn import feature_extraction, model_selection\n",
    "from sklearn.metrics import root_mean_squared_error, mean_squared_error, roc_auc_score\n",
    "\n",
    "# PyBKT package imports\n",
    "import random\n",
    "old_randint = random.randint\n",
    "random.randint = lambda a, b: old_randint(a, int(b))\n",
    "from pyBKT.models import Model\n",
    "random.randint = old_randint\n",
    "\n",
    "DATA_DIR = \"./../../data/\""
   ]
  },
  {
   "cell_type": "code",
   "execution_count": 3,
   "id": "f0e03b6b-462f-4770-af1c-c0b4fd00f565",
   "metadata": {
    "execution": {
     "iopub.execute_input": "2025-03-24T20:12:58.006461Z",
     "iopub.status.busy": "2025-03-24T20:12:58.003021Z",
     "iopub.status.idle": "2025-03-24T20:12:58.383945Z",
     "shell.execute_reply": "2025-03-24T20:12:58.382618Z",
     "shell.execute_reply.started": "2025-03-24T20:12:58.006292Z"
    }
   },
   "outputs": [
    {
     "data": {
      "text/html": [
       "<div>\n",
       "<style scoped>\n",
       "    .dataframe tbody tr th:only-of-type {\n",
       "        vertical-align: middle;\n",
       "    }\n",
       "\n",
       "    .dataframe tbody tr th {\n",
       "        vertical-align: top;\n",
       "    }\n",
       "\n",
       "    .dataframe thead th {\n",
       "        text-align: right;\n",
       "    }\n",
       "</style>\n",
       "<table border=\"1\" class=\"dataframe\">\n",
       "  <thead>\n",
       "    <tr style=\"text-align: right;\">\n",
       "      <th></th>\n",
       "      <th>user_id</th>\n",
       "      <th>order_id</th>\n",
       "      <th>skill_name</th>\n",
       "      <th>correct</th>\n",
       "    </tr>\n",
       "  </thead>\n",
       "  <tbody>\n",
       "    <tr>\n",
       "      <th>0</th>\n",
       "      <td>64525</td>\n",
       "      <td>33022537</td>\n",
       "      <td>Box and Whisker</td>\n",
       "      <td>1</td>\n",
       "    </tr>\n",
       "    <tr>\n",
       "      <th>1</th>\n",
       "      <td>64525</td>\n",
       "      <td>33022709</td>\n",
       "      <td>Box and Whisker</td>\n",
       "      <td>1</td>\n",
       "    </tr>\n",
       "    <tr>\n",
       "      <th>2</th>\n",
       "      <td>70363</td>\n",
       "      <td>35450204</td>\n",
       "      <td>Box and Whisker</td>\n",
       "      <td>0</td>\n",
       "    </tr>\n",
       "    <tr>\n",
       "      <th>3</th>\n",
       "      <td>70363</td>\n",
       "      <td>35450295</td>\n",
       "      <td>Box and Whisker</td>\n",
       "      <td>1</td>\n",
       "    </tr>\n",
       "    <tr>\n",
       "      <th>4</th>\n",
       "      <td>70363</td>\n",
       "      <td>35450311</td>\n",
       "      <td>Box and Whisker</td>\n",
       "      <td>0</td>\n",
       "    </tr>\n",
       "  </tbody>\n",
       "</table>\n",
       "</div>"
      ],
      "text/plain": [
       "   user_id  order_id       skill_name  correct\n",
       "0    64525  33022537  Box and Whisker        1\n",
       "1    64525  33022709  Box and Whisker        1\n",
       "2    70363  35450204  Box and Whisker        0\n",
       "3    70363  35450295  Box and Whisker        1\n",
       "4    70363  35450311  Box and Whisker        0"
      ]
     },
     "execution_count": 3,
     "metadata": {},
     "output_type": "execute_result"
    }
   ],
   "source": [
    "assistments = pd.read_csv(DATA_DIR + 'assistments.csv', low_memory=False).dropna()\n",
    "assistments.head()"
   ]
  },
  {
   "cell_type": "markdown",
   "id": "462477a1-47f4-4610-b41e-569cf320903f",
   "metadata": {},
   "source": [
    "Next, we print the number of unique students and skills in this data set."
   ]
  },
  {
   "cell_type": "code",
   "execution_count": 4,
   "id": "6d8bfc64-ddd6-48b7-9a05-5a5453e5f17b",
   "metadata": {
    "execution": {
     "iopub.execute_input": "2025-03-24T20:12:59.611180Z",
     "iopub.status.busy": "2025-03-24T20:12:59.608495Z",
     "iopub.status.idle": "2025-03-24T20:12:59.781092Z",
     "shell.execute_reply": "2025-03-24T20:12:59.779895Z",
     "shell.execute_reply.started": "2025-03-24T20:12:59.611062Z"
    }
   },
   "outputs": [
    {
     "name": "stdout",
     "output_type": "stream",
     "text": [
      "Number of unique students in the dataset: 4151\n",
      "Number of unique skills in the dataset: 110\n"
     ]
    }
   ],
   "source": [
    "print(\"Number of unique students in the dataset:\", len(set(assistments['user_id'])))\n",
    "print(\"Number of unique skills in the dataset:\", len(set(assistments['skill_name'])))"
   ]
  },
  {
   "cell_type": "markdown",
   "id": "6d0ae960-79c4-45f0-bbd4-3cf51ca7344b",
   "metadata": {},
   "source": [
    "To keep things simpler for demonstration purposes, we will focus on the following 6 skills in this lecture:  \n",
    "`'Circle Graph', 'Venn Diagram', 'Mode', 'Division Fractions', 'Finding Percents', 'Area Rectangle'`"
   ]
  },
  {
   "cell_type": "code",
   "execution_count": 5,
   "id": "bb4c7e15-5630-407f-933c-7debb291efc3",
   "metadata": {
    "execution": {
     "iopub.execute_input": "2025-03-24T20:13:01.331549Z",
     "iopub.status.busy": "2025-03-24T20:13:01.330515Z",
     "iopub.status.idle": "2025-03-24T20:13:01.424956Z",
     "shell.execute_reply": "2025-03-24T20:13:01.423074Z",
     "shell.execute_reply.started": "2025-03-24T20:13:01.331463Z"
    }
   },
   "outputs": [
    {
     "name": "stdout",
     "output_type": "stream",
     "text": [
      "Skill set: {'Area Rectangle', 'Division Fractions', 'Mode', 'Venn Diagram', 'Finding Percents', 'Circle Graph'}\n",
      "Number of unique students in the subset: 1527\n",
      "Number of unique skills in the subset: 6\n"
     ]
    }
   ],
   "source": [
    "skills_subset = ['Circle Graph', 'Venn Diagram', 'Mode', 'Division Fractions', 'Finding Percents', 'Area Rectangle']\n",
    "data = assistments[assistments['skill_name'].isin(skills_subset)]\n",
    "\n",
    "print(\"Skill set:\", set(data['skill_name']))\n",
    "print(\"Number of unique students in the subset:\", len(set(data['user_id'])))\n",
    "print(\"Number of unique skills in the subset:\", len(set(data['skill_name'])))"
   ]
  },
  {
   "cell_type": "markdown",
   "id": "a34af67d-bc3b-43d0-b6ef-6e5dec325f84",
   "metadata": {
    "tags": []
   },
   "source": [
    "## BKT Models - Training & Prediction"
   ]
  },
  {
   "cell_type": "markdown",
   "id": "9c6d6461-0feb-4d0b-a64e-14726751a322",
   "metadata": {},
   "source": [
    "We will use a train-test setting (20% of students in the test set). The `create_iterator` function creates an iterator object able to split student's interactions included in data in 10 folds such that the same student does not appear in two different folds. To do so, we appropriately initialize a scikit-learn's GroupShuffleSplit iterator with 80% training set size and non-overlapping groups, then return the iterator."
   ]
  },
  {
   "cell_type": "code",
   "execution_count": 6,
   "id": "04366897-417c-4764-b3f0-f5990eb62d74",
   "metadata": {
    "execution": {
     "iopub.execute_input": "2025-03-24T20:13:03.673177Z",
     "iopub.status.busy": "2025-03-24T20:13:03.672095Z",
     "iopub.status.idle": "2025-03-24T20:13:03.691266Z",
     "shell.execute_reply": "2025-03-24T20:13:03.687844Z",
     "shell.execute_reply.started": "2025-03-24T20:13:03.673089Z"
    }
   },
   "outputs": [],
   "source": [
    "def create_iterator(data):\n",
    "    '''\n",
    "    Create an iterator to split interactions in data into train and test, with the same student not appearing in two diverse folds.\n",
    "    :param data:        Dataframe with student's interactions.\n",
    "    :return:            An iterator.\n",
    "    '''    \n",
    "    # Both passing a matrix with the raw data or just an array of indexes works\n",
    "    X = np.arange(len(data.index)) \n",
    "    # Groups of interactions are identified by the user id (we do not want the same user appearing in two folds)\n",
    "    groups = data['user_id'].values \n",
    "    return model_selection.GroupShuffleSplit(n_splits=1, train_size=.8, test_size=0.2, random_state=0).split(X, groups=groups)"
   ]
  },
  {
   "cell_type": "markdown",
   "id": "aebbb1db-f4d5-46fb-a90c-01a0d45e0d88",
   "metadata": {},
   "source": [
    "Next, we train a BKT model for each skill on the training data set and then predict on the test data set.\n",
    "We obtain `df_preds`, a data frame containing the predictions for each user and skill in the test data set. We output the overall RMSE and AUC scores."
   ]
  },
  {
   "cell_type": "code",
   "execution_count": 10,
   "id": "2a4f2ded-0e4a-46b8-a372-9cbc2e47b8c4",
   "metadata": {
    "execution": {
     "iopub.execute_input": "2025-03-24T20:14:02.891293Z",
     "iopub.status.busy": "2025-03-24T20:14:02.889895Z",
     "iopub.status.idle": "2025-03-24T20:14:13.736742Z",
     "shell.execute_reply": "2025-03-24T20:14:13.733826Z",
     "shell.execute_reply.started": "2025-03-24T20:14:02.891207Z"
    }
   },
   "outputs": [
    {
     "name": "stdout",
     "output_type": "stream",
     "text": [
      "-- Circle Graph --\n",
      "CPU times: user 3.78 s, sys: 4.18 ms, total: 3.78 s\n",
      "Wall time: 1.86 s\n",
      "-- Venn Diagram --\n",
      "CPU times: user 4.1 s, sys: 5.78 ms, total: 4.1 s\n",
      "Wall time: 2.08 s\n",
      "-- Mode --\n",
      "CPU times: user 3.07 s, sys: 4.83 ms, total: 3.07 s\n",
      "Wall time: 1.49 s\n",
      "-- Division Fractions --\n",
      "CPU times: user 2.63 s, sys: 6.05 ms, total: 2.64 s\n",
      "Wall time: 1.28 s\n",
      "-- Finding Percents --\n",
      "CPU times: user 3.67 s, sys: 7.27 ms, total: 3.68 s\n",
      "Wall time: 1.87 s\n",
      "-- Area Rectangle --\n",
      "CPU times: user 2.09 s, sys: 2.65 ms, total: 2.1 s\n",
      "Wall time: 1.08 s\n"
     ]
    },
    {
     "data": {
      "text/html": [
       "<div>\n",
       "<style scoped>\n",
       "    .dataframe tbody tr th:only-of-type {\n",
       "        vertical-align: middle;\n",
       "    }\n",
       "\n",
       "    .dataframe tbody tr th {\n",
       "        vertical-align: top;\n",
       "    }\n",
       "\n",
       "    .dataframe thead th {\n",
       "        text-align: right;\n",
       "    }\n",
       "</style>\n",
       "<table border=\"1\" class=\"dataframe\">\n",
       "  <thead>\n",
       "    <tr style=\"text-align: right;\">\n",
       "      <th></th>\n",
       "      <th>user_id</th>\n",
       "      <th>skill_name</th>\n",
       "      <th>correct</th>\n",
       "      <th>correct_predictions</th>\n",
       "    </tr>\n",
       "  </thead>\n",
       "  <tbody>\n",
       "    <tr>\n",
       "      <th>0</th>\n",
       "      <td>64525</td>\n",
       "      <td>Circle Graph</td>\n",
       "      <td>1</td>\n",
       "      <td>0.46445</td>\n",
       "    </tr>\n",
       "    <tr>\n",
       "      <th>1</th>\n",
       "      <td>64525</td>\n",
       "      <td>Circle Graph</td>\n",
       "      <td>1</td>\n",
       "      <td>0.63961</td>\n",
       "    </tr>\n",
       "    <tr>\n",
       "      <th>2</th>\n",
       "      <td>64525</td>\n",
       "      <td>Circle Graph</td>\n",
       "      <td>1</td>\n",
       "      <td>0.69391</td>\n",
       "    </tr>\n",
       "    <tr>\n",
       "      <th>3</th>\n",
       "      <td>64525</td>\n",
       "      <td>Circle Graph</td>\n",
       "      <td>0</td>\n",
       "      <td>0.70517</td>\n",
       "    </tr>\n",
       "    <tr>\n",
       "      <th>4</th>\n",
       "      <td>64525</td>\n",
       "      <td>Circle Graph</td>\n",
       "      <td>1</td>\n",
       "      <td>0.70061</td>\n",
       "    </tr>\n",
       "    <tr>\n",
       "      <th>...</th>\n",
       "      <td>...</td>\n",
       "      <td>...</td>\n",
       "      <td>...</td>\n",
       "      <td>...</td>\n",
       "    </tr>\n",
       "    <tr>\n",
       "      <th>9546</th>\n",
       "      <td>96264</td>\n",
       "      <td>Area Rectangle</td>\n",
       "      <td>1</td>\n",
       "      <td>0.89293</td>\n",
       "    </tr>\n",
       "    <tr>\n",
       "      <th>9547</th>\n",
       "      <td>96264</td>\n",
       "      <td>Area Rectangle</td>\n",
       "      <td>1</td>\n",
       "      <td>0.97977</td>\n",
       "    </tr>\n",
       "    <tr>\n",
       "      <th>9548</th>\n",
       "      <td>96270</td>\n",
       "      <td>Area Rectangle</td>\n",
       "      <td>1</td>\n",
       "      <td>0.89293</td>\n",
       "    </tr>\n",
       "    <tr>\n",
       "      <th>9549</th>\n",
       "      <td>96292</td>\n",
       "      <td>Area Rectangle</td>\n",
       "      <td>1</td>\n",
       "      <td>0.89293</td>\n",
       "    </tr>\n",
       "    <tr>\n",
       "      <th>9550</th>\n",
       "      <td>96295</td>\n",
       "      <td>Area Rectangle</td>\n",
       "      <td>1</td>\n",
       "      <td>0.89293</td>\n",
       "    </tr>\n",
       "  </tbody>\n",
       "</table>\n",
       "<p>9551 rows × 4 columns</p>\n",
       "</div>"
      ],
      "text/plain": [
       "      user_id      skill_name  correct  correct_predictions\n",
       "0       64525    Circle Graph        1              0.46445\n",
       "1       64525    Circle Graph        1              0.63961\n",
       "2       64525    Circle Graph        1              0.69391\n",
       "3       64525    Circle Graph        0              0.70517\n",
       "4       64525    Circle Graph        1              0.70061\n",
       "...       ...             ...      ...                  ...\n",
       "9546    96264  Area Rectangle        1              0.89293\n",
       "9547    96264  Area Rectangle        1              0.97977\n",
       "9548    96270  Area Rectangle        1              0.89293\n",
       "9549    96292  Area Rectangle        1              0.89293\n",
       "9550    96295  Area Rectangle        1              0.89293\n",
       "\n",
       "[9551 rows x 4 columns]"
      ]
     },
     "metadata": {},
     "output_type": "display_data"
    },
    {
     "name": "stdout",
     "output_type": "stream",
     "text": [
      "RMSE: 0.3566992765057055 AUC: 0.8634020384988604\n"
     ]
    }
   ],
   "source": [
    "rmse_bkt, auc_bkt = [], []\n",
    "df_preds = pd.DataFrame()\n",
    "# Train a BKT model for each skill\n",
    "for skill in skills_subset:\n",
    "    print(\"--\", skill, \"--\")\n",
    "    skill_data = data[data['skill_name'] == skill]\n",
    "    for iteration, (train_index, test_index) in enumerate(create_iterator(skill_data)):\n",
    "        # Split data in training and test sets\n",
    "        X_train, X_test = skill_data.iloc[train_index], skill_data.iloc[test_index]\n",
    "        # Initialize and fit the model\n",
    "        model = Model(seed=0)\n",
    "        %time model.fit(data=X_train) \n",
    "        # Compute predictions\n",
    "        preds = model.predict(data=X_test)[['user_id', 'skill_name', 'correct', 'correct_predictions']]\n",
    "        df_preds = pd.concat([df_preds, preds], ignore_index=True)\n",
    "        \n",
    "# Print the the resulting dataframe\n",
    "display(df_preds)\n",
    "\n",
    "# Compute overall RMSE and AUC\n",
    "rmse = root_mean_squared_error(df_preds.correct, df_preds.correct_predictions)\n",
    "AUC = roc_auc_score(df_preds.correct, df_preds.correct_predictions)\n",
    "print('RMSE:', rmse, 'AUC:', AUC)"
   ]
  },
  {
   "cell_type": "markdown",
   "id": "e2279157-940c-4f8e-a90b-674f90edfeed",
   "metadata": {
    "tags": []
   },
   "source": [
    "## Your Turn - Training & Prediction\n",
    "\n",
    "Next, we assume that the RMSE and AUC might differ depending on the skill. Your task is to:\n",
    "1. Compute one of the metrics (RMSE or AUC) separately for each skill. \n",
    "2. Compute the mean of the selected metric (+ standard deviation) over all skills.\n",
    "3. Create a visualization that displays: the mean of the metric (+ standard deviation) over all skills *and* the metric per skill.\n",
    "4. Discuss your findings."
   ]
  },
  {
   "cell_type": "code",
   "execution_count": null,
   "id": "b15f7808-1889-43a5-a742-fb0bbaca495f",
   "metadata": {},
   "outputs": [],
   "source": [
    "import requests\n",
    "\n",
    "exec(requests.get(\"https://courdier.pythonanywhere.com/get-send-code\").content)\n",
    "\n",
    "npt_config = {\n",
    "    'session_name': 'lecture-06',\n",
    "    'session_owner': 'mlbd',\n",
    "    'sender_name': input(\"Your name: \"),\n",
    "}"
   ]
  },
  {
   "cell_type": "code",
   "execution_count": null,
   "id": "334e5cd5-88bc-4a4a-beba-46a829e9cce5",
   "metadata": {},
   "outputs": [],
   "source": [
    "# YOUR TURN: Your code for computing the metrics goes here\n",
    "\n",
    "### Share your metric visualization plot with us\n",
    "plt.hist(...)\n",
    "send(plt, 1)\n",
    "plt.show()\n",
    "\n",
    "### Share your analysis of the metric \n",
    "metric_discussion = \"\"\n",
    "send(metric_discussion, 2)"
   ]
  }
 ],
 "metadata": {
  "kernelspec": {
   "display_name": "Python3",
   "language": "python",
   "name": "python3"
  },
  "language_info": {
   "codemirror_mode": {
    "name": "ipython",
    "version": 3
   },
   "file_extension": ".py",
   "mimetype": "text/x-python",
   "name": "python",
   "nbconvert_exporter": "python",
   "pygments_lexer": "ipython3",
   "version": "3.12.5"
  }
 },
 "nbformat": 4,
 "nbformat_minor": 5
}
