{
 "cells": [
  {
   "cell_type": "markdown",
   "id": "bbbe04b0-b989-4b3e-95cd-a9d35bc4a5d9",
   "metadata": {},
   "source": [
    "# Lab 05 - Extended Exercises on Model Evaluation\n",
    "## Predicting student performance"
   ]
  },
  {
   "cell_type": "code",
   "execution_count": 1,
   "id": "9ab80eb4",
   "metadata": {
    "execution": {
     "iopub.execute_input": "2025-03-18T11:15:36.615189Z",
     "iopub.status.busy": "2025-03-18T11:15:36.613290Z",
     "iopub.status.idle": "2025-03-18T11:15:39.533095Z",
     "shell.execute_reply": "2025-03-18T11:15:39.530803Z",
     "shell.execute_reply.started": "2025-03-18T11:15:36.615143Z"
    }
   },
   "outputs": [],
   "source": [
    "import pandas as pd\n",
    "import matplotlib.pyplot as plt\n",
    "import numpy as np\n",
    "import seaborn as sns\n",
    "\n",
    "from sklearn.pipeline import Pipeline\n",
    "from sklearn.linear_model import ElasticNet\n",
    "from sklearn.metrics import mean_squared_error\n",
    "from sklearn.model_selection import cross_val_score, train_test_split, GridSearchCV, KFold\n",
    "from sklearn.compose import ColumnTransformer\n",
    "from sklearn.preprocessing import MinMaxScaler,  OneHotEncoder\n",
    "\n",
    "# Data directory\n",
    "DATA_DIR = \"./../../data/\""
   ]
  },
  {
   "cell_type": "code",
   "execution_count": null,
   "id": "f7257661-07c7-4541-b3f2-e370dd89bbba",
   "metadata": {
    "execution": {
     "iopub.execute_input": "2025-03-18T11:15:39.535639Z",
     "iopub.status.busy": "2025-03-18T11:15:39.534835Z"
    }
   },
   "outputs": [],
   "source": [
    "import requests\n",
    "\n",
    "exec(requests.get(\"https://courdier.pythonanywhere.com/get-send-code\").content)\n",
    "\n",
    "npt_config = {\n",
    "    'session_name': 'lab-05',\n",
    "    'session_owner': 'mlbd',\n",
    "    'sender_name': input(\"Your name: \"),\n",
    "}"
   ]
  },
  {
   "cell_type": "markdown",
   "id": "6bf244ff-3f20-4cd7-a7dd-345a29b6ce1f",
   "metadata": {},
   "source": [
    "## Introduction\n",
    "The data has already been cleaned and it comes from 29 students in 3 different groups in a course of 26 weeks.\n",
    "\n",
    "You already used this data in week 03. \n",
    "\n",
    "In this lab you will explore different models to predict the quiz grade. "
   ]
  },
  {
   "cell_type": "code",
   "execution_count": null,
   "id": "05546575-7285-44ad-86fd-e258d36caea2",
   "metadata": {},
   "outputs": [],
   "source": [
    "# Load data\n",
    "df= pd.read_csv(f'{DATA_DIR}grades_in_time.csv.gz')\n",
    "df.head()"
   ]
  },
  {
   "cell_type": "code",
   "execution_count": null,
   "id": "1a0380fd-5578-46a7-bf68-e1aeac69b4e4",
   "metadata": {},
   "outputs": [],
   "source": [
    "df.describe(include='all')"
   ]
  },
  {
   "cell_type": "markdown",
   "id": "dce5934f-a1d1-4fdd-8ba7-86764bb70845",
   "metadata": {},
   "source": [
    "# "
   ]
  },
  {
   "cell_type": "markdown",
   "id": "480bc2c2-fbb0-4424-b1fd-ee1d6566f670",
   "metadata": {},
   "source": [
    "# Task 1: Predict the quiz grade using the studying hours and the group.\n",
    "----------\n",
    "### 1.1 Split the data. 80% to train and the rest to test. \n"
   ]
  },
  {
   "cell_type": "code",
   "execution_count": null,
   "id": "ba36e633-1925-4371-9bb3-873fc7976a9e",
   "metadata": {},
   "outputs": [],
   "source": [
    "X = df[['studying_hours', 'group']]\n",
    "y = df['quiz_grade']\n",
    "\n",
    "X_train, X_test, y_train, y_test = train_test_split(X, y, test_size = 0.2, random_state=0)"
   ]
  },
  {
   "cell_type": "markdown",
   "id": "c3d70d69-a9c3-45f7-b0f8-4d926e1e4038",
   "metadata": {},
   "source": [
    "### 1.2 Preprocess the data\n",
    "Recall that group is a categorical feature.\n",
    "\n",
    "Hint: Use ColumnTransformer."
   ]
  },
  {
   "cell_type": "code",
   "execution_count": null,
   "id": "4a57466c-6d37-43fb-b788-49273f4a1528",
   "metadata": {},
   "outputs": [],
   "source": [
    "preprocessor = ColumnTransformer([\n",
    "    ('categorical', OneHotEncoder(handle_unknown='ignore', drop = 'first'), ['group']),\n",
    "    ('numerical', MinMaxScaler(),['studying_hours'])\n",
    "])\n",
    "\n",
    "preprocessor.fit_transform(X_train)"
   ]
  },
  {
   "cell_type": "markdown",
   "id": "0566521a-7065-459f-aba5-f365541e83be",
   "metadata": {},
   "source": [
    "### 1.3 Create a pipeline (including the preprocessing steps) to predict the quiz grade using the studying hours and the group.\n",
    "\n",
    "1. Use the model ElasticNet for the regression task.\n",
    "2. Calculate the mean sqaured error of the prediction. \n",
    "\n",
    "\n",
    "Hint: Integrate the ColumnTransformer as a pipeline step"
   ]
  },
  {
   "cell_type": "code",
   "execution_count": null,
   "id": "3a033fd1-f5d5-4da8-bb4c-15eab11e6496",
   "metadata": {},
   "outputs": [],
   "source": [
    "pipe = Pipeline([\n",
    "    ('preprocessor', preprocessor),\n",
    "    ('model', ElasticNet())\n",
    "])\n",
    "\n",
    "pipe.fit(X_train, y_train)\n",
    "y_pred = pipe.predict(X_test)\n",
    "error = round(mean_squared_error(y_test, y_pred),3)\n",
    "print(f\"Mean Squared Error = {error}\")"
   ]
  },
  {
   "cell_type": "markdown",
   "id": "761754bb-4672-42ee-b883-7b94d8a46cde",
   "metadata": {},
   "source": [
    "### 1.4 Compute the cross validation score"
   ]
  },
  {
   "cell_type": "code",
   "execution_count": null,
   "id": "a73b7996-4854-428e-8a6f-ee0bb1bb5dee",
   "metadata": {},
   "outputs": [],
   "source": [
    "# Fit a pipeline with transformers and an estimator to the training data\n",
    "pipe = Pipeline([\n",
    "    ('preprocessor', preprocessor),\n",
    "    ('model', ElasticNet())\n",
    "])\n",
    "\n",
    "(-1)*np.mean(cross_val_score(pipe, X, y, cv = 5, scoring = 'neg_mean_squared_error'))"
   ]
  },
  {
   "cell_type": "markdown",
   "id": "7effbb0f-cc36-480b-851f-265a2ad405a8",
   "metadata": {
    "jp-MarkdownHeadingCollapsed": true
   },
   "source": [
    "### 1.5 Does the score in 1.3 differ from the score in 1.4? Why? \n",
    "\n",
    "Answer = 1.3 is one fold and 1.4 is the average of multiple folds."
   ]
  },
  {
   "cell_type": "markdown",
   "id": "6c94393a-9b53-454f-9eab-277b0abdaf6d",
   "metadata": {},
   "source": [
    "### 1.6 What is wrong with data split?\n",
    "Answer: In some instances, we are using the data from future weeks to predict the grade in prior weeks. This is wrong as it doesn't reflect the reality at practice."
   ]
  },
  {
   "cell_type": "code",
   "execution_count": null,
   "id": "ec13bcee-f8dd-4cde-b692-50c16572be4f",
   "metadata": {},
   "outputs": [],
   "source": [
    "df.iloc[X_test.index][['week','student']]"
   ]
  },
  {
   "cell_type": "markdown",
   "id": "57a8c411-ce00-4acf-8fc2-87939bb65838",
   "metadata": {},
   "source": [
    "## Task 2: Time Validation\n",
    "\n",
    "### 2.1 Train with the first 25 weeks and predict week 26.\n",
    "\n",
    "Hint: You may re-use your pipeline"
   ]
  },
  {
   "cell_type": "code",
   "execution_count": null,
   "id": "1d719897-fccc-46db-8fa3-525ef9406828",
   "metadata": {},
   "outputs": [],
   "source": [
    "df_train = df.query('week < 26')\n",
    "df_test = df.query('week == 26')"
   ]
  },
  {
   "cell_type": "code",
   "execution_count": null,
   "id": "fdd3f667-7e87-4dfa-a00e-e1a2bab4d208",
   "metadata": {},
   "outputs": [],
   "source": [
    "X_train = df_train[['studying_hours', 'group','week']]\n",
    "y_train = df_train['quiz_grade']\n",
    "\n",
    "X_test = df_test[['studying_hours', 'group','week']]\n",
    "y_test = df_test['quiz_grade']"
   ]
  },
  {
   "cell_type": "code",
   "execution_count": null,
   "id": "a77ada95-d469-4599-b969-3819db88bb38",
   "metadata": {},
   "outputs": [],
   "source": [
    "pipe.fit(X_train, y_train)\n",
    "y_pred = pipe.predict(X_test)\n",
    "error = round(mean_squared_error(y_test, y_pred),3)\n",
    "print(f\"Mean Squared Error = {error}\")"
   ]
  },
  {
   "cell_type": "markdown",
   "id": "b811bac5-7fc2-4229-9ed8-05cda7b84bda",
   "metadata": {},
   "source": [
    "### 2.2 Time splits\n",
    "Would the model also be able to predict week 16 from all the previous weeks? \n",
    "\n",
    "What about week 5 from the previous weeks?\n",
    "\n",
    "Create all the data splits so that the model predicts the next week given the information from the previous weeks. \n"
   ]
  },
  {
   "cell_type": "code",
   "execution_count": null,
   "id": "8a4f4ba6-f3a8-4ca1-a3e5-9d1d22149958",
   "metadata": {},
   "outputs": [],
   "source": [
    "time_splits = [tuple([list(df.query('week < @i').index), list(df.query('week == @i').index)]) for i in range(4,27)]"
   ]
  },
  {
   "cell_type": "markdown",
   "id": "6783bcc9-15db-461d-8a5c-13d3dee0b429",
   "metadata": {},
   "source": [
    "### 2.3 Using the previously created splits, calculate the cross validation score"
   ]
  },
  {
   "cell_type": "code",
   "execution_count": null,
   "id": "0f69bbda-b891-4b53-94a7-a4a4c4da8c3f",
   "metadata": {},
   "outputs": [],
   "source": [
    "X = df[['studying_hours', 'group']]\n",
    "y = df['quiz_grade']\n",
    "\n",
    "errors = (-1)*cross_val_score(pipe, X, y, cv = time_splits, scoring = 'neg_mean_squared_error')\n",
    "np.mean(errors)"
   ]
  },
  {
   "cell_type": "markdown",
   "id": "03d3a52b-d391-44c9-8695-eb0ae6ae5c26",
   "metadata": {},
   "source": [
    "### 2.4 How does the error differ from the error of 2.1? Why?\n",
    "Answer = It is much higher. On the following plot we see that the more weeks (more information), the smaller the error"
   ]
  },
  {
   "cell_type": "code",
   "execution_count": null,
   "id": "d7f2cceb-e7a4-433f-a20c-d3b62338417f",
   "metadata": {},
   "outputs": [],
   "source": [
    "sns.lineplot(y = errors, x = list(range(4,27)))"
   ]
  },
  {
   "cell_type": "markdown",
   "id": "c4b8a3ef-9012-48da-a7ec-31d15199ec16",
   "metadata": {},
   "source": [
    "## Task 3: Nested cross-validation\n",
    "\n",
    "Now imagine we want to optimize the hyperparameters for the model.\n",
    "\n",
    "We will \"ignore\" time for now and take the mean studying hours and quiz grade. \n"
   ]
  },
  {
   "cell_type": "code",
   "execution_count": null,
   "id": "8b287069-bac2-4bdd-b88a-11b87ab05c44",
   "metadata": {},
   "outputs": [],
   "source": [
    "df_agg = df.groupby('student').mean()\n",
    "\n",
    "X = df_agg[['studying_hours', 'group']]\n",
    "y = df_agg['quiz_grade']"
   ]
  },
  {
   "cell_type": "markdown",
   "id": "74871cd9-c8db-4bef-bb37-3ce4ca2918fe",
   "metadata": {},
   "source": [
    "### 3.1 Gridsearch with cross validation\n",
    "\n",
    "ElasticNet has two interesting parameters: alpha and l1_ratio.\n",
    "\n",
    "Run a GridSearch to explore the following values:\n",
    "* alpha = 0.1 and 1\n",
    "* l1_ratio = 0.1, 0.5 and 1\n",
    "\n",
    "What is the best score (smallest error)? "
   ]
  },
  {
   "cell_type": "code",
   "execution_count": null,
   "id": "3ab80e20-887d-4603-a162-64aaa305e247",
   "metadata": {},
   "outputs": [],
   "source": [
    "param_grid = {'model__alpha': [0.1, 1],\n",
    "             'model__l1_ratio': [0.1, 0.5, 1]}\n",
    "\n",
    "search = GridSearchCV(pipe, param_grid, n_jobs=-1, cv =  KFold(n_splits=4, shuffle=True, random_state=123) ,\n",
    "                      scoring = 'neg_mean_squared_error')\n",
    "search.fit(X,y)"
   ]
  },
  {
   "cell_type": "code",
   "execution_count": null,
   "id": "e61d26eb-3ab5-44e0-a6ee-845f7de45f40",
   "metadata": {},
   "outputs": [],
   "source": [
    "pd.DataFrame(search.cv_results_)"
   ]
  },
  {
   "cell_type": "code",
   "execution_count": null,
   "id": "ed2a8615-d25c-4db6-a9a7-f3add8f2a5cc",
   "metadata": {},
   "outputs": [],
   "source": [
    "(-1)*search.best_score_"
   ]
  },
  {
   "cell_type": "markdown",
   "id": "ed468c21-13a2-4e59-a64a-be379e5bc804",
   "metadata": {},
   "source": [
    "### 3.2 Why is the error from the best model in 3.1 biased?\n",
    "\n",
    "Answer = We are using the same data to tune model parameters and evaluate model performance."
   ]
  },
  {
   "cell_type": "markdown",
   "id": "645c8a28-eab2-411b-892c-f1b1a53629a3",
   "metadata": {},
   "source": [
    "### 3.3 Improve 3.1 to have an unbiased estimation of the generalization error\n",
    "\n",
    "Hint: Use nested cross-validation"
   ]
  },
  {
   "cell_type": "code",
   "execution_count": null,
   "id": "a460f452-0711-4123-9225-0834c6aaca2f",
   "metadata": {},
   "outputs": [],
   "source": [
    "inner_cv = KFold(n_splits=4, shuffle=True, random_state=123)\n",
    "outer_cv = KFold(n_splits=3, shuffle=True, random_state=123)\n",
    "    \n",
    "param_grid = {'model__alpha': [0.1, 1],\n",
    "             'model__l1_ratio': [0.1, 0.5, 1]}\n",
    "\n",
    "search = GridSearchCV(pipe, param_grid, n_jobs=-1, \n",
    "                      cv = inner_cv, scoring = 'neg_mean_squared_error')\n",
    "errors = (-1)* cross_val_score(search, X=X, y=y,\n",
    "                               cv=outer_cv)\n",
    "\n",
    "np.mean(errors)"
   ]
  },
  {
   "cell_type": "code",
   "execution_count": null,
   "id": "73e36251-9b7f-47fe-ae8e-89d306860313",
   "metadata": {},
   "outputs": [],
   "source": [
    "errors"
   ]
  },
  {
   "cell_type": "code",
   "execution_count": null,
   "id": "2df23c60-8cbc-44da-a9dc-3db7e67a98e4",
   "metadata": {},
   "outputs": [],
   "source": []
  }
 ],
 "metadata": {
  "kernelspec": {
   "display_name": "Python3",
   "language": "python",
   "name": "python3"
  },
  "language_info": {
   "codemirror_mode": {
    "name": "ipython",
    "version": 3
   },
   "file_extension": ".py",
   "mimetype": "text/x-python",
   "name": "python",
   "nbconvert_exporter": "python",
   "pygments_lexer": "ipython3",
   "version": "3.12.5"
  },
  "vscode": {
   "interpreter": {
    "hash": "40d3a090f54c6569ab1632332b64b2c03c39dcf918b08424e98f38b5ae0af88f"
   }
  }
 },
 "nbformat": 4,
 "nbformat_minor": 5
}
