{
 "cells": [
  {
   "cell_type": "markdown",
   "id": "891ad0db-af6a-4311-8f98-865c5197682a",
   "metadata": {},
   "source": [
    "# Lecture 5 - Demo Notebook"
   ]
  },
  {
   "cell_type": "markdown",
   "id": "a4d46922-ee6e-4a8c-bddf-8a0b893a9ffe",
   "metadata": {},
   "source": [
    "We first load and clean the data."
   ]
  },
  {
   "cell_type": "code",
   "execution_count": 1,
   "id": "fad19540-3541-4151-9bf4-f1987ed2048e",
   "metadata": {
    "execution": {
     "iopub.execute_input": "2025-03-17T21:38:45.754017Z",
     "iopub.status.busy": "2025-03-17T21:38:45.753067Z",
     "iopub.status.idle": "2025-03-17T21:38:48.167561Z",
     "shell.execute_reply": "2025-03-17T21:38:48.164878Z",
     "shell.execute_reply.started": "2025-03-17T21:38:45.753910Z"
    },
    "tags": []
   },
   "outputs": [],
   "source": [
    "import numpy as np \n",
    "import pandas as pd\n",
    "import matplotlib.pyplot as plt\n",
    "import seaborn as sns\n",
    "\n",
    "from sklearn.model_selection import train_test_split, cross_validate, GridSearchCV, ParameterGrid\n",
    "from sklearn.ensemble import RandomForestClassifier\n",
    "from sklearn.metrics import accuracy_score, roc_auc_score, classification_report, confusion_matrix, auc\n",
    "from sklearn.utils import resample\n",
    "\n",
    "DATA_DIR = \"./../../data\""
   ]
  },
  {
   "cell_type": "code",
   "execution_count": 2,
   "id": "1dd61b5d-f273-4616-aa44-c0874a579baf",
   "metadata": {
    "execution": {
     "iopub.execute_input": "2025-03-17T21:38:48.169407Z",
     "iopub.status.busy": "2025-03-17T21:38:48.168962Z",
     "iopub.status.idle": "2025-03-17T21:38:48.208264Z",
     "shell.execute_reply": "2025-03-17T21:38:48.206785Z",
     "shell.execute_reply.started": "2025-03-17T21:38:48.169378Z"
    }
   },
   "outputs": [],
   "source": [
    "# Parse the aggregated student data frame.\n",
    "# This data is from an EPFL Linear Algebra flipped classroom. df_lq is aggregated features for the last week of student performance.\n",
    "# ts represents the students' time series features.\n",
    "\n",
    "df_lq = pd.read_csv('{}/aggregated_extended_fc.csv'.format(DATA_DIR))\n",
    "ts = pd.read_csv('{}/time_series_extended_fc.csv'.format(DATA_DIR))"
   ]
  },
  {
   "cell_type": "code",
   "execution_count": 3,
   "id": "72168118-0033-47c4-ae99-2ba3b6891267",
   "metadata": {
    "execution": {
     "iopub.execute_input": "2025-03-17T21:38:48.212490Z",
     "iopub.status.busy": "2025-03-17T21:38:48.212141Z",
     "iopub.status.idle": "2025-03-17T21:38:48.229356Z",
     "shell.execute_reply": "2025-03-17T21:38:48.227096Z",
     "shell.execute_reply.started": "2025-03-17T21:38:48.212460Z"
    }
   },
   "outputs": [],
   "source": [
    "def remove_inactive_students(df, ts):\n",
    "    \"\"\"\n",
    "    Filter the students (removing the ones that are inactive) to proceed with analysis on students who have participated during the entire class.\n",
    "    Inputs: df, ts\n",
    "    Outputs: filtered df, ts\n",
    "    \"\"\"\n",
    "    # Fill all NaNs with strings to make them easier to process\n",
    "    df = df.fillna('NaN')\n",
    "    \n",
    "    # Find all users weeks with 0 clicks on weekends and 0 clicks on weekdays during the first few weeks of the semester\n",
    "    df_first = ts[ts.week < 5]\n",
    "    rows = np.where(np.logical_and(df_first.ch_total_clicks_weekend==0, df_first.ch_total_clicks_weekday==0).to_numpy())[0]\n",
    "    df_zero = df_first.iloc[rows, :]\n",
    "    dropusers = np.unique(df_zero.user)\n",
    "\n",
    "    # Drop users with no activity\n",
    "    ts = ts[~ts.user.isin(dropusers)]\n",
    "    df = df[~df.user.isin(dropusers)]\n",
    "    return df, ts\n",
    "\n",
    "df_lq, ts = remove_inactive_students(df_lq, ts)"
   ]
  },
  {
   "cell_type": "markdown",
   "id": "858b2539-bcfc-40df-83d1-9eff25270fec",
   "metadata": {},
   "source": [
    "The `compute_scores` function computes the performance of classifiers with accuracy + AUC. We will use this evaluation function for all our experiments."
   ]
  },
  {
   "cell_type": "code",
   "execution_count": 4,
   "id": "e2b78680-efbe-4a07-9213-7c8522698a95",
   "metadata": {
    "execution": {
     "iopub.execute_input": "2025-03-17T21:38:48.231126Z",
     "iopub.status.busy": "2025-03-17T21:38:48.230779Z",
     "iopub.status.idle": "2025-03-17T21:38:48.281855Z",
     "shell.execute_reply": "2025-03-17T21:38:48.278824Z",
     "shell.execute_reply.started": "2025-03-17T21:38:48.231096Z"
    }
   },
   "outputs": [],
   "source": [
    "def compute_scores(clf, X_train, y_train, X_test, y_test, roundnum=3, report=False):\n",
    "    \"\"\"\n",
    "    Train clf (binary classification) model on X_train and y_train, predict on X_test. Evaluate predictions against ground truth y_test.\n",
    "    Inputs: clf, training set (X_train, y_train), test set (X_test, y_test)\n",
    "    Inputs (optional): roundnum (number of digits for rounding metrics), report (print scores)\n",
    "    Outputs: accuracy, AUC\n",
    "    \"\"\"\n",
    "    # Fit the clf predictor (passed in as an argument)\n",
    "    clf.fit(X_train, y_train)\n",
    "    y_pred = clf.predict(X_test)\n",
    "    \n",
    "    # Calculate accuracy score\n",
    "    accuracy = accuracy_score(y_test, y_pred)\n",
    "\n",
    "    # Calculate roc AUC score\n",
    "    AUC = roc_auc_score(y_test, clf.predict_proba(X_test)[:, 1])\n",
    "    \n",
    "    # Print classification results\n",
    "    if report:\n",
    "        print(classification_report(y_test, y_pred))\n",
    "\n",
    "    return round(accuracy, roundnum), round(AUC, roundnum)"
   ]
  },
  {
   "cell_type": "markdown",
   "id": "f29ca4d9-f07f-4246-bb78-ad1fb3835d51",
   "metadata": {},
   "source": [
    "We compute the pass/fail label of the students in the dataframe to use for the experiments. We will use the aggregated dataframe (df_lq) for all our experiments. If students have a grade higher than or equal to 4, they have passed the class."
   ]
  },
  {
   "cell_type": "code",
   "execution_count": 5,
   "id": "593c81c9-5d4d-4ddc-8b9b-6b3def76169f",
   "metadata": {
    "execution": {
     "iopub.execute_input": "2025-03-17T21:38:48.285867Z",
     "iopub.status.busy": "2025-03-17T21:38:48.284994Z",
     "iopub.status.idle": "2025-03-17T21:38:48.324240Z",
     "shell.execute_reply": "2025-03-17T21:38:48.321460Z",
     "shell.execute_reply.started": "2025-03-17T21:38:48.285790Z"
    }
   },
   "outputs": [],
   "source": [
    "df_lq['passed'] = (df_lq.grade >= 4).astype(int)"
   ]
  },
  {
   "cell_type": "markdown",
   "id": "7f2ae905-fdf7-4118-8744-6fd76f5d1f32",
   "metadata": {},
   "source": [
    "## Model Assessment"
   ]
  },
  {
   "cell_type": "markdown",
   "id": "dd443ce2-e939-40fe-8870-1c4f87108265",
   "metadata": {},
   "source": [
    "In a next step, we are interested in evaluating the generalizability of our models. We will use a random forest model for all our evaluations. For our evaluations, we will investigate behavioral features only."
   ]
  },
  {
   "cell_type": "code",
   "execution_count": 6,
   "id": "7de2d363-8d4f-4719-ae67-dfff6dd95f3d",
   "metadata": {
    "execution": {
     "iopub.execute_input": "2025-03-17T21:38:48.328033Z",
     "iopub.status.busy": "2025-03-17T21:38:48.327237Z",
     "iopub.status.idle": "2025-03-17T21:38:48.365020Z",
     "shell.execute_reply": "2025-03-17T21:38:48.361891Z",
     "shell.execute_reply.started": "2025-03-17T21:38:48.327960Z"
    }
   },
   "outputs": [
    {
     "name": "stdout",
     "output_type": "stream",
     "text": [
      "['ch_num_sessions', 'ch_time_in_prob_sum', 'ch_time_in_video_sum', 'ch_ratio_clicks_weekend_day', 'ch_total_clicks_weekend', 'ch_total_clicks_weekday', 'ch_time_sessions_mean', 'ch_time_sessions_std', 'bo_delay_lecture', 'bo_reg_peak_dayhour', 'bo_reg_periodicity_m1', 'ma_competency_strength', 'ma_competency_anti', 'ma_content_anti', 'ma_student_shape', 'ma_student_speed', 'mu_speed_playback_mean', 'mu_frequency_action_relative_video_pause', 'wa_num_subs', 'wa_num_subs_correct', 'wa_num_subs_avg', 'wa_num_subs_perc_correct', 'la_pause_dur_mean', 'la_seek_len_std', 'la_pause_dur_std', 'la_time_speeding_up_mean', 'la_time_speeding_up_std', 'la_weekly_prop_watched_mean', 'la_weekly_prop_interrupted_mean', 'la_weekly_prop_interrupted_std', 'la_weekly_prop_replayed_mean', 'la_weekly_prop_replayed_std', 'la_frequency_action_video_play']\n"
     ]
    }
   ],
   "source": [
    "# Filter out demographic features\n",
    "features = [x for x in df_lq.columns if x not in ['user', 'week', 'grade', 'gender', 'category', 'year', 'passed']]\n",
    "print(features)"
   ]
  },
  {
   "cell_type": "code",
   "execution_count": 7,
   "id": "561753df-2e54-45fe-baac-65c867a00019",
   "metadata": {
    "execution": {
     "iopub.execute_input": "2025-03-17T21:38:48.369256Z",
     "iopub.status.busy": "2025-03-17T21:38:48.368461Z",
     "iopub.status.idle": "2025-03-17T21:38:48.411332Z",
     "shell.execute_reply": "2025-03-17T21:38:48.408391Z",
     "shell.execute_reply.started": "2025-03-17T21:38:48.369185Z"
    }
   },
   "outputs": [],
   "source": [
    "# Only keep behavioral features in X.\n",
    "X = df_lq[features]\n",
    "\n",
    "# Our binary indicator variable is based on our evaluation criteria: pass/fail.\n",
    "y = df_lq['passed']"
   ]
  },
  {
   "cell_type": "markdown",
   "id": "fdc04c79-7cdc-4f81-b361-ef309004c8b3",
   "metadata": {},
   "source": [
    "### Train-Test Setting"
   ]
  },
  {
   "cell_type": "markdown",
   "id": "72257d09",
   "metadata": {},
   "source": [
    "We split the data in a train-test split (stratified by the outcome variable)."
   ]
  },
  {
   "cell_type": "code",
   "execution_count": 8,
   "id": "24643627-f9ed-4d43-b6f7-b454e4f28629",
   "metadata": {
    "execution": {
     "iopub.execute_input": "2025-03-17T21:38:48.415054Z",
     "iopub.status.busy": "2025-03-17T21:38:48.414189Z",
     "iopub.status.idle": "2025-03-17T21:38:48.468969Z",
     "shell.execute_reply": "2025-03-17T21:38:48.466560Z",
     "shell.execute_reply.started": "2025-03-17T21:38:48.414981Z"
    }
   },
   "outputs": [],
   "source": [
    "# The train-test split is 80:20 (as shown by the 0.2 test_size argument). \n",
    "# We choose a random_state to replicate the results in the same split every time we run this notebook.\n",
    "# The stratify argument ensures a proportionate number of passes/fails are in the training set and the test set.\n",
    "\n",
    "X_train, X_test, y_train, y_test = train_test_split(X, y, test_size=0.2, random_state=42, stratify=y)"
   ]
  },
  {
   "cell_type": "code",
   "execution_count": 9,
   "id": "e4b14647-55de-41e7-850e-b708564c7be5",
   "metadata": {
    "execution": {
     "iopub.execute_input": "2025-03-17T21:38:48.472435Z",
     "iopub.status.busy": "2025-03-17T21:38:48.471884Z",
     "iopub.status.idle": "2025-03-17T21:38:48.509223Z",
     "shell.execute_reply": "2025-03-17T21:38:48.506473Z",
     "shell.execute_reply.started": "2025-03-17T21:38:48.472385Z"
    }
   },
   "outputs": [],
   "source": [
    "# Let's initialize a RandomForestClassifier to make our model predictions.\n",
    "\n",
    "clf = RandomForestClassifier(random_state=42)"
   ]
  },
  {
   "cell_type": "code",
   "execution_count": 10,
   "id": "9a1b3e51-6eae-4e92-b45c-a64903a03aa9",
   "metadata": {
    "execution": {
     "iopub.execute_input": "2025-03-17T21:38:48.513358Z",
     "iopub.status.busy": "2025-03-17T21:38:48.512543Z",
     "iopub.status.idle": "2025-03-17T21:38:48.842700Z",
     "shell.execute_reply": "2025-03-17T21:38:48.840844Z",
     "shell.execute_reply.started": "2025-03-17T21:38:48.513285Z"
    }
   },
   "outputs": [
    {
     "name": "stdout",
     "output_type": "stream",
     "text": [
      "Accuracy for train-test setting: 0.723\n",
      "AUC for train-test setting: 0.723\n"
     ]
    }
   ],
   "source": [
    "# We can use our compute_scores function to evaluate the results of our train-test split classifier.\n",
    "\n",
    "accuracy, AUC = compute_scores(clf, X_train, y_train, X_test, y_test)\n",
    "\n",
    "print(f'Accuracy for train-test setting: {accuracy}')\n",
    "print(f'AUC for train-test setting: {AUC}')"
   ]
  },
  {
   "cell_type": "markdown",
   "id": "2a332370-626f-4c99-a8ef-2d6d0973ed9c",
   "metadata": {
    "tags": []
   },
   "source": [
    "### Cross Validation"
   ]
  },
  {
   "cell_type": "code",
   "execution_count": 11,
   "id": "41970544-d7c1-4008-b5e7-02de9a625683",
   "metadata": {
    "execution": {
     "iopub.execute_input": "2025-03-17T21:38:48.844333Z",
     "iopub.status.busy": "2025-03-17T21:38:48.844029Z",
     "iopub.status.idle": "2025-03-17T21:38:48.853903Z",
     "shell.execute_reply": "2025-03-17T21:38:48.850040Z",
     "shell.execute_reply.started": "2025-03-17T21:38:48.844305Z"
    }
   },
   "outputs": [],
   "source": [
    "# Initialize a new Random Forest predictor for our cross-validation comparison.\n",
    "\n",
    "clf = RandomForestClassifier(random_state=42)"
   ]
  },
  {
   "cell_type": "code",
   "execution_count": 12,
   "id": "43f55e37-caab-4d85-80d8-b93868f04fe8",
   "metadata": {
    "execution": {
     "iopub.execute_input": "2025-03-17T21:38:48.861444Z",
     "iopub.status.busy": "2025-03-17T21:38:48.860969Z",
     "iopub.status.idle": "2025-03-17T21:38:50.248812Z",
     "shell.execute_reply": "2025-03-17T21:38:50.246876Z",
     "shell.execute_reply.started": "2025-03-17T21:38:48.861400Z"
    }
   },
   "outputs": [
    {
     "name": "stdout",
     "output_type": "stream",
     "text": [
      "Mean accuracy with cross-validation: 0.654\n",
      "Mean AUC with cross-validation: 0.674\n"
     ]
    }
   ],
   "source": [
    "# With the cross_validate function, the SciKit Learn library automatically uses stratification across folds with the \"cv\" argument. \n",
    "# In the background, it's using the StratifiedKFold function with 10 folds.\n",
    "# We pass in our desired metrics (\"accuracy\", \"roc_auc\") for evaluation in the \"scoring\" argument.\n",
    "\n",
    "scores = cross_validate(clf, X, y, cv=5, scoring=['accuracy', 'roc_auc'])\n",
    "\n",
    "print(f'Mean accuracy with cross-validation: {scores[\"test_accuracy\"].mean():.3f}')\n",
    "print(f'Mean AUC with cross-validation: {scores[\"test_roc_auc\"].mean():.3f}')"
   ]
  },
  {
   "cell_type": "markdown",
   "id": "af0b4446-9e6c-49a5-be73-c940c16df560",
   "metadata": {},
   "source": [
    "### Bootstrapping"
   ]
  },
  {
   "cell_type": "markdown",
   "id": "7ff3403e-c341-4792-a952-7bb9b14b7797",
   "metadata": {},
   "source": [
    "Next, we use bootstrapping to evaluate our model. For this evaluation method, we can only compute the accuracy, but not the AUC.\n",
    "\n",
    "The ROC curve is defined as the False Positive Rate, FPR = FP / (TN + FP), vs the True Positive Rate, TPR = TP / (TP + FN). However, when we consider a set of data points all with the same label, one of those two rates is undefined. \n",
    "\n",
    "In the setting of leave-one-out bootstrapping, we can confirm that this happens when we consider the predictions for the data point $i$ of all predictors $b \\in C^{-i}$. If the point $i$ had label 1, then all the predictions for it would be either TP or FN, with FPR being undefined, while if it had label 0 all the predictions would be either TN or FP, with FPR undefined. Therefore, we will only consider accuracy as metric for bootstrapping."
   ]
  },
  {
   "cell_type": "code",
   "execution_count": 13,
   "id": "2dac6b55-742a-4fa2-9772-26573ce806e2",
   "metadata": {
    "execution": {
     "iopub.execute_input": "2025-03-17T21:38:50.250330Z",
     "iopub.status.busy": "2025-03-17T21:38:50.250022Z",
     "iopub.status.idle": "2025-03-17T21:39:15.859843Z",
     "shell.execute_reply": "2025-03-17T21:39:15.858004Z",
     "shell.execute_reply.started": "2025-03-17T21:38:50.250302Z"
    },
    "tags": []
   },
   "outputs": [],
   "source": [
    "# It is important to sample with:\n",
    "# (1) the same size as the initial df (df_size) \n",
    "# (2) with replacement (replace=True)\n",
    "# for the bootstrap samples to be representative.\n",
    "df_size = len(df_lq)\n",
    "B = 100\n",
    "\n",
    "# Generate B bootstrap samples of the dataset with replacement.\n",
    "samples = [resample(X, y, replace=True, n_samples=df_size) for b in range(B)]\n",
    "\n",
    "# Train a random forest classifier for each bootstrap set\n",
    "clfs = [RandomForestClassifier(random_state=42).fit(X_b, y_b) for X_b, y_b in samples]"
   ]
  },
  {
   "cell_type": "code",
   "execution_count": 14,
   "id": "8892563b-7589-4edb-8317-288402e46285",
   "metadata": {
    "execution": {
     "iopub.execute_input": "2025-03-17T21:39:15.861558Z",
     "iopub.status.busy": "2025-03-17T21:39:15.861266Z",
     "iopub.status.idle": "2025-03-17T21:40:22.162712Z",
     "shell.execute_reply": "2025-03-17T21:40:22.161335Z",
     "shell.execute_reply.started": "2025-03-17T21:39:15.861530Z"
    }
   },
   "outputs": [],
   "source": [
    "# Calculate the predictions for each bootstrap sample (b in range(B)).\n",
    "# Compare predictions against the ground truth (y.loc[[user]]). \n",
    "# Take the mean of predictions for each student (over on the number of times they were predicted).\n",
    "# Takes ~2 mins\n",
    "accuracies = [np.mean([clfs[b].predict(X.loc[[user]]) == y.loc[[user]] for b in range(B) if user not in samples[b][0].index])\n",
    "              for user in df_lq.index]"
   ]
  },
  {
   "cell_type": "code",
   "execution_count": 15,
   "id": "bec11506-d74f-40ef-a0cc-33a8ecb7349c",
   "metadata": {
    "execution": {
     "iopub.execute_input": "2025-03-17T21:40:22.164232Z",
     "iopub.status.busy": "2025-03-17T21:40:22.163932Z",
     "iopub.status.idle": "2025-03-17T21:40:22.183165Z",
     "shell.execute_reply": "2025-03-17T21:40:22.180306Z",
     "shell.execute_reply.started": "2025-03-17T21:40:22.164205Z"
    }
   },
   "outputs": [
    {
     "data": {
      "text/plain": [
       "0.6750630931673517"
      ]
     },
     "execution_count": 15,
     "metadata": {},
     "output_type": "execute_result"
    }
   ],
   "source": [
    "# Take the mean of predictions across all students.\n",
    "bootstrap_err = np.mean(accuracies)\n",
    "bootstrap_err"
   ]
  },
  {
   "cell_type": "code",
   "execution_count": 16,
   "id": "cf66237b-b566-4ded-b565-3ac227105a4d",
   "metadata": {
    "execution": {
     "iopub.execute_input": "2025-03-17T21:40:22.187299Z",
     "iopub.status.busy": "2025-03-17T21:40:22.186408Z",
     "iopub.status.idle": "2025-03-17T21:40:23.290364Z",
     "shell.execute_reply": "2025-03-17T21:40:23.288810Z",
     "shell.execute_reply.started": "2025-03-17T21:40:22.187225Z"
    }
   },
   "outputs": [
    {
     "data": {
      "text/plain": [
       "1.0"
      ]
     },
     "execution_count": 16,
     "metadata": {},
     "output_type": "execute_result"
    }
   ],
   "source": [
    "# Calculate the training error for each bootstrapped model, then average across bootstraps.\n",
    "training_err_bootstrap = [clfs[b].score(samples[b][0], samples[b][1]) for b in range(B)]\n",
    "training_err = np.mean(training_err_bootstrap)\n",
    "training_err"
   ]
  },
  {
   "cell_type": "code",
   "execution_count": 17,
   "id": "948feb94-7897-45aa-8859-5cf587363e4a",
   "metadata": {
    "execution": {
     "iopub.execute_input": "2025-03-17T21:40:23.292286Z",
     "iopub.status.busy": "2025-03-17T21:40:23.291960Z",
     "iopub.status.idle": "2025-03-17T21:40:23.301619Z",
     "shell.execute_reply": "2025-03-17T21:40:23.300101Z",
     "shell.execute_reply.started": "2025-03-17T21:40:23.292256Z"
    }
   },
   "outputs": [
    {
     "name": "stdout",
     "output_type": "stream",
     "text": [
      "Mean accuracy with .632 leave-one-out bootstrapping: 0.795\n"
     ]
    }
   ],
   "source": [
    "accuracy_632 = 0.632 * bootstrap_err + 0.368 * training_err\n",
    "print(f'Mean accuracy with .632 leave-one-out bootstrapping: {accuracy_632:.3f}')"
   ]
  },
  {
   "cell_type": "markdown",
   "id": "7ff442a7-9bf9-4714-b56b-f35a2caaa43e",
   "metadata": {},
   "source": [
    "## Model Selection"
   ]
  },
  {
   "cell_type": "markdown",
   "id": "d83684f1-1beb-433e-8d1b-6763add6864d",
   "metadata": {},
   "source": [
    "Of course, when training ML models, we want to tune their hyperparameters in order to optimize the performance. In order to tune the hyperparameters of a model, we need to do further splits of our data set. To do so, we can freely combine the approaches presented in the model assessment section. In the following, we present a few ideas."
   ]
  },
  {
   "cell_type": "markdown",
   "id": "e3ab3ad2-2260-4747-9353-0021799fb1d0",
   "metadata": {},
   "source": [
    "### Example 1: Train-Test-Validation Split"
   ]
  },
  {
   "cell_type": "markdown",
   "id": "7906b203-6451-4a2e-b36e-e284690699e1",
   "metadata": {},
   "source": [
    "In the first example we use a train-test setting to perform the outer split (model assessment) as well as the inner split (model selection). We hold out 20% of the data for testing and 10% of the data for validation (for hyperparameter tuning)."
   ]
  },
  {
   "cell_type": "code",
   "execution_count": 18,
   "id": "4e09002f-ece0-4650-a45c-6b4a2597a5f9",
   "metadata": {
    "execution": {
     "iopub.execute_input": "2025-03-17T21:40:23.303217Z",
     "iopub.status.busy": "2025-03-17T21:40:23.302904Z",
     "iopub.status.idle": "2025-03-17T21:40:23.345782Z",
     "shell.execute_reply": "2025-03-17T21:40:23.343102Z",
     "shell.execute_reply.started": "2025-03-17T21:40:23.303188Z"
    }
   },
   "outputs": [],
   "source": [
    "# Select the test set as 20% of the initial data set\n",
    "X_1, X_test, y_1, y_test = train_test_split(X, y, test_size=0.2, random_state=42, stratify=y)"
   ]
  },
  {
   "cell_type": "code",
   "execution_count": 19,
   "id": "0f0820cd-3a3b-4ed6-80c0-5530ff822987",
   "metadata": {
    "execution": {
     "iopub.execute_input": "2025-03-17T21:40:23.349490Z",
     "iopub.status.busy": "2025-03-17T21:40:23.348708Z",
     "iopub.status.idle": "2025-03-17T21:40:23.388694Z",
     "shell.execute_reply": "2025-03-17T21:40:23.385930Z",
     "shell.execute_reply.started": "2025-03-17T21:40:23.349431Z"
    }
   },
   "outputs": [],
   "source": [
    "# Select the training set as 70% of the initial dataset\n",
    "# Select the validation set at 10% of the initial dataset (we use 1/8 here because we've already split the set once)\n",
    "X_train, X_val, y_train, y_val = train_test_split(X_1, y_1, test_size=1/8, random_state=42, stratify=y_1)"
   ]
  },
  {
   "cell_type": "code",
   "execution_count": 20,
   "id": "0ef3c29d-9a52-4816-b741-aa5b7fec8f14",
   "metadata": {
    "execution": {
     "iopub.execute_input": "2025-03-17T21:40:23.393034Z",
     "iopub.status.busy": "2025-03-17T21:40:23.392344Z",
     "iopub.status.idle": "2025-03-17T21:40:23.436857Z",
     "shell.execute_reply": "2025-03-17T21:40:23.433987Z",
     "shell.execute_reply.started": "2025-03-17T21:40:23.392975Z"
    }
   },
   "outputs": [],
   "source": [
    "# We compute a grid search across the following parameter space\n",
    "parameters = {\n",
    "    'n_estimators': [20, 50, 100],\n",
    "    'criterion': ['entropy', 'gini'],\n",
    "    'max_depth': np.arange(3, 9),\n",
    "    'min_samples_split': [2, 3, 5],\n",
    "    'min_samples_leaf': [1, 3, 5],\n",
    "}\n",
    "\n",
    "params_grid = ParameterGrid(parameters)"
   ]
  },
  {
   "cell_type": "code",
   "execution_count": 21,
   "id": "7ee91665-24ad-4df2-bd93-adf0c41672f8",
   "metadata": {
    "execution": {
     "iopub.execute_input": "2025-03-17T21:40:23.441158Z",
     "iopub.status.busy": "2025-03-17T21:40:23.440298Z",
     "iopub.status.idle": "2025-03-17T21:41:11.734395Z",
     "shell.execute_reply": "2025-03-17T21:41:11.732438Z",
     "shell.execute_reply.started": "2025-03-17T21:40:23.441083Z"
    }
   },
   "outputs": [],
   "source": [
    "# For each combination of candidate parameters, fit a classifier on the training set and evaluate it on the validation set\n",
    "results = [[params, compute_scores(RandomForestClassifier(random_state=42, **params), \n",
    "                                   X_train, y_train, X_val, y_val)] for params in params_grid]"
   ]
  },
  {
   "cell_type": "code",
   "execution_count": 22,
   "id": "ddc06c98-b7a5-4e93-b55c-060f9fd5eb95",
   "metadata": {
    "execution": {
     "iopub.execute_input": "2025-03-17T21:41:11.736126Z",
     "iopub.status.busy": "2025-03-17T21:41:11.735833Z",
     "iopub.status.idle": "2025-03-17T21:41:11.742861Z",
     "shell.execute_reply": "2025-03-17T21:41:11.741242Z",
     "shell.execute_reply.started": "2025-03-17T21:41:11.736099Z"
    }
   },
   "outputs": [],
   "source": [
    "# Sort candidate parameters according to their accuracy\n",
    "results = sorted(results, key=lambda x: x[1][0], reverse=True)"
   ]
  },
  {
   "cell_type": "code",
   "execution_count": 23,
   "id": "0d6fb0dc-5842-47b5-87a4-3c88bcca9fbf",
   "metadata": {
    "execution": {
     "iopub.execute_input": "2025-03-17T21:41:11.744787Z",
     "iopub.status.busy": "2025-03-17T21:41:11.744437Z",
     "iopub.status.idle": "2025-03-17T21:41:11.788175Z",
     "shell.execute_reply": "2025-03-17T21:41:11.785693Z",
     "shell.execute_reply.started": "2025-03-17T21:41:11.744756Z"
    }
   },
   "outputs": [
    {
     "data": {
      "text/plain": [
       "{'criterion': 'gini',\n",
       " 'max_depth': 4,\n",
       " 'min_samples_leaf': 1,\n",
       " 'min_samples_split': 5,\n",
       " 'n_estimators': 50}"
      ]
     },
     "execution_count": 23,
     "metadata": {},
     "output_type": "execute_result"
    }
   ],
   "source": [
    "# Obtain the best parameters\n",
    "best_params = results[0][0]\n",
    "best_params"
   ]
  },
  {
   "cell_type": "code",
   "execution_count": 24,
   "id": "9886672f-c4f0-41b4-ac89-199e5710d215",
   "metadata": {
    "execution": {
     "iopub.execute_input": "2025-03-17T21:41:11.792024Z",
     "iopub.status.busy": "2025-03-17T21:41:11.791186Z",
     "iopub.status.idle": "2025-03-17T21:41:11.974318Z",
     "shell.execute_reply": "2025-03-17T21:41:11.972700Z",
     "shell.execute_reply.started": "2025-03-17T21:41:11.791950Z"
    }
   },
   "outputs": [
    {
     "name": "stdout",
     "output_type": "stream",
     "text": [
      "Accuracy for train-validation-test setting: 0.681\n",
      "AUC for train-validation-test setting: 0.739\n"
     ]
    }
   ],
   "source": [
    "# Train and evaluate a model based on the best parameter settings\n",
    "clf = RandomForestClassifier(random_state=42, **best_params)\n",
    "accuracy, AUC = compute_scores(clf, X_1, y_1, X_test, y_test)\n",
    "\n",
    "print(f'Accuracy for train-validation-test setting: {accuracy}')\n",
    "print(f'AUC for train-validation-test setting: {AUC}')"
   ]
  },
  {
   "cell_type": "markdown",
   "id": "93af1deb-e2e1-4f19-b238-8eece0b99150",
   "metadata": {
    "tags": []
   },
   "source": [
    "### Example 2: Nested 10-Fold Cross Validation"
   ]
  },
  {
   "cell_type": "markdown",
   "id": "7dda333a-5570-4d74-8f16-9d517f1ea1ed",
   "metadata": {},
   "source": [
    "We use a 10-fold cross validation to perform the outer split (model assessment) as well as the inner split (model selection), leading to a **nested** 10-fold cross validation."
   ]
  },
  {
   "cell_type": "code",
   "execution_count": 25,
   "id": "51ffb3e2-a727-4140-b5c3-efc63ad04a9a",
   "metadata": {
    "execution": {
     "iopub.execute_input": "2025-03-17T21:41:11.975965Z",
     "iopub.status.busy": "2025-03-17T21:41:11.975673Z",
     "iopub.status.idle": "2025-03-17T21:41:11.983357Z",
     "shell.execute_reply": "2025-03-17T21:41:11.981785Z",
     "shell.execute_reply.started": "2025-03-17T21:41:11.975940Z"
    }
   },
   "outputs": [],
   "source": [
    "# We compute a grid search across the following parameter space\n",
    "parameters = {\n",
    "    'n_estimators': [20, 50, 100],\n",
    "    'criterion': ['entropy', 'gini'],\n",
    "    'max_depth': np.arange(3, 7),\n",
    "    'min_samples_split': [2],\n",
    "    'min_samples_leaf': [1],\n",
    "}"
   ]
  },
  {
   "cell_type": "code",
   "execution_count": 26,
   "id": "d2f46d71-1910-493b-bd79-6ad52a9e1627",
   "metadata": {
    "execution": {
     "iopub.execute_input": "2025-03-17T21:41:11.984732Z",
     "iopub.status.busy": "2025-03-17T21:41:11.984445Z",
     "iopub.status.idle": "2025-03-17T21:42:52.417198Z",
     "shell.execute_reply": "2025-03-17T21:42:52.415456Z",
     "shell.execute_reply.started": "2025-03-17T21:41:11.984706Z"
    }
   },
   "outputs": [],
   "source": [
    "# This cell takes ~3 minutes to run\n",
    "\n",
    "# Inner cross validation loop\n",
    "clf = GridSearchCV(RandomForestClassifier(random_state=42), parameters, cv=10)\n",
    "\n",
    "# Outer cross validation loop\n",
    "scores_nested_cv = cross_validate(clf, X, y, cv=3, scoring=['accuracy', 'roc_auc'])"
   ]
  },
  {
   "cell_type": "code",
   "execution_count": 27,
   "id": "af9b5f5c-7eaa-429a-b307-fbdc398d0b91",
   "metadata": {
    "execution": {
     "iopub.execute_input": "2025-03-17T21:42:52.419076Z",
     "iopub.status.busy": "2025-03-17T21:42:52.418733Z",
     "iopub.status.idle": "2025-03-17T21:42:52.430460Z",
     "shell.execute_reply": "2025-03-17T21:42:52.428831Z",
     "shell.execute_reply.started": "2025-03-17T21:42:52.419045Z"
    }
   },
   "outputs": [
    {
     "name": "stdout",
     "output_type": "stream",
     "text": [
      "Mean accuracy with nested cross-validation: 0.692\n",
      "Mean AUC with nested cross-validation: 0.677\n"
     ]
    }
   ],
   "source": [
    "print(f'Mean accuracy with nested cross-validation: {scores_nested_cv[\"test_accuracy\"].mean():.3f}')\n",
    "print(f'Mean AUC with nested cross-validation: {scores_nested_cv[\"test_roc_auc\"].mean():.3f}')"
   ]
  },
  {
   "cell_type": "markdown",
   "id": "3d5b2dbb-7c7b-47e2-9c1c-a2b075ee7a89",
   "metadata": {
    "tags": []
   },
   "source": [
    "### Example 3: Cross Validation with Bootstrap"
   ]
  },
  {
   "cell_type": "markdown",
   "id": "99f9d866-e055-4cdf-9ebf-ee85c47c63a0",
   "metadata": {
    "tags": []
   },
   "source": [
    "We perform cross validation on the bootstrap data set from before to tune the hyperparameters."
   ]
  },
  {
   "cell_type": "code",
   "execution_count": 28,
   "id": "e50edcc4-4adc-47d9-be30-1a329ca5d167",
   "metadata": {
    "execution": {
     "iopub.execute_input": "2025-03-17T21:42:52.432210Z",
     "iopub.status.busy": "2025-03-17T21:42:52.431934Z",
     "iopub.status.idle": "2025-03-17T21:42:52.470358Z",
     "shell.execute_reply": "2025-03-17T21:42:52.468017Z",
     "shell.execute_reply.started": "2025-03-17T21:42:52.432184Z"
    }
   },
   "outputs": [],
   "source": [
    "# We compute a grid search across the following parameter space\n",
    "parameters = {\n",
    "    'n_estimators': [20, 50],\n",
    "    'criterion': ['gini'],\n",
    "    'max_depth': np.arange(3, 5),\n",
    "    'min_samples_split': [2],\n",
    "    'min_samples_leaf': [1],\n",
    "}"
   ]
  },
  {
   "cell_type": "code",
   "execution_count": 29,
   "id": "2711b789-f195-42f5-b83f-4d550b522faa",
   "metadata": {
    "execution": {
     "iopub.execute_input": "2025-03-17T21:42:52.473655Z",
     "iopub.status.busy": "2025-03-17T21:42:52.472919Z",
     "iopub.status.idle": "2025-03-17T21:44:48.458521Z",
     "shell.execute_reply": "2025-03-17T21:44:48.456669Z",
     "shell.execute_reply.started": "2025-03-17T21:42:52.473553Z"
    },
    "tags": []
   },
   "outputs": [],
   "source": [
    "df_size = len(df_lq)\n",
    "B = 100\n",
    "\n",
    "# Generate B samples with replacement\n",
    "samples = [resample(X, y, replace=True, n_samples=df_size) for b in range(B)]\n",
    "# Train a random forest classifier for each sample, cross-validating to find the best parameters\n",
    "clfs = [GridSearchCV(RandomForestClassifier(random_state=42), parameters, cv=3).fit(X_b, y_b) for X_b, y_b in samples]"
   ]
  },
  {
   "cell_type": "code",
   "execution_count": 30,
   "id": "fc6ce94f-f28f-4bfb-9683-0ea24f4236d0",
   "metadata": {
    "execution": {
     "iopub.execute_input": "2025-03-17T21:44:48.461962Z",
     "iopub.status.busy": "2025-03-17T21:44:48.461472Z",
     "iopub.status.idle": "2025-03-17T21:45:29.088517Z",
     "shell.execute_reply": "2025-03-17T21:45:29.086149Z",
     "shell.execute_reply.started": "2025-03-17T21:44:48.461921Z"
    }
   },
   "outputs": [],
   "source": [
    "# Calculate the predictions for each bootstrap sample (b in range(B)).\n",
    "# Compare predictions against the ground truth (y.loc[[user]]). \n",
    "# Take the mean of predictions for each student (over on the number of times they were predicted).\n",
    "# Takes ~2 mins\n",
    "accuracies_bootstrap = [np.mean([clfs[b].predict(X.loc[[user]]) == y.loc[[user]] for b in range(B) if user not in samples[b][0].index])\n",
    "                        for user in df_lq.index]"
   ]
  },
  {
   "cell_type": "code",
   "execution_count": 31,
   "id": "6a716579-8793-48ec-977c-7c5a168baac5",
   "metadata": {
    "execution": {
     "iopub.execute_input": "2025-03-17T21:45:29.090274Z",
     "iopub.status.busy": "2025-03-17T21:45:29.090007Z",
     "iopub.status.idle": "2025-03-17T21:45:29.102674Z",
     "shell.execute_reply": "2025-03-17T21:45:29.101428Z",
     "shell.execute_reply.started": "2025-03-17T21:45:29.090250Z"
    }
   },
   "outputs": [
    {
     "data": {
      "text/plain": [
       "0.6734577647781618"
      ]
     },
     "execution_count": 31,
     "metadata": {},
     "output_type": "execute_result"
    }
   ],
   "source": [
    "# Take the mean of predictions across all students.\n",
    "bootstrap_err = np.mean(accuracies_bootstrap)\n",
    "bootstrap_err"
   ]
  },
  {
   "cell_type": "code",
   "execution_count": 32,
   "id": "1b8b235a-4eff-43f9-a2c4-6d205a92e839",
   "metadata": {
    "execution": {
     "iopub.execute_input": "2025-03-17T21:45:29.105128Z",
     "iopub.status.busy": "2025-03-17T21:45:29.104679Z",
     "iopub.status.idle": "2025-03-17T21:45:29.694097Z",
     "shell.execute_reply": "2025-03-17T21:45:29.692488Z",
     "shell.execute_reply.started": "2025-03-17T21:45:29.105087Z"
    }
   },
   "outputs": [
    {
     "data": {
      "text/plain": [
       "0.9231196581196583"
      ]
     },
     "execution_count": 32,
     "metadata": {},
     "output_type": "execute_result"
    }
   ],
   "source": [
    "# Calculate the training error for each bootstrapped model, then average across bootstraps.\n",
    "training_err_bootstrap = [clfs[b].score(samples[b][0], samples[b][1]) for b in range(B)]\n",
    "training_err = np.mean(training_err_bootstrap)\n",
    "training_err"
   ]
  },
  {
   "cell_type": "code",
   "execution_count": 33,
   "id": "bff35009-9d3c-46a0-8f0e-efcfa34ad21a",
   "metadata": {
    "execution": {
     "iopub.execute_input": "2025-03-17T21:45:29.696131Z",
     "iopub.status.busy": "2025-03-17T21:45:29.695792Z",
     "iopub.status.idle": "2025-03-17T21:45:29.705058Z",
     "shell.execute_reply": "2025-03-17T21:45:29.703674Z",
     "shell.execute_reply.started": "2025-03-17T21:45:29.696101Z"
    }
   },
   "outputs": [
    {
     "name": "stdout",
     "output_type": "stream",
     "text": [
      "Mean accuracy with .632 leave-one-out bootstrapping: 0.765\n"
     ]
    }
   ],
   "source": [
    "accuracy_632 = 0.632 * bootstrap_err + 0.368 * training_err\n",
    "print(f'Mean accuracy with .632 leave-one-out bootstrapping: {accuracy_632:.3f}')"
   ]
  },
  {
   "cell_type": "markdown",
   "id": "81c051e4-2109-47d2-9ace-0cbfaab83809",
   "metadata": {
    "tags": []
   },
   "source": [
    "### Example 4: Train-Test (Outer Loop) + 10-Fold Cross Validation (Inner Loop)"
   ]
  },
  {
   "cell_type": "markdown",
   "id": "ed4d6f94-af3c-412e-a673-29f12cfb5caf",
   "metadata": {},
   "source": [
    "We perform a train-test outer split and use 10-fold cross validation on the inner split to tune the hyperparameters."
   ]
  },
  {
   "cell_type": "code",
   "execution_count": 34,
   "id": "18479a4b-90c8-45ad-be4a-005deed6bfda",
   "metadata": {
    "execution": {
     "iopub.execute_input": "2025-03-17T21:45:29.706435Z",
     "iopub.status.busy": "2025-03-17T21:45:29.706162Z",
     "iopub.status.idle": "2025-03-17T21:45:29.743961Z",
     "shell.execute_reply": "2025-03-17T21:45:29.741226Z",
     "shell.execute_reply.started": "2025-03-17T21:45:29.706409Z"
    }
   },
   "outputs": [],
   "source": [
    "# Create outer loop with stratified train-test split\n",
    "X_train, X_test, y_train, y_test = train_test_split(X, y, test_size=0.2, random_state=42, stratify=y)"
   ]
  },
  {
   "cell_type": "code",
   "execution_count": 35,
   "id": "3caad318-4ec2-468b-a3cd-37e5b4af0a68",
   "metadata": {
    "execution": {
     "iopub.execute_input": "2025-03-17T21:45:29.748419Z",
     "iopub.status.busy": "2025-03-17T21:45:29.747847Z",
     "iopub.status.idle": "2025-03-17T21:45:29.782630Z",
     "shell.execute_reply": "2025-03-17T21:45:29.779734Z",
     "shell.execute_reply.started": "2025-03-17T21:45:29.748368Z"
    }
   },
   "outputs": [],
   "source": [
    "# We compute a grid search across the following parameter space\n",
    "parameters = {\n",
    "    'n_estimators': [20, 50, 100],\n",
    "    'criterion': ['entropy', 'gini'],\n",
    "    'max_depth': np.arange(3, 7),\n",
    "    'min_samples_split': [2],\n",
    "    'min_samples_leaf': [1],\n",
    "}"
   ]
  },
  {
   "cell_type": "code",
   "execution_count": 36,
   "id": "bc2ffc35-e288-412d-849f-edeaaf242c9d",
   "metadata": {
    "execution": {
     "iopub.execute_input": "2025-03-17T21:45:29.788011Z",
     "iopub.status.busy": "2025-03-17T21:45:29.786995Z",
     "iopub.status.idle": "2025-03-17T21:46:03.840237Z",
     "shell.execute_reply": "2025-03-17T21:46:03.838372Z",
     "shell.execute_reply.started": "2025-03-17T21:45:29.787927Z"
    }
   },
   "outputs": [],
   "source": [
    "# Train model on inner loop with grid-search 10-fold cross validation\n",
    "clf = GridSearchCV(RandomForestClassifier(random_state=42), parameters, cv=10)\n",
    "accuracy, AUC = compute_scores(clf, X_train, y_train, X_test, y_test)"
   ]
  },
  {
   "cell_type": "code",
   "execution_count": 37,
   "id": "1b2f4d5c-d61d-4335-84ff-1dfbb65493a9",
   "metadata": {
    "execution": {
     "iopub.execute_input": "2025-03-17T21:46:03.841940Z",
     "iopub.status.busy": "2025-03-17T21:46:03.841653Z",
     "iopub.status.idle": "2025-03-17T21:46:03.851997Z",
     "shell.execute_reply": "2025-03-17T21:46:03.850676Z",
     "shell.execute_reply.started": "2025-03-17T21:46:03.841912Z"
    }
   },
   "outputs": [
    {
     "data": {
      "text/plain": [
       "{'criterion': 'gini',\n",
       " 'max_depth': 3,\n",
       " 'min_samples_leaf': 1,\n",
       " 'min_samples_split': 2,\n",
       " 'n_estimators': 50}"
      ]
     },
     "execution_count": 37,
     "metadata": {},
     "output_type": "execute_result"
    }
   ],
   "source": [
    "clf.best_params_"
   ]
  },
  {
   "cell_type": "code",
   "execution_count": 38,
   "id": "c67a4355-4226-4b8f-a0d4-8c906be03b0e",
   "metadata": {
    "execution": {
     "iopub.execute_input": "2025-03-17T21:46:03.853321Z",
     "iopub.status.busy": "2025-03-17T21:46:03.853052Z",
     "iopub.status.idle": "2025-03-17T21:46:03.892231Z",
     "shell.execute_reply": "2025-03-17T21:46:03.889485Z",
     "shell.execute_reply.started": "2025-03-17T21:46:03.853296Z"
    }
   },
   "outputs": [
    {
     "name": "stdout",
     "output_type": "stream",
     "text": [
      "Accuracy for train-test splitting + cross-validation: 0.638\n",
      "AUC for train-test splitting + cross-validation: 0.724\n"
     ]
    }
   ],
   "source": [
    "print(f'Accuracy for train-test splitting + cross-validation: {accuracy:.3f}')\n",
    "print(f'AUC for train-test splitting + cross-validation: {AUC:.3f}')"
   ]
  },
  {
   "cell_type": "markdown",
   "id": "5bfc2ff8-2a7b-4e77-b8fc-9520a7658e03",
   "metadata": {},
   "source": [
    "## Reporting Results"
   ]
  },
  {
   "cell_type": "markdown",
   "id": "2e896ce5-d926-4c36-965d-bc11c03b52e4",
   "metadata": {},
   "source": [
    "When reporting results, it is good practice to report the uncertainty of the prediction. In the following, we provide examples on how to assess the uncertainty of the predictions."
   ]
  },
  {
   "cell_type": "markdown",
   "id": "e587cf9d-157f-4e60-8673-6fc4fa823bcb",
   "metadata": {},
   "source": [
    "### Cross Validation"
   ]
  },
  {
   "cell_type": "markdown",
   "id": "d3ab70a0-8dc3-40c9-9418-54c0e8fb8e70",
   "metadata": {},
   "source": [
    "When performing cross validation we can compute the standard deviation (or standard error) of the performance metric across folds. We use a nested cross validated (10-fold, stratified) for the Random Forest model and tune the hyperparameters (example 2b above). "
   ]
  },
  {
   "cell_type": "markdown",
   "id": "785223d0-4cda-49e5-9fa8-f1b9ac1e9ee4",
   "metadata": {},
   "source": [
    "Using the results from [Example 2](#Example-2:-Correct), we recover the accuracy and the AUC over all 10 folds"
   ]
  },
  {
   "cell_type": "code",
   "execution_count": 39,
   "id": "8647bcf1-5fc7-4662-861a-d470d8f8b27f",
   "metadata": {
    "execution": {
     "iopub.execute_input": "2025-03-17T21:46:03.907971Z",
     "iopub.status.busy": "2025-03-17T21:46:03.907261Z",
     "iopub.status.idle": "2025-03-17T21:46:03.938919Z",
     "shell.execute_reply": "2025-03-17T21:46:03.935982Z",
     "shell.execute_reply.started": "2025-03-17T21:46:03.907910Z"
    }
   },
   "outputs": [
    {
     "data": {
      "text/plain": [
       "{'fit_time': array([33.30453682, 33.38809705, 33.64368176]),\n",
       " 'score_time': array([0.01775551, 0.00934386, 0.01872849]),\n",
       " 'test_accuracy': array([0.71794872, 0.66666667, 0.69230769]),\n",
       " 'test_roc_auc': array([0.70418668, 0.67467399, 0.65271105])}"
      ]
     },
     "execution_count": 39,
     "metadata": {},
     "output_type": "execute_result"
    }
   ],
   "source": [
    "scores_nested_cv"
   ]
  },
  {
   "cell_type": "code",
   "execution_count": 40,
   "id": "3de3206d-3eab-4dc8-986e-893ad99037fa",
   "metadata": {
    "execution": {
     "iopub.execute_input": "2025-03-17T21:46:03.943018Z",
     "iopub.status.busy": "2025-03-17T21:46:03.942074Z",
     "iopub.status.idle": "2025-03-17T21:46:03.986670Z",
     "shell.execute_reply": "2025-03-17T21:46:03.984000Z",
     "shell.execute_reply.started": "2025-03-17T21:46:03.942939Z"
    }
   },
   "outputs": [
    {
     "name": "stdout",
     "output_type": "stream",
     "text": [
      "Accuracy standard deviation with nested cross-validation: 0.021\n",
      "AUC standard deviation with nested cross-validation: 0.021\n"
     ]
    }
   ],
   "source": [
    "accuracies_nested_cv = scores_nested_cv['test_accuracy']\n",
    "AUC_nested_cv = scores_nested_cv['test_roc_auc']\n",
    "\n",
    "# Compute standard deviation of Accuracy and AUC\n",
    "print(f'Accuracy standard deviation with nested cross-validation: {accuracies_nested_cv.std():.3f}')\n",
    "print(f'AUC standard deviation with nested cross-validation: {AUC_nested_cv.std():.3f}')"
   ]
  },
  {
   "cell_type": "code",
   "execution_count": 41,
   "id": "cd06dcbd-6db1-407b-8b47-8462d05c6176",
   "metadata": {
    "execution": {
     "iopub.execute_input": "2025-03-17T21:46:03.991478Z",
     "iopub.status.busy": "2025-03-17T21:46:03.990724Z",
     "iopub.status.idle": "2025-03-17T21:46:04.032248Z",
     "shell.execute_reply": "2025-03-17T21:46:04.029522Z",
     "shell.execute_reply.started": "2025-03-17T21:46:03.991416Z"
    }
   },
   "outputs": [],
   "source": [
    "# Group scores in a DataFrame for visualization with error bars\n",
    "cv_df = pd.DataFrame({'Accuracy': accuracies_nested_cv, 'AUC': AUC_nested_cv, 'Method': ['nested cv']*3})"
   ]
  },
  {
   "cell_type": "markdown",
   "id": "57d5fb9a-9110-418e-abf3-5ea1ddf50f26",
   "metadata": {},
   "source": [
    "### Bootstrapping"
   ]
  },
  {
   "cell_type": "markdown",
   "id": "06900616-1248-454c-af64-19c11d0b903f",
   "metadata": {
    "tags": []
   },
   "source": [
    "When performing bootstrapping, we can also compute uncertainty, because we get multiple predictions for one sample."
   ]
  },
  {
   "cell_type": "markdown",
   "id": "46c21616-0a1a-400b-8480-e30344bee081",
   "metadata": {},
   "source": [
    "Again, using the results from [Example 3](#Example-3), we recover the accuracy for each sample. To assess the uncertainty of the .632 accuracy, we need to sum them beforehand with the weighted training error."
   ]
  },
  {
   "cell_type": "code",
   "execution_count": 42,
   "id": "8a9a0023-b4b3-430e-9604-83ec81753f21",
   "metadata": {
    "execution": {
     "iopub.execute_input": "2025-03-17T21:46:04.036527Z",
     "iopub.status.busy": "2025-03-17T21:46:04.035454Z",
     "iopub.status.idle": "2025-03-17T21:46:04.065356Z",
     "shell.execute_reply": "2025-03-17T21:46:04.062987Z",
     "shell.execute_reply.started": "2025-03-17T21:46:04.036394Z"
    }
   },
   "outputs": [],
   "source": [
    "# Determine accuracy 632 across bootstrap and training error\n",
    "accuracies_632 = 0.632 * np.array(accuracies_bootstrap) + 0.368 * training_err"
   ]
  },
  {
   "cell_type": "code",
   "execution_count": 43,
   "id": "398a1e0f-fc3c-4b68-bc3d-8158ef12e396",
   "metadata": {
    "execution": {
     "iopub.execute_input": "2025-03-17T21:46:04.068998Z",
     "iopub.status.busy": "2025-03-17T21:46:04.068179Z",
     "iopub.status.idle": "2025-03-17T21:46:04.109660Z",
     "shell.execute_reply": "2025-03-17T21:46:04.107172Z",
     "shell.execute_reply.started": "2025-03-17T21:46:04.068925Z"
    }
   },
   "outputs": [
    {
     "name": "stdout",
     "output_type": "stream",
     "text": [
      "Accuracy standard deviation with .632 bootstrapping: 0.232\n"
     ]
    }
   ],
   "source": [
    "print(f'Accuracy standard deviation with .632 bootstrapping: {accuracies_632.std():.3f}')"
   ]
  },
  {
   "cell_type": "code",
   "execution_count": 44,
   "id": "a6afcd13-d4c5-4101-b11b-31f97742757b",
   "metadata": {
    "execution": {
     "iopub.execute_input": "2025-03-17T21:46:04.113790Z",
     "iopub.status.busy": "2025-03-17T21:46:04.112968Z",
     "iopub.status.idle": "2025-03-17T21:46:04.155859Z",
     "shell.execute_reply": "2025-03-17T21:46:04.153462Z",
     "shell.execute_reply.started": "2025-03-17T21:46:04.113717Z"
    }
   },
   "outputs": [],
   "source": [
    "# AUC is None here (as discussed earlier in the notebook) because the ROC curve cannot be computed for leave-one-out bootstrap.\n",
    "# Group scores in a DataFrame for visualization with error bars.\n",
    "bootstrap_df = pd.DataFrame({'Accuracy': accuracies_632, 'AUC': [None] * df_size, 'Method': ['.632 bootstrap'] * df_size})"
   ]
  },
  {
   "cell_type": "markdown",
   "id": "60821fd2-8423-4c1c-91ac-8a2056624ce3",
   "metadata": {},
   "source": [
    "### Train-Test + Bootstrap"
   ]
  },
  {
   "cell_type": "markdown",
   "id": "787237f6-fc11-4f57-89c5-0cc3f063e4e2",
   "metadata": {},
   "source": [
    "Instead of using a full bootstrap, we can do a train-test split first and train the model on the training data. We can then perfrom bootstrapping on the test set and generate a 100 bootstrapped test sets. This enables us to examine the uncertainty for this setting. We use a similar setting to [Example 4](#Example-4)."
   ]
  },
  {
   "cell_type": "code",
   "execution_count": 45,
   "id": "5e247c86-1b25-4706-b7a3-e676895f9eff",
   "metadata": {
    "execution": {
     "iopub.execute_input": "2025-03-17T21:46:04.159557Z",
     "iopub.status.busy": "2025-03-17T21:46:04.158645Z",
     "iopub.status.idle": "2025-03-17T21:46:04.198762Z",
     "shell.execute_reply": "2025-03-17T21:46:04.196125Z",
     "shell.execute_reply.started": "2025-03-17T21:46:04.159481Z"
    }
   },
   "outputs": [],
   "source": [
    "# Create outer loop with train-test split\n",
    "X_train, X_test, y_train, y_test = train_test_split(X, y, test_size=0.2, random_state=42, stratify=y)"
   ]
  },
  {
   "cell_type": "code",
   "execution_count": 46,
   "id": "56373ee8-9622-43bf-873a-66b23f8568a7",
   "metadata": {
    "execution": {
     "iopub.execute_input": "2025-03-17T21:46:04.203154Z",
     "iopub.status.busy": "2025-03-17T21:46:04.202458Z",
     "iopub.status.idle": "2025-03-17T21:46:14.124558Z",
     "shell.execute_reply": "2025-03-17T21:46:14.123022Z",
     "shell.execute_reply.started": "2025-03-17T21:46:04.203093Z"
    }
   },
   "outputs": [
    {
     "data": {
      "text/html": [
       "<style>#sk-container-id-1 {\n",
       "  /* Definition of color scheme common for light and dark mode */\n",
       "  --sklearn-color-text: black;\n",
       "  --sklearn-color-line: gray;\n",
       "  /* Definition of color scheme for unfitted estimators */\n",
       "  --sklearn-color-unfitted-level-0: #fff5e6;\n",
       "  --sklearn-color-unfitted-level-1: #f6e4d2;\n",
       "  --sklearn-color-unfitted-level-2: #ffe0b3;\n",
       "  --sklearn-color-unfitted-level-3: chocolate;\n",
       "  /* Definition of color scheme for fitted estimators */\n",
       "  --sklearn-color-fitted-level-0: #f0f8ff;\n",
       "  --sklearn-color-fitted-level-1: #d4ebff;\n",
       "  --sklearn-color-fitted-level-2: #b3dbfd;\n",
       "  --sklearn-color-fitted-level-3: cornflowerblue;\n",
       "\n",
       "  /* Specific color for light theme */\n",
       "  --sklearn-color-text-on-default-background: var(--sg-text-color, var(--theme-code-foreground, var(--jp-content-font-color1, black)));\n",
       "  --sklearn-color-background: var(--sg-background-color, var(--theme-background, var(--jp-layout-color0, white)));\n",
       "  --sklearn-color-border-box: var(--sg-text-color, var(--theme-code-foreground, var(--jp-content-font-color1, black)));\n",
       "  --sklearn-color-icon: #696969;\n",
       "\n",
       "  @media (prefers-color-scheme: dark) {\n",
       "    /* Redefinition of color scheme for dark theme */\n",
       "    --sklearn-color-text-on-default-background: var(--sg-text-color, var(--theme-code-foreground, var(--jp-content-font-color1, white)));\n",
       "    --sklearn-color-background: var(--sg-background-color, var(--theme-background, var(--jp-layout-color0, #111)));\n",
       "    --sklearn-color-border-box: var(--sg-text-color, var(--theme-code-foreground, var(--jp-content-font-color1, white)));\n",
       "    --sklearn-color-icon: #878787;\n",
       "  }\n",
       "}\n",
       "\n",
       "#sk-container-id-1 {\n",
       "  color: var(--sklearn-color-text);\n",
       "}\n",
       "\n",
       "#sk-container-id-1 pre {\n",
       "  padding: 0;\n",
       "}\n",
       "\n",
       "#sk-container-id-1 input.sk-hidden--visually {\n",
       "  border: 0;\n",
       "  clip: rect(1px 1px 1px 1px);\n",
       "  clip: rect(1px, 1px, 1px, 1px);\n",
       "  height: 1px;\n",
       "  margin: -1px;\n",
       "  overflow: hidden;\n",
       "  padding: 0;\n",
       "  position: absolute;\n",
       "  width: 1px;\n",
       "}\n",
       "\n",
       "#sk-container-id-1 div.sk-dashed-wrapped {\n",
       "  border: 1px dashed var(--sklearn-color-line);\n",
       "  margin: 0 0.4em 0.5em 0.4em;\n",
       "  box-sizing: border-box;\n",
       "  padding-bottom: 0.4em;\n",
       "  background-color: var(--sklearn-color-background);\n",
       "}\n",
       "\n",
       "#sk-container-id-1 div.sk-container {\n",
       "  /* jupyter's `normalize.less` sets `[hidden] { display: none; }`\n",
       "     but bootstrap.min.css set `[hidden] { display: none !important; }`\n",
       "     so we also need the `!important` here to be able to override the\n",
       "     default hidden behavior on the sphinx rendered scikit-learn.org.\n",
       "     See: https://github.com/scikit-learn/scikit-learn/issues/21755 */\n",
       "  display: inline-block !important;\n",
       "  position: relative;\n",
       "}\n",
       "\n",
       "#sk-container-id-1 div.sk-text-repr-fallback {\n",
       "  display: none;\n",
       "}\n",
       "\n",
       "div.sk-parallel-item,\n",
       "div.sk-serial,\n",
       "div.sk-item {\n",
       "  /* draw centered vertical line to link estimators */\n",
       "  background-image: linear-gradient(var(--sklearn-color-text-on-default-background), var(--sklearn-color-text-on-default-background));\n",
       "  background-size: 2px 100%;\n",
       "  background-repeat: no-repeat;\n",
       "  background-position: center center;\n",
       "}\n",
       "\n",
       "/* Parallel-specific style estimator block */\n",
       "\n",
       "#sk-container-id-1 div.sk-parallel-item::after {\n",
       "  content: \"\";\n",
       "  width: 100%;\n",
       "  border-bottom: 2px solid var(--sklearn-color-text-on-default-background);\n",
       "  flex-grow: 1;\n",
       "}\n",
       "\n",
       "#sk-container-id-1 div.sk-parallel {\n",
       "  display: flex;\n",
       "  align-items: stretch;\n",
       "  justify-content: center;\n",
       "  background-color: var(--sklearn-color-background);\n",
       "  position: relative;\n",
       "}\n",
       "\n",
       "#sk-container-id-1 div.sk-parallel-item {\n",
       "  display: flex;\n",
       "  flex-direction: column;\n",
       "}\n",
       "\n",
       "#sk-container-id-1 div.sk-parallel-item:first-child::after {\n",
       "  align-self: flex-end;\n",
       "  width: 50%;\n",
       "}\n",
       "\n",
       "#sk-container-id-1 div.sk-parallel-item:last-child::after {\n",
       "  align-self: flex-start;\n",
       "  width: 50%;\n",
       "}\n",
       "\n",
       "#sk-container-id-1 div.sk-parallel-item:only-child::after {\n",
       "  width: 0;\n",
       "}\n",
       "\n",
       "/* Serial-specific style estimator block */\n",
       "\n",
       "#sk-container-id-1 div.sk-serial {\n",
       "  display: flex;\n",
       "  flex-direction: column;\n",
       "  align-items: center;\n",
       "  background-color: var(--sklearn-color-background);\n",
       "  padding-right: 1em;\n",
       "  padding-left: 1em;\n",
       "}\n",
       "\n",
       "\n",
       "/* Toggleable style: style used for estimator/Pipeline/ColumnTransformer box that is\n",
       "clickable and can be expanded/collapsed.\n",
       "- Pipeline and ColumnTransformer use this feature and define the default style\n",
       "- Estimators will overwrite some part of the style using the `sk-estimator` class\n",
       "*/\n",
       "\n",
       "/* Pipeline and ColumnTransformer style (default) */\n",
       "\n",
       "#sk-container-id-1 div.sk-toggleable {\n",
       "  /* Default theme specific background. It is overwritten whether we have a\n",
       "  specific estimator or a Pipeline/ColumnTransformer */\n",
       "  background-color: var(--sklearn-color-background);\n",
       "}\n",
       "\n",
       "/* Toggleable label */\n",
       "#sk-container-id-1 label.sk-toggleable__label {\n",
       "  cursor: pointer;\n",
       "  display: block;\n",
       "  width: 100%;\n",
       "  margin-bottom: 0;\n",
       "  padding: 0.5em;\n",
       "  box-sizing: border-box;\n",
       "  text-align: center;\n",
       "}\n",
       "\n",
       "#sk-container-id-1 label.sk-toggleable__label-arrow:before {\n",
       "  /* Arrow on the left of the label */\n",
       "  content: \"▸\";\n",
       "  float: left;\n",
       "  margin-right: 0.25em;\n",
       "  color: var(--sklearn-color-icon);\n",
       "}\n",
       "\n",
       "#sk-container-id-1 label.sk-toggleable__label-arrow:hover:before {\n",
       "  color: var(--sklearn-color-text);\n",
       "}\n",
       "\n",
       "/* Toggleable content - dropdown */\n",
       "\n",
       "#sk-container-id-1 div.sk-toggleable__content {\n",
       "  max-height: 0;\n",
       "  max-width: 0;\n",
       "  overflow: hidden;\n",
       "  text-align: left;\n",
       "  /* unfitted */\n",
       "  background-color: var(--sklearn-color-unfitted-level-0);\n",
       "}\n",
       "\n",
       "#sk-container-id-1 div.sk-toggleable__content.fitted {\n",
       "  /* fitted */\n",
       "  background-color: var(--sklearn-color-fitted-level-0);\n",
       "}\n",
       "\n",
       "#sk-container-id-1 div.sk-toggleable__content pre {\n",
       "  margin: 0.2em;\n",
       "  border-radius: 0.25em;\n",
       "  color: var(--sklearn-color-text);\n",
       "  /* unfitted */\n",
       "  background-color: var(--sklearn-color-unfitted-level-0);\n",
       "}\n",
       "\n",
       "#sk-container-id-1 div.sk-toggleable__content.fitted pre {\n",
       "  /* unfitted */\n",
       "  background-color: var(--sklearn-color-fitted-level-0);\n",
       "}\n",
       "\n",
       "#sk-container-id-1 input.sk-toggleable__control:checked~div.sk-toggleable__content {\n",
       "  /* Expand drop-down */\n",
       "  max-height: 200px;\n",
       "  max-width: 100%;\n",
       "  overflow: auto;\n",
       "}\n",
       "\n",
       "#sk-container-id-1 input.sk-toggleable__control:checked~label.sk-toggleable__label-arrow:before {\n",
       "  content: \"▾\";\n",
       "}\n",
       "\n",
       "/* Pipeline/ColumnTransformer-specific style */\n",
       "\n",
       "#sk-container-id-1 div.sk-label input.sk-toggleable__control:checked~label.sk-toggleable__label {\n",
       "  color: var(--sklearn-color-text);\n",
       "  background-color: var(--sklearn-color-unfitted-level-2);\n",
       "}\n",
       "\n",
       "#sk-container-id-1 div.sk-label.fitted input.sk-toggleable__control:checked~label.sk-toggleable__label {\n",
       "  background-color: var(--sklearn-color-fitted-level-2);\n",
       "}\n",
       "\n",
       "/* Estimator-specific style */\n",
       "\n",
       "/* Colorize estimator box */\n",
       "#sk-container-id-1 div.sk-estimator input.sk-toggleable__control:checked~label.sk-toggleable__label {\n",
       "  /* unfitted */\n",
       "  background-color: var(--sklearn-color-unfitted-level-2);\n",
       "}\n",
       "\n",
       "#sk-container-id-1 div.sk-estimator.fitted input.sk-toggleable__control:checked~label.sk-toggleable__label {\n",
       "  /* fitted */\n",
       "  background-color: var(--sklearn-color-fitted-level-2);\n",
       "}\n",
       "\n",
       "#sk-container-id-1 div.sk-label label.sk-toggleable__label,\n",
       "#sk-container-id-1 div.sk-label label {\n",
       "  /* The background is the default theme color */\n",
       "  color: var(--sklearn-color-text-on-default-background);\n",
       "}\n",
       "\n",
       "/* On hover, darken the color of the background */\n",
       "#sk-container-id-1 div.sk-label:hover label.sk-toggleable__label {\n",
       "  color: var(--sklearn-color-text);\n",
       "  background-color: var(--sklearn-color-unfitted-level-2);\n",
       "}\n",
       "\n",
       "/* Label box, darken color on hover, fitted */\n",
       "#sk-container-id-1 div.sk-label.fitted:hover label.sk-toggleable__label.fitted {\n",
       "  color: var(--sklearn-color-text);\n",
       "  background-color: var(--sklearn-color-fitted-level-2);\n",
       "}\n",
       "\n",
       "/* Estimator label */\n",
       "\n",
       "#sk-container-id-1 div.sk-label label {\n",
       "  font-family: monospace;\n",
       "  font-weight: bold;\n",
       "  display: inline-block;\n",
       "  line-height: 1.2em;\n",
       "}\n",
       "\n",
       "#sk-container-id-1 div.sk-label-container {\n",
       "  text-align: center;\n",
       "}\n",
       "\n",
       "/* Estimator-specific */\n",
       "#sk-container-id-1 div.sk-estimator {\n",
       "  font-family: monospace;\n",
       "  border: 1px dotted var(--sklearn-color-border-box);\n",
       "  border-radius: 0.25em;\n",
       "  box-sizing: border-box;\n",
       "  margin-bottom: 0.5em;\n",
       "  /* unfitted */\n",
       "  background-color: var(--sklearn-color-unfitted-level-0);\n",
       "}\n",
       "\n",
       "#sk-container-id-1 div.sk-estimator.fitted {\n",
       "  /* fitted */\n",
       "  background-color: var(--sklearn-color-fitted-level-0);\n",
       "}\n",
       "\n",
       "/* on hover */\n",
       "#sk-container-id-1 div.sk-estimator:hover {\n",
       "  /* unfitted */\n",
       "  background-color: var(--sklearn-color-unfitted-level-2);\n",
       "}\n",
       "\n",
       "#sk-container-id-1 div.sk-estimator.fitted:hover {\n",
       "  /* fitted */\n",
       "  background-color: var(--sklearn-color-fitted-level-2);\n",
       "}\n",
       "\n",
       "/* Specification for estimator info (e.g. \"i\" and \"?\") */\n",
       "\n",
       "/* Common style for \"i\" and \"?\" */\n",
       "\n",
       ".sk-estimator-doc-link,\n",
       "a:link.sk-estimator-doc-link,\n",
       "a:visited.sk-estimator-doc-link {\n",
       "  float: right;\n",
       "  font-size: smaller;\n",
       "  line-height: 1em;\n",
       "  font-family: monospace;\n",
       "  background-color: var(--sklearn-color-background);\n",
       "  border-radius: 1em;\n",
       "  height: 1em;\n",
       "  width: 1em;\n",
       "  text-decoration: none !important;\n",
       "  margin-left: 1ex;\n",
       "  /* unfitted */\n",
       "  border: var(--sklearn-color-unfitted-level-1) 1pt solid;\n",
       "  color: var(--sklearn-color-unfitted-level-1);\n",
       "}\n",
       "\n",
       ".sk-estimator-doc-link.fitted,\n",
       "a:link.sk-estimator-doc-link.fitted,\n",
       "a:visited.sk-estimator-doc-link.fitted {\n",
       "  /* fitted */\n",
       "  border: var(--sklearn-color-fitted-level-1) 1pt solid;\n",
       "  color: var(--sklearn-color-fitted-level-1);\n",
       "}\n",
       "\n",
       "/* On hover */\n",
       "div.sk-estimator:hover .sk-estimator-doc-link:hover,\n",
       ".sk-estimator-doc-link:hover,\n",
       "div.sk-label-container:hover .sk-estimator-doc-link:hover,\n",
       ".sk-estimator-doc-link:hover {\n",
       "  /* unfitted */\n",
       "  background-color: var(--sklearn-color-unfitted-level-3);\n",
       "  color: var(--sklearn-color-background);\n",
       "  text-decoration: none;\n",
       "}\n",
       "\n",
       "div.sk-estimator.fitted:hover .sk-estimator-doc-link.fitted:hover,\n",
       ".sk-estimator-doc-link.fitted:hover,\n",
       "div.sk-label-container:hover .sk-estimator-doc-link.fitted:hover,\n",
       ".sk-estimator-doc-link.fitted:hover {\n",
       "  /* fitted */\n",
       "  background-color: var(--sklearn-color-fitted-level-3);\n",
       "  color: var(--sklearn-color-background);\n",
       "  text-decoration: none;\n",
       "}\n",
       "\n",
       "/* Span, style for the box shown on hovering the info icon */\n",
       ".sk-estimator-doc-link span {\n",
       "  display: none;\n",
       "  z-index: 9999;\n",
       "  position: relative;\n",
       "  font-weight: normal;\n",
       "  right: .2ex;\n",
       "  padding: .5ex;\n",
       "  margin: .5ex;\n",
       "  width: min-content;\n",
       "  min-width: 20ex;\n",
       "  max-width: 50ex;\n",
       "  color: var(--sklearn-color-text);\n",
       "  box-shadow: 2pt 2pt 4pt #999;\n",
       "  /* unfitted */\n",
       "  background: var(--sklearn-color-unfitted-level-0);\n",
       "  border: .5pt solid var(--sklearn-color-unfitted-level-3);\n",
       "}\n",
       "\n",
       ".sk-estimator-doc-link.fitted span {\n",
       "  /* fitted */\n",
       "  background: var(--sklearn-color-fitted-level-0);\n",
       "  border: var(--sklearn-color-fitted-level-3);\n",
       "}\n",
       "\n",
       ".sk-estimator-doc-link:hover span {\n",
       "  display: block;\n",
       "}\n",
       "\n",
       "/* \"?\"-specific style due to the `<a>` HTML tag */\n",
       "\n",
       "#sk-container-id-1 a.estimator_doc_link {\n",
       "  float: right;\n",
       "  font-size: 1rem;\n",
       "  line-height: 1em;\n",
       "  font-family: monospace;\n",
       "  background-color: var(--sklearn-color-background);\n",
       "  border-radius: 1rem;\n",
       "  height: 1rem;\n",
       "  width: 1rem;\n",
       "  text-decoration: none;\n",
       "  /* unfitted */\n",
       "  color: var(--sklearn-color-unfitted-level-1);\n",
       "  border: var(--sklearn-color-unfitted-level-1) 1pt solid;\n",
       "}\n",
       "\n",
       "#sk-container-id-1 a.estimator_doc_link.fitted {\n",
       "  /* fitted */\n",
       "  border: var(--sklearn-color-fitted-level-1) 1pt solid;\n",
       "  color: var(--sklearn-color-fitted-level-1);\n",
       "}\n",
       "\n",
       "/* On hover */\n",
       "#sk-container-id-1 a.estimator_doc_link:hover {\n",
       "  /* unfitted */\n",
       "  background-color: var(--sklearn-color-unfitted-level-3);\n",
       "  color: var(--sklearn-color-background);\n",
       "  text-decoration: none;\n",
       "}\n",
       "\n",
       "#sk-container-id-1 a.estimator_doc_link.fitted:hover {\n",
       "  /* fitted */\n",
       "  background-color: var(--sklearn-color-fitted-level-3);\n",
       "}\n",
       "</style><div id=\"sk-container-id-1\" class=\"sk-top-container\"><div class=\"sk-text-repr-fallback\"><pre>GridSearchCV(cv=3, estimator=RandomForestClassifier(random_state=42),\n",
       "             param_grid={&#x27;criterion&#x27;: [&#x27;entropy&#x27;, &#x27;gini&#x27;],\n",
       "                         &#x27;max_depth&#x27;: array([3, 4, 5, 6]),\n",
       "                         &#x27;min_samples_leaf&#x27;: [1], &#x27;min_samples_split&#x27;: [2],\n",
       "                         &#x27;n_estimators&#x27;: [20, 50, 100]})</pre><b>In a Jupyter environment, please rerun this cell to show the HTML representation or trust the notebook. <br />On GitHub, the HTML representation is unable to render, please try loading this page with nbviewer.org.</b></div><div class=\"sk-container\" hidden><div class=\"sk-item sk-dashed-wrapped\"><div class=\"sk-label-container\"><div class=\"sk-label fitted sk-toggleable\"><input class=\"sk-toggleable__control sk-hidden--visually\" id=\"sk-estimator-id-1\" type=\"checkbox\" ><label for=\"sk-estimator-id-1\" class=\"sk-toggleable__label fitted sk-toggleable__label-arrow fitted\">&nbsp;&nbsp;GridSearchCV<a class=\"sk-estimator-doc-link fitted\" rel=\"noreferrer\" target=\"_blank\" href=\"https://scikit-learn.org/1.5/modules/generated/sklearn.model_selection.GridSearchCV.html\">?<span>Documentation for GridSearchCV</span></a><span class=\"sk-estimator-doc-link fitted\">i<span>Fitted</span></span></label><div class=\"sk-toggleable__content fitted\"><pre>GridSearchCV(cv=3, estimator=RandomForestClassifier(random_state=42),\n",
       "             param_grid={&#x27;criterion&#x27;: [&#x27;entropy&#x27;, &#x27;gini&#x27;],\n",
       "                         &#x27;max_depth&#x27;: array([3, 4, 5, 6]),\n",
       "                         &#x27;min_samples_leaf&#x27;: [1], &#x27;min_samples_split&#x27;: [2],\n",
       "                         &#x27;n_estimators&#x27;: [20, 50, 100]})</pre></div> </div></div><div class=\"sk-parallel\"><div class=\"sk-parallel-item\"><div class=\"sk-item\"><div class=\"sk-label-container\"><div class=\"sk-label fitted sk-toggleable\"><input class=\"sk-toggleable__control sk-hidden--visually\" id=\"sk-estimator-id-2\" type=\"checkbox\" ><label for=\"sk-estimator-id-2\" class=\"sk-toggleable__label fitted sk-toggleable__label-arrow fitted\">best_estimator_: RandomForestClassifier</label><div class=\"sk-toggleable__content fitted\"><pre>RandomForestClassifier(max_depth=6, random_state=42)</pre></div> </div></div><div class=\"sk-serial\"><div class=\"sk-item\"><div class=\"sk-estimator fitted sk-toggleable\"><input class=\"sk-toggleable__control sk-hidden--visually\" id=\"sk-estimator-id-3\" type=\"checkbox\" ><label for=\"sk-estimator-id-3\" class=\"sk-toggleable__label fitted sk-toggleable__label-arrow fitted\">&nbsp;RandomForestClassifier<a class=\"sk-estimator-doc-link fitted\" rel=\"noreferrer\" target=\"_blank\" href=\"https://scikit-learn.org/1.5/modules/generated/sklearn.ensemble.RandomForestClassifier.html\">?<span>Documentation for RandomForestClassifier</span></a></label><div class=\"sk-toggleable__content fitted\"><pre>RandomForestClassifier(max_depth=6, random_state=42)</pre></div> </div></div></div></div></div></div></div></div></div>"
      ],
      "text/plain": [
       "GridSearchCV(cv=3, estimator=RandomForestClassifier(random_state=42),\n",
       "             param_grid={'criterion': ['entropy', 'gini'],\n",
       "                         'max_depth': array([3, 4, 5, 6]),\n",
       "                         'min_samples_leaf': [1], 'min_samples_split': [2],\n",
       "                         'n_estimators': [20, 50, 100]})"
      ]
     },
     "execution_count": 46,
     "metadata": {},
     "output_type": "execute_result"
    }
   ],
   "source": [
    "# Fit a Random Forest classifier using a grid search (via cross validation) on the training data\n",
    "clf = GridSearchCV(RandomForestClassifier(random_state=42), parameters, cv=3)\n",
    "clf.fit(X_train, y_train)"
   ]
  },
  {
   "cell_type": "code",
   "execution_count": 47,
   "id": "02334546-cc3a-4d8b-8968-a72243966166",
   "metadata": {
    "execution": {
     "iopub.execute_input": "2025-03-17T21:46:14.126324Z",
     "iopub.status.busy": "2025-03-17T21:46:14.126007Z",
     "iopub.status.idle": "2025-03-17T21:46:14.217166Z",
     "shell.execute_reply": "2025-03-17T21:46:14.214824Z",
     "shell.execute_reply.started": "2025-03-17T21:46:14.126294Z"
    }
   },
   "outputs": [],
   "source": [
    "# Since we're using the bootstrap over the test set, it's important to resample the same size (test_size), randomly, with replacement (replace=True)\n",
    "test_size = len(X_test)\n",
    "B = 100\n",
    "\n",
    "# Generate B samples with replacement\n",
    "samples = [resample(X_test, y_test, replace=True, n_samples=test_size) for b in range(B)]"
   ]
  },
  {
   "cell_type": "code",
   "execution_count": 48,
   "id": "9b195725-4a49-417d-9bde-1d6f65145d4e",
   "metadata": {
    "execution": {
     "iopub.execute_input": "2025-03-17T21:46:14.219522Z",
     "iopub.status.busy": "2025-03-17T21:46:14.219218Z",
     "iopub.status.idle": "2025-03-17T21:46:16.047197Z",
     "shell.execute_reply": "2025-03-17T21:46:16.045010Z",
     "shell.execute_reply.started": "2025-03-17T21:46:14.219495Z"
    }
   },
   "outputs": [],
   "source": [
    "# Compute the accuracy and the AUC for each bootstrapped sample\n",
    "accuracies_split_bootstrap = [clf.score(X_b, y_b) for X_b, y_b in samples]\n",
    "AUC_split_bootstrap = [roc_auc_score(y_b, clf.predict_proba(X_b)[:, 1]) for X_b, y_b in samples]"
   ]
  },
  {
   "cell_type": "code",
   "execution_count": 49,
   "id": "775046c4-64dd-48eb-86a4-b590963c0a16",
   "metadata": {
    "execution": {
     "iopub.execute_input": "2025-03-17T21:46:16.048888Z",
     "iopub.status.busy": "2025-03-17T21:46:16.048527Z",
     "iopub.status.idle": "2025-03-17T21:46:16.058491Z",
     "shell.execute_reply": "2025-03-17T21:46:16.056868Z",
     "shell.execute_reply.started": "2025-03-17T21:46:16.048857Z"
    }
   },
   "outputs": [
    {
     "name": "stdout",
     "output_type": "stream",
     "text": [
      "Accuracy standard deviation with split + bootstrapping: 0.059\n",
      "AUC standard deviation with split + bootstrapping: 0.074\n"
     ]
    }
   ],
   "source": [
    "# Compute the standard deviation of the accuracies and AUC scores across bootstraps\n",
    "print(f'Accuracy standard deviation with split + bootstrapping: {np.std(accuracies_split_bootstrap):.3f}')\n",
    "print(f'AUC standard deviation with split + bootstrapping: {np.std(AUC_split_bootstrap):.3f}')"
   ]
  },
  {
   "cell_type": "code",
   "execution_count": 50,
   "id": "dd42ab4a-2854-4376-8bf1-24731453e6c9",
   "metadata": {
    "execution": {
     "iopub.execute_input": "2025-03-17T21:46:16.059782Z",
     "iopub.status.busy": "2025-03-17T21:46:16.059451Z",
     "iopub.status.idle": "2025-03-17T21:46:16.105025Z",
     "shell.execute_reply": "2025-03-17T21:46:16.103020Z",
     "shell.execute_reply.started": "2025-03-17T21:46:16.059751Z"
    }
   },
   "outputs": [],
   "source": [
    "# Group scores in a DataFrame for visualization with error bars\n",
    "split_bootstrap_df = pd.DataFrame({'Accuracy': accuracies_split_bootstrap, 'AUC': AUC_split_bootstrap, 'Method': ['split_bootstrap'] * B})"
   ]
  },
  {
   "cell_type": "markdown",
   "id": "8b8a810d-6aca-4c6a-a742-71abd10e7c4b",
   "metadata": {},
   "source": [
    "### Visualizing uncertainty"
   ]
  },
  {
   "cell_type": "code",
   "execution_count": 51,
   "id": "905596eb-b858-4401-9fed-408721198b4f",
   "metadata": {
    "execution": {
     "iopub.execute_input": "2025-03-17T21:46:16.108687Z",
     "iopub.status.busy": "2025-03-17T21:46:16.107848Z",
     "iopub.status.idle": "2025-03-17T21:46:16.182281Z",
     "shell.execute_reply": "2025-03-17T21:46:16.180237Z",
     "shell.execute_reply.started": "2025-03-17T21:46:16.108579Z"
    }
   },
   "outputs": [
    {
     "data": {
      "text/html": [
       "<div>\n",
       "<style scoped>\n",
       "    .dataframe tbody tr th:only-of-type {\n",
       "        vertical-align: middle;\n",
       "    }\n",
       "\n",
       "    .dataframe tbody tr th {\n",
       "        vertical-align: top;\n",
       "    }\n",
       "\n",
       "    .dataframe thead th {\n",
       "        text-align: right;\n",
       "    }\n",
       "</style>\n",
       "<table border=\"1\" class=\"dataframe\">\n",
       "  <thead>\n",
       "    <tr style=\"text-align: right;\">\n",
       "      <th></th>\n",
       "      <th>Accuracy</th>\n",
       "      <th>AUC</th>\n",
       "      <th>Method</th>\n",
       "    </tr>\n",
       "  </thead>\n",
       "  <tbody>\n",
       "    <tr>\n",
       "      <th>0</th>\n",
       "      <td>0.717949</td>\n",
       "      <td>0.704187</td>\n",
       "      <td>nested cv</td>\n",
       "    </tr>\n",
       "    <tr>\n",
       "      <th>1</th>\n",
       "      <td>0.666667</td>\n",
       "      <td>0.674674</td>\n",
       "      <td>nested cv</td>\n",
       "    </tr>\n",
       "    <tr>\n",
       "      <th>2</th>\n",
       "      <td>0.692308</td>\n",
       "      <td>0.652711</td>\n",
       "      <td>nested cv</td>\n",
       "    </tr>\n",
       "    <tr>\n",
       "      <th>0</th>\n",
       "      <td>0.688971</td>\n",
       "      <td>NaN</td>\n",
       "      <td>.632 bootstrap</td>\n",
       "    </tr>\n",
       "    <tr>\n",
       "      <th>1</th>\n",
       "      <td>0.938445</td>\n",
       "      <td>NaN</td>\n",
       "      <td>.632 bootstrap</td>\n",
       "    </tr>\n",
       "  </tbody>\n",
       "</table>\n",
       "</div>"
      ],
      "text/plain": [
       "   Accuracy       AUC          Method\n",
       "0  0.717949  0.704187       nested cv\n",
       "1  0.666667  0.674674       nested cv\n",
       "2  0.692308  0.652711       nested cv\n",
       "0  0.688971       NaN  .632 bootstrap\n",
       "1  0.938445       NaN  .632 bootstrap"
      ]
     },
     "execution_count": 51,
     "metadata": {},
     "output_type": "execute_result"
    }
   ],
   "source": [
    "df = pd.concat([cv_df.dropna(axis=1, how='all'), \n",
    "                bootstrap_df.dropna(axis=1, how='all'), \n",
    "                split_bootstrap_df.dropna(axis=1, how='all')])\n",
    "df.head()"
   ]
  },
  {
   "cell_type": "markdown",
   "id": "c9cb375c-3254-4c5c-8695-d3b2872efefd",
   "metadata": {},
   "source": [
    "Here, the error bars represent the 95% confidence intervals across our three experiments (cross validation, bootstrap, train-test split + bootrap)."
   ]
  },
  {
   "cell_type": "code",
   "execution_count": 52,
   "id": "9fcd03fa-6078-4659-b73c-6b094f7d55f1",
   "metadata": {
    "execution": {
     "iopub.execute_input": "2025-03-17T21:46:16.186565Z",
     "iopub.status.busy": "2025-03-17T21:46:16.185699Z",
     "iopub.status.idle": "2025-03-17T21:46:16.575364Z",
     "shell.execute_reply": "2025-03-17T21:46:16.573468Z",
     "shell.execute_reply.started": "2025-03-17T21:46:16.186489Z"
    }
   },
   "outputs": [
    {
     "data": {
      "text/plain": [
       "<Axes: xlabel='Method', ylabel='Accuracy'>"
      ]
     },
     "execution_count": 52,
     "metadata": {},
     "output_type": "execute_result"
    },
    {
     "data": {
      "image/png": "[encoded data removed]",
      "text/plain": [
       "<Figure size 640x480 with 1 Axes>"
      ]
     },
     "metadata": {},
     "output_type": "display_data"
    }
   ],
   "source": [
    "sns.barplot(x='Method', y='Accuracy', data=df, errorbar='ci', hue='Method')"
   ]
  },
  {
   "cell_type": "code",
   "execution_count": 53,
   "id": "c343140d-6864-4bf2-a315-f70d6a454818",
   "metadata": {
    "execution": {
     "iopub.execute_input": "2025-03-17T21:46:16.577758Z",
     "iopub.status.busy": "2025-03-17T21:46:16.577342Z",
     "iopub.status.idle": "2025-03-17T21:46:16.906009Z",
     "shell.execute_reply": "2025-03-17T21:46:16.904342Z",
     "shell.execute_reply.started": "2025-03-17T21:46:16.577721Z"
    }
   },
   "outputs": [
    {
     "data": {
      "text/plain": [
       "<Axes: xlabel='Method', ylabel='AUC'>"
      ]
     },
     "execution_count": 53,
     "metadata": {},
     "output_type": "execute_result"
    },
    {
     "data": {
      "image/png": "[encoded data removed]",
      "text/plain": [
       "<Figure size 640x480 with 1 Axes>"
      ]
     },
     "metadata": {},
     "output_type": "display_data"
    }
   ],
   "source": [
    "sns.barplot(x='Method', y='AUC', data=df[df.Method != '.632 bootstrap'], errorbar='ci', hue='Method')"
   ]
  },
  {
   "cell_type": "code",
   "execution_count": null,
   "id": "2f0d87f2-cd59-4209-a9cf-a4f29eba5185",
   "metadata": {},
   "outputs": [],
   "source": []
  }
 ],
 "metadata": {
  "kernelspec": {
   "display_name": "Python3",
   "language": "python",
   "name": "python3"
  },
  "language_info": {
   "codemirror_mode": {
    "name": "ipython",
    "version": 3
   },
   "file_extension": ".py",
   "mimetype": "text/x-python",
   "name": "python",
   "nbconvert_exporter": "python",
   "pygments_lexer": "ipython3",
   "version": "3.12.5"
  }
 },
 "nbformat": 4,
 "nbformat_minor": 5
}
